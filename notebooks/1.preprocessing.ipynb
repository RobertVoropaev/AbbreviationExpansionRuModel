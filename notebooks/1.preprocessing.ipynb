{
 "cells": [
  {
   "cell_type": "markdown",
   "metadata": {},
   "source": [
    "# 1. Подготовка обучающей выборки"
   ]
  },
  {
   "cell_type": "code",
   "execution_count": 1,
   "metadata": {},
   "outputs": [
    {
     "name": "stdout",
     "output_type": "stream",
     "text": [
      "INFO: Pandarallel will run on 8 workers.\n",
      "INFO: Pandarallel will use standard multiprocessing data transfer (pipe) to transfer data between the main process and workers.\n"
     ]
    }
   ],
   "source": [
    "import os\n",
    "import sys\n",
    "import pickle\n",
    "\n",
    "import pandas as pd\n",
    "import numpy as np\n",
    "from matplotlib import pyplot as plt\n",
    "\n",
    "from collections import Counter\n",
    "from tqdm import tqdm\n",
    "from pandarallel import pandarallel\n",
    "\n",
    "import pymorphy2\n",
    "import nltk\n",
    "\n",
    "import seaborn as sns\n",
    "sns.set_style(\"whitegrid\")\n",
    "\n",
    "pd.set_option('display.max_colwidth', 255)\n",
    "tqdm.pandas()\n",
    "pandarallel.initialize(progress_bar=True, nb_workers=8, use_memory_fs=False)"
   ]
  },
  {
   "cell_type": "markdown",
   "metadata": {},
   "source": [
    "## 1. Загрузка данных "
   ]
  },
  {
   "cell_type": "code",
   "execution_count": 2,
   "metadata": {},
   "outputs": [
    {
     "name": "stderr",
     "output_type": "stream",
     "text": [
      "<ipython-input-2-c300cdb3f553>:2: DtypeWarning: Columns (3) have mixed types. Specify dtype option on import or set low_memory=False.\n",
      "  lenta = pd.read_csv(\"../input/lenta-ru-news.csv\")\n"
     ]
    }
   ],
   "source": [
    "abbr = pd.read_csv(\"../input/abbr_dict.csv\", sep=\"\\t\")\n",
    "lenta = pd.read_csv(\"../input/lenta-ru-news.csv\")"
   ]
  },
  {
   "cell_type": "markdown",
   "metadata": {},
   "source": [
    "## 2. Токенизация и лемматизация"
   ]
  },
  {
   "cell_type": "markdown",
   "metadata": {},
   "source": [
    "Произведём предобработку входных данных с помощью токенизации и лематизации.\n",
    "\n",
    "Для лематизации будем использовать только словарный анализатор для избежания искажения сокращений."
   ]
  },
  {
   "cell_type": "code",
   "execution_count": 3,
   "metadata": {},
   "outputs": [],
   "source": [
    "tokenizer = nltk.RegexpTokenizer(r'\\w+')\n",
    "def tokenize(line):\n",
    "    return tokenizer.tokenize(str(line).lower())\n",
    "\n",
    "morph = pymorphy2.MorphAnalyzer(lang=\"ru\", \n",
    "                                units=[pymorphy2.units.DictionaryAnalyzer()])\n",
    "def normalize(word):\n",
    "    parse_list = morph.parse(str(word))\n",
    "    if parse_list != []:\n",
    "        return parse_list[0].normal_form\n",
    "    else:\n",
    "        return word.lower()\n",
    "\n",
    "def get_tokenized_normal_form(line):\n",
    "    new_line_arr = []\n",
    "    for token in tokenize(line):\n",
    "        new_line_arr.append(normalize(token))\n",
    "    return \" \".join(new_line_arr)"
   ]
  },
  {
   "cell_type": "code",
   "execution_count": 4,
   "metadata": {},
   "outputs": [
    {
     "data": {
      "application/vnd.jupyter.widget-view+json": {
       "model_id": "faa3e09dc2cd43eca566393e96c23def",
       "version_major": 2,
       "version_minor": 0
      },
      "text/plain": [
       "VBox(children=(HBox(children=(IntProgress(value=0, description='0.00%', max=10692), Label(value='0 / 10692')))…"
      ]
     },
     "metadata": {},
     "output_type": "display_data"
    }
   ],
   "source": [
    "abbr[\"desc_norm\"] = abbr[\"desc\"].parallel_apply(get_tokenized_normal_form)\n",
    "abbr[\"desc_len\"] = abbr[\"desc_norm\"].str.split(\" \").str.len()"
   ]
  },
  {
   "cell_type": "code",
   "execution_count": 5,
   "metadata": {},
   "outputs": [
    {
     "data": {
      "application/vnd.jupyter.widget-view+json": {
       "model_id": "6152d68e181b401dabf33ffd80dd1214",
       "version_major": 2,
       "version_minor": 0
      },
      "text/plain": [
       "VBox(children=(HBox(children=(IntProgress(value=0, description='0.00%', max=10692), Label(value='0 / 10692')))…"
      ]
     },
     "metadata": {},
     "output_type": "display_data"
    }
   ],
   "source": [
    "abbr[\"abbr_norm\"] = abbr[\"abbr\"].parallel_apply(get_tokenized_normal_form)\n",
    "abbr[\"abbr_len\"] = abbr[\"abbr_norm\"].str.split(\" \").str.len()"
   ]
  },
  {
   "cell_type": "code",
   "execution_count": 6,
   "metadata": {},
   "outputs": [
    {
     "data": {
      "application/vnd.jupyter.widget-view+json": {
       "model_id": "f083756cb9144149912984139af07356",
       "version_major": 2,
       "version_minor": 0
      },
      "text/plain": [
       "VBox(children=(HBox(children=(IntProgress(value=0, description='0.00%', max=100122), Label(value='0 / 100122')…"
      ]
     },
     "metadata": {},
     "output_type": "display_data"
    }
   ],
   "source": [
    "lenta[\"text_norm\"] = lenta[\"text\"].parallel_apply(get_tokenized_normal_form)\n",
    "lenta[\"text_len\"] = lenta[\"text_norm\"].str.split(\" \").str.len()"
   ]
  },
  {
   "cell_type": "code",
   "execution_count": 7,
   "metadata": {},
   "outputs": [
    {
     "data": {
      "application/vnd.jupyter.widget-view+json": {
       "model_id": "f6dec34d59994f79bb86c6286f41af41",
       "version_major": 2,
       "version_minor": 0
      },
      "text/plain": [
       "VBox(children=(HBox(children=(IntProgress(value=0, description='0.00%', max=10692), Label(value='0 / 10692')))…"
      ]
     },
     "metadata": {},
     "output_type": "display_data"
    },
    {
     "data": {
      "application/vnd.jupyter.widget-view+json": {
       "model_id": "60f7ee31d119482db08361d3862e68a9",
       "version_major": 2,
       "version_minor": 0
      },
      "text/plain": [
       "VBox(children=(HBox(children=(IntProgress(value=0, description='0.00%', max=10692), Label(value='0 / 10692')))…"
      ]
     },
     "metadata": {},
     "output_type": "display_data"
    }
   ],
   "source": [
    "REDUCE_COEF = 0.1\n",
    "global_texts = (\n",
    "    \" \" + \n",
    "    \" \".join(lenta[\"text_norm\"].sample(int(lenta.shape[0] * REDUCE_COEF)).to_list()) + \n",
    "    \" \"\n",
    ")\n",
    "\n",
    "abbr[\"abbr_count\"] = abbr[\"abbr_norm\"].parallel_apply(lambda x: global_texts.count(f\" {x} \"))\n",
    "abbr[\"desc_count\"] = abbr[\"desc_norm\"].parallel_apply(lambda x: global_texts.count(f\" {x} \"))"
   ]
  },
  {
   "cell_type": "markdown",
   "metadata": {},
   "source": [
    "## 3. Ограничение размеров "
   ]
  },
  {
   "cell_type": "markdown",
   "metadata": {},
   "source": [
    "### Сокращения "
   ]
  },
  {
   "cell_type": "code",
   "execution_count": 24,
   "metadata": {},
   "outputs": [
    {
     "data": {
      "image/png": "[encoded data removed]",
      "text/plain": [
       "<Figure size 1008x504 with 2 Axes>"
      ]
     },
     "metadata": {},
     "output_type": "display_data"
    }
   ],
   "source": [
    "plt.figure(figsize=(14, 7))\n",
    "\n",
    "plt.subplot(1, 2, 1)\n",
    "abbr.abbr_len.hist(bins=7)\n",
    "plt.title(\"Гистограмма длины сокращений\")\n",
    "plt.xlabel(\"слов\")\n",
    "\n",
    "plt.subplot(1, 2, 2)\n",
    "abbr[\"abbr_norm\"].str.len().hist(bins=30)\n",
    "plt.xlim(0, 20)\n",
    "plt.title(\"Гистограмма длины сокращений\")\n",
    "plt.xlabel(\"символов\")\n",
    "plt.show()"
   ]
  },
  {
   "cell_type": "code",
   "execution_count": 25,
   "metadata": {},
   "outputs": [
    {
     "data": {
      "image/png": "[encoded data removed]",
      "text/plain": [
       "<Figure size 504x504 with 1 Axes>"
      ]
     },
     "metadata": {},
     "output_type": "display_data"
    }
   ],
   "source": [
    "plt.figure(figsize=(7, 7))\n",
    "abbr.desc_len.hist(bins=50)\n",
    "plt.xlim(0, 15)\n",
    "plt.title(\"Гистограмма длины определений\")\n",
    "plt.xlabel(\"слов\")\n",
    "plt.show()"
   ]
  },
  {
   "cell_type": "code",
   "execution_count": 39,
   "metadata": {},
   "outputs": [
    {
     "data": {
      "image/png": "[encoded data removed]",
      "text/plain": [
       "<Figure size 1008x504 with 2 Axes>"
      ]
     },
     "metadata": {},
     "output_type": "display_data"
    }
   ],
   "source": [
    "plt.figure(figsize=(14, 7))\n",
    "\n",
    "plt.subplot(1, 2, 1)\n",
    "abbr[abbr[\"abbr_count\"].between(10, 100)][\"abbr_count\"].hist(bins=90)\n",
    "plt.xlim(10, 100)\n",
    "plt.title(\"Гистограмма количества встречаний аббривиатуры в текстах\")\n",
    "plt.xlabel(\"слов\")\n",
    "\n",
    "plt.subplot(1, 2, 2)\n",
    "abbr[abbr[\"desc_count\"].between(10, 100)][\"desc_count\"].hist(bins=90)\n",
    "plt.xlim(10, 100)\n",
    "plt.title(\"Гистограмма количества встречаний аббривиатуры в текстах\")\n",
    "plt.xlabel(\"слов\")\n",
    "plt.show()"
   ]
  },
  {
   "cell_type": "code",
   "execution_count": 65,
   "metadata": {},
   "outputs": [
    {
     "name": "stdout",
     "output_type": "stream",
     "text": [
      "Abbr len filter 0.926825276202724\n",
      "Desc len filter 0.994095984100076\n",
      "Abbr char len filter 0.990506810077746\n",
      "Stopwords filter 0.9899222540480505\n",
      "Dict filter 0.8388729759747472\n",
      "Abbr count filter 0.32071082013210966\n",
      "Desc count filter 0.06669784298825042\n",
      "ALL filter 0.015186765651487695\n"
     ]
    },
    {
     "data": {
      "text/html": [
       "<div>\n",
       "<style scoped>\n",
       "    .dataframe tbody tr th:only-of-type {\n",
       "        vertical-align: middle;\n",
       "    }\n",
       "\n",
       "    .dataframe tbody tr th {\n",
       "        vertical-align: top;\n",
       "    }\n",
       "\n",
       "    .dataframe thead th {\n",
       "        text-align: right;\n",
       "    }\n",
       "</style>\n",
       "<table border=\"1\" class=\"dataframe\">\n",
       "  <thead>\n",
       "    <tr style=\"text-align: right;\">\n",
       "      <th></th>\n",
       "      <th>abbr</th>\n",
       "      <th>desc</th>\n",
       "      <th>tags</th>\n",
       "      <th>desc_norm</th>\n",
       "      <th>desc_len</th>\n",
       "      <th>abbr_norm</th>\n",
       "      <th>abbr_len</th>\n",
       "      <th>abbr_count</th>\n",
       "      <th>desc_count</th>\n",
       "    </tr>\n",
       "  </thead>\n",
       "  <tbody>\n",
       "    <tr>\n",
       "      <th>28</th>\n",
       "      <td>замгенпрокурора</td>\n",
       "      <td>заместитель генерального прокурора</td>\n",
       "      <td>None</td>\n",
       "      <td>заместитель генеральный прокурор</td>\n",
       "      <td>3</td>\n",
       "      <td>замгенпрокурора</td>\n",
       "      <td>1</td>\n",
       "      <td>48</td>\n",
       "      <td>65</td>\n",
       "    </tr>\n",
       "    <tr>\n",
       "      <th>43</th>\n",
       "      <td>РС</td>\n",
       "      <td>реактивный снаряд</td>\n",
       "      <td>None</td>\n",
       "      <td>реактивный снаряд</td>\n",
       "      <td>2</td>\n",
       "      <td>рс</td>\n",
       "      <td>1</td>\n",
       "      <td>65</td>\n",
       "      <td>33</td>\n",
       "    </tr>\n",
       "    <tr>\n",
       "      <th>125</th>\n",
       "      <td>СКОВС</td>\n",
       "      <td>Северо-Кавказский окружной военный суд</td>\n",
       "      <td>воен.</td>\n",
       "      <td>северо кавказский окружный военный суд</td>\n",
       "      <td>5</td>\n",
       "      <td>сковс</td>\n",
       "      <td>1</td>\n",
       "      <td>2</td>\n",
       "      <td>35</td>\n",
       "    </tr>\n",
       "    <tr>\n",
       "      <th>363</th>\n",
       "      <td>кл</td>\n",
       "      <td>клавиатура</td>\n",
       "      <td>авиа, жарг., комп.</td>\n",
       "      <td>клавиатура</td>\n",
       "      <td>1</td>\n",
       "      <td>кл</td>\n",
       "      <td>1</td>\n",
       "      <td>1</td>\n",
       "      <td>135</td>\n",
       "    </tr>\n",
       "    <tr>\n",
       "      <th>482</th>\n",
       "      <td>ТС</td>\n",
       "      <td>«Транспортные системы»</td>\n",
       "      <td>организация, транспорт</td>\n",
       "      <td>транспортный система</td>\n",
       "      <td>2</td>\n",
       "      <td>тс</td>\n",
       "      <td>1</td>\n",
       "      <td>32</td>\n",
       "      <td>57</td>\n",
       "    </tr>\n",
       "    <tr>\n",
       "      <th>...</th>\n",
       "      <td>...</td>\n",
       "      <td>...</td>\n",
       "      <td>...</td>\n",
       "      <td>...</td>\n",
       "      <td>...</td>\n",
       "      <td>...</td>\n",
       "      <td>...</td>\n",
       "      <td>...</td>\n",
       "      <td>...</td>\n",
       "    </tr>\n",
       "    <tr>\n",
       "      <th>85420</th>\n",
       "      <td>ЦВЕ</td>\n",
       "      <td>Центральная и Восточная Европа;</td>\n",
       "      <td>None</td>\n",
       "      <td>центральный и восточный европа</td>\n",
       "      <td>4</td>\n",
       "      <td>цве</td>\n",
       "      <td>1</td>\n",
       "      <td>2</td>\n",
       "      <td>51</td>\n",
       "    </tr>\n",
       "    <tr>\n",
       "      <th>85422</th>\n",
       "      <td>АК</td>\n",
       "      <td>авиационный комплекс</td>\n",
       "      <td>авиа</td>\n",
       "      <td>авиационный комплекс</td>\n",
       "      <td>2</td>\n",
       "      <td>ак</td>\n",
       "      <td>1</td>\n",
       "      <td>388</td>\n",
       "      <td>33</td>\n",
       "    </tr>\n",
       "    <tr>\n",
       "      <th>85457</th>\n",
       "      <td>НАО</td>\n",
       "      <td>Ненецкий автономный округ</td>\n",
       "      <td>Ненецкий АО</td>\n",
       "      <td>ненецкий автономный округ</td>\n",
       "      <td>3</td>\n",
       "      <td>нао</td>\n",
       "      <td>1</td>\n",
       "      <td>18</td>\n",
       "      <td>128</td>\n",
       "    </tr>\n",
       "    <tr>\n",
       "      <th>85467</th>\n",
       "      <td>инстр.</td>\n",
       "      <td>инструкция</td>\n",
       "      <td>None</td>\n",
       "      <td>инструкция</td>\n",
       "      <td>1</td>\n",
       "      <td>инстр</td>\n",
       "      <td>1</td>\n",
       "      <td>2</td>\n",
       "      <td>312</td>\n",
       "    </tr>\n",
       "    <tr>\n",
       "      <th>85534</th>\n",
       "      <td>сх.</td>\n",
       "      <td>схема</td>\n",
       "      <td>None</td>\n",
       "      <td>схема</td>\n",
       "      <td>1</td>\n",
       "      <td>сх</td>\n",
       "      <td>1</td>\n",
       "      <td>1</td>\n",
       "      <td>1010</td>\n",
       "    </tr>\n",
       "  </tbody>\n",
       "</table>\n",
       "<p>1299 rows × 9 columns</p>\n",
       "</div>"
      ],
      "text/plain": [
       "                  abbr                                    desc  \\\n",
       "28     замгенпрокурора      заместитель генерального прокурора   \n",
       "43                  РС                       реактивный снаряд   \n",
       "125              СКОВС  Северо-Кавказский окружной военный суд   \n",
       "363                 кл                              клавиатура   \n",
       "482                 ТС                  «Транспортные системы»   \n",
       "...                ...                                     ...   \n",
       "85420              ЦВЕ         Центральная и Восточная Европа;   \n",
       "85422               АК                    авиационный комплекс   \n",
       "85457              НАО               Ненецкий автономный округ   \n",
       "85467           инстр.                              инструкция   \n",
       "85534              сх.                                   схема   \n",
       "\n",
       "                         tags                               desc_norm  \\\n",
       "28                       None        заместитель генеральный прокурор   \n",
       "43                       None                       реактивный снаряд   \n",
       "125                     воен.  северо кавказский окружный военный суд   \n",
       "363        авиа, жарг., комп.                              клавиатура   \n",
       "482    организация, транспорт                    транспортный система   \n",
       "...                       ...                                     ...   \n",
       "85420                    None          центральный и восточный европа   \n",
       "85422                    авиа                    авиационный комплекс   \n",
       "85457             Ненецкий АО               ненецкий автономный округ   \n",
       "85467                    None                              инструкция   \n",
       "85534                    None                                   схема   \n",
       "\n",
       "       desc_len        abbr_norm  abbr_len  abbr_count  desc_count  \n",
       "28            3  замгенпрокурора         1          48          65  \n",
       "43            2               рс         1          65          33  \n",
       "125           5            сковс         1           2          35  \n",
       "363           1               кл         1           1         135  \n",
       "482           2               тс         1          32          57  \n",
       "...         ...              ...       ...         ...         ...  \n",
       "85420         4              цве         1           2          51  \n",
       "85422         2               ак         1         388          33  \n",
       "85457         3              нао         1          18         128  \n",
       "85467         1            инстр         1           2         312  \n",
       "85534         1               сх         1           1        1010  \n",
       "\n",
       "[1299 rows x 9 columns]"
      ]
     },
     "execution_count": 65,
     "metadata": {},
     "output_type": "execute_result"
    }
   ],
   "source": [
    "ABBR_LEN_MAX = 1\n",
    "print(\"Abbr len filter\", (abbr[\"abbr_len\"] <= ABBR_LEN_MAX).sum() / abbr.shape[0])\n",
    "\n",
    "DESC_LEN_MAX = 12\n",
    "print(\"Desc len filter\", (abbr[\"desc_len\"] <= DESC_LEN_MAX).sum() / abbr.shape[0])\n",
    "\n",
    "ABBR_CHAR_LEN_MIN = 2\n",
    "print(\"Abbr char len filter\", (abbr[\"abbr_norm\"].str.len() >= ABBR_CHAR_LEN_MIN).sum() / abbr.shape[0])\n",
    "\n",
    "from nltk.corpus import stopwords\n",
    "stopwords.words(\"russian\")\n",
    "print(\"Stopwords filter\", (~abbr[\"abbr_norm\"].isin(stopwords.words(\"russian\"))).sum() / abbr.shape[0])\n",
    "\n",
    "print(\"Dict filter\", abbr[\"abbr_norm\"].apply(lambda x: not morph.dictionary.word_is_known(x)).sum() / abbr.shape[0])\n",
    "\n",
    "ABBR_MIN_COUNT_IN_TEXTS = 1\n",
    "print(\"Abbr count filter\", (abbr[\"abbr_count\"] >= ABBR_MIN_COUNT_IN_TEXTS).sum() / abbr.shape[0])\n",
    "\n",
    "DESC_MIN_COUNT_IN_TEXTS = 20\n",
    "print(\"Desc count filter\", (abbr[\"desc_count\"] >= DESC_MIN_COUNT_IN_TEXTS).sum() / abbr.shape[0])\n",
    "\n",
    "abbr_filt = abbr[(abbr[\"abbr_len\"] <= ABBR_LEN_MAX) & \n",
    "                 (abbr[\"desc_len\"] <= DESC_LEN_MAX) &\n",
    "                 (abbr[\"abbr_norm\"].str.len() >= ABBR_CHAR_LEN_MIN) &\n",
    "                 (~abbr[\"abbr_norm\"].isin(stopwords.words(\"russian\"))) &\n",
    "                 (abbr[\"abbr_norm\"].apply(lambda x: not morph.dictionary.word_is_known(x))) &\n",
    "                 (abbr[\"abbr_count\"] >= ABBR_MIN_COUNT_IN_TEXTS) &\n",
    "                 (abbr[\"desc_count\"] >= DESC_MIN_COUNT_IN_TEXTS)]\n",
    "print(\"ALL filter\", abbr_filt.shape[0] / abbr.shape[0])\n",
    "abbr_filt"
   ]
  },
  {
   "cell_type": "markdown",
   "metadata": {},
   "source": [
    "### Тексты "
   ]
  },
  {
   "cell_type": "code",
   "execution_count": 68,
   "metadata": {},
   "outputs": [
    {
     "data": {
      "image/png": "[encoded data removed]",
      "text/plain": [
       "<Figure size 504x504 with 1 Axes>"
      ]
     },
     "metadata": {},
     "output_type": "display_data"
    }
   ],
   "source": [
    "plt.figure(figsize=(7, 7))\n",
    "lenta.text_len.hist(bins=1000)\n",
    "plt.xlim(0, 512)\n",
    "plt.title(\"Гистограмма длины текстов\")\n",
    "plt.xlabel(\"слов\")\n",
    "plt.show()"
   ]
  },
  {
   "cell_type": "code",
   "execution_count": 69,
   "metadata": {},
   "outputs": [
    {
     "name": "stdout",
     "output_type": "stream",
     "text": [
      "0.8563001342114298\n"
     ]
    }
   ],
   "source": [
    "TEXT_LEN_MIN = 64\n",
    "TEXT_LEN_MAX = 256\n",
    "\n",
    "lenta_filt = lenta[lenta.text_len.between(TEXT_LEN_MIN, TEXT_LEN_MAX)]\n",
    "\n",
    "print(lenta_filt.shape[0] / lenta.shape[0])"
   ]
  },
  {
   "cell_type": "markdown",
   "metadata": {},
   "source": [
    "## 4. Сохранение "
   ]
  },
  {
   "cell_type": "code",
   "execution_count": 71,
   "metadata": {},
   "outputs": [
    {
     "name": "stderr",
     "output_type": "stream",
     "text": [
      "<ipython-input-71-d2bb80bd2f05>:1: SettingWithCopyWarning: \n",
      "A value is trying to be set on a copy of a slice from a DataFrame\n",
      "\n",
      "See the caveats in the documentation: https://pandas.pydata.org/pandas-docs/stable/user_guide/indexing.html#returning-a-view-versus-a-copy\n",
      "  abbr_filt.drop([\"tags\"], axis=1, inplace=True)\n",
      "<ipython-input-71-d2bb80bd2f05>:2: SettingWithCopyWarning: \n",
      "A value is trying to be set on a copy of a slice from a DataFrame\n",
      "\n",
      "See the caveats in the documentation: https://pandas.pydata.org/pandas-docs/stable/user_guide/indexing.html#returning-a-view-versus-a-copy\n",
      "  abbr_filt.drop_duplicates([\"desc_norm\", \"abbr_norm\"], inplace=True)\n",
      "<ipython-input-71-d2bb80bd2f05>:3: SettingWithCopyWarning: \n",
      "A value is trying to be set on a copy of a slice from a DataFrame.\n",
      "Try using .loc[row_indexer,col_indexer] = value instead\n",
      "\n",
      "See the caveats in the documentation: https://pandas.pydata.org/pandas-docs/stable/user_guide/indexing.html#returning-a-view-versus-a-copy\n",
      "  abbr_filt[\"abbr_id\"] = np.arange(abbr_filt.shape[0])\n"
     ]
    }
   ],
   "source": [
    "abbr_filt.drop([\"tags\"], axis=1, inplace=True)\n",
    "abbr_filt.drop_duplicates([\"desc_norm\", \"abbr_norm\"], inplace=True)\n",
    "abbr_filt[\"abbr_id\"] = np.arange(abbr_filt.shape[0])\n",
    "\n",
    "abbr_filt.to_csv(\"../data/abbr.csv\", index=False, header=True)"
   ]
  },
  {
   "cell_type": "code",
   "execution_count": 76,
   "metadata": {
    "scrolled": true
   },
   "outputs": [
    {
     "name": "stderr",
     "output_type": "stream",
     "text": [
      "<ipython-input-76-fa5b7426f9ce>:1: SettingWithCopyWarning: \n",
      "A value is trying to be set on a copy of a slice from a DataFrame\n",
      "\n",
      "See the caveats in the documentation: https://pandas.pydata.org/pandas-docs/stable/user_guide/indexing.html#returning-a-view-versus-a-copy\n",
      "  lenta_filt.drop([\"url\", \"title\", \"date\"], axis=1, inplace=True)\n"
     ]
    }
   ],
   "source": [
    "lenta_filt.drop([\"url\", \"title\", \"date\"], axis=1, inplace=True)\n",
    "\n",
    "lenta_filt.to_csv(\"../data/lenta.csv\", index=False, header=True)"
   ]
  }
 ],
 "metadata": {
  "kernelspec": {
   "display_name": "Python 3",
   "language": "python",
   "name": "python3"
  },
  "language_info": {
   "codemirror_mode": {
    "name": "ipython",
    "version": 3
   },
   "file_extension": ".py",
   "mimetype": "text/x-python",
   "name": "python",
   "nbconvert_exporter": "python",
   "pygments_lexer": "ipython3",
   "version": "3.8.10"
  }
 },
 "nbformat": 4,
 "nbformat_minor": 4
}

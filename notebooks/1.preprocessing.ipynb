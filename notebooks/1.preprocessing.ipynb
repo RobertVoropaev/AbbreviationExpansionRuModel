{
 "cells": [
  {
   "cell_type": "markdown",
   "metadata": {},
   "source": [
    "# 1. Подготовка обучающей выборки"
   ]
  },
  {
   "cell_type": "code",
   "execution_count": 1,
   "metadata": {},
   "outputs": [
    {
     "name": "stdout",
     "output_type": "stream",
     "text": [
      "INFO: Pandarallel will run on 8 workers.\n",
      "INFO: Pandarallel will use standard multiprocessing data transfer (pipe) to transfer data between the main process and workers.\n"
     ]
    }
   ],
   "source": [
    "import os\n",
    "import sys\n",
    "\n",
    "import pandas as pd\n",
    "import numpy as np\n",
    "\n",
    "from matplotlib import pyplot as plt\n",
    "\n",
    "from tqdm import tqdm\n",
    "\n",
    "from pandarallel import pandarallel\n",
    "\n",
    "import pymorphy2\n",
    "import nltk\n",
    "import pickle\n",
    "\n",
    "\n",
    "import seaborn as sns\n",
    "sns.set_style(\"whitegrid\")\n",
    "\n",
    "pd.set_option('display.max_colwidth', 255)\n",
    "tqdm.pandas()\n",
    "pandarallel.initialize(progress_bar=True, nb_workers=8, use_memory_fs=False)"
   ]
  },
  {
   "cell_type": "markdown",
   "metadata": {},
   "source": [
    "## 1. Загрузка данных "
   ]
  },
  {
   "cell_type": "code",
   "execution_count": 2,
   "metadata": {},
   "outputs": [
    {
     "name": "stderr",
     "output_type": "stream",
     "text": [
      "<ipython-input-2-c300cdb3f553>:2: DtypeWarning: Columns (3) have mixed types. Specify dtype option on import or set low_memory=False.\n",
      "  lenta = pd.read_csv(\"../input/lenta-ru-news.csv\")\n"
     ]
    }
   ],
   "source": [
    "abbr = pd.read_csv(\"../input/abbr_dict.csv\", sep=\"\\t\")\n",
    "lenta = pd.read_csv(\"../input/lenta-ru-news.csv\")"
   ]
  },
  {
   "cell_type": "code",
   "execution_count": 51,
   "metadata": {},
   "outputs": [
    {
     "data": {
      "text/html": [
       "<div>\n",
       "<style scoped>\n",
       "    .dataframe tbody tr th:only-of-type {\n",
       "        vertical-align: middle;\n",
       "    }\n",
       "\n",
       "    .dataframe tbody tr th {\n",
       "        vertical-align: top;\n",
       "    }\n",
       "\n",
       "    .dataframe thead th {\n",
       "        text-align: right;\n",
       "    }\n",
       "</style>\n",
       "<table border=\"1\" class=\"dataframe\">\n",
       "  <thead>\n",
       "    <tr style=\"text-align: right;\">\n",
       "      <th></th>\n",
       "      <th>abbr</th>\n",
       "      <th>desc</th>\n",
       "      <th>tags</th>\n",
       "      <th>norm_desc</th>\n",
       "      <th>desc_len</th>\n",
       "      <th>norm_abbr</th>\n",
       "      <th>abbr_len</th>\n",
       "    </tr>\n",
       "  </thead>\n",
       "  <tbody>\n",
       "    <tr>\n",
       "      <th>0</th>\n",
       "      <td>ТММ</td>\n",
       "      <td>теория механизмов и машин</td>\n",
       "      <td>образование и наука</td>\n",
       "      <td>теория механизм и машина</td>\n",
       "      <td>4</td>\n",
       "      <td>тмм</td>\n",
       "      <td>1</td>\n",
       "    </tr>\n",
       "    <tr>\n",
       "      <th>1</th>\n",
       "      <td>ННИЦ алмазов</td>\n",
       "      <td>Национальный научно-исследовательский центр алмазов, драгоценных камней и самородного золота</td>\n",
       "      <td>г. Якутск, образование и наука</td>\n",
       "      <td>национальный научно исследовательский центр алмаз драгоценный камень и самородный золото</td>\n",
       "      <td>10</td>\n",
       "      <td>нниц алмаз</td>\n",
       "      <td>2</td>\n",
       "    </tr>\n",
       "    <tr>\n",
       "      <th>2</th>\n",
       "      <td>БВВУ</td>\n",
       "      <td>Бакинское высшее военное училище</td>\n",
       "      <td>воен., г. Баку, образование и наука</td>\n",
       "      <td>бакинский высокий военный училище</td>\n",
       "      <td>4</td>\n",
       "      <td>бвву</td>\n",
       "      <td>1</td>\n",
       "    </tr>\n",
       "    <tr>\n",
       "      <th>3</th>\n",
       "      <td>ВНИПИЭТ</td>\n",
       "      <td>Всероссийский научно-исследовательский и проектный институт энергетической техники</td>\n",
       "      <td>NaN</td>\n",
       "      <td>всероссийский научно исследовательский и проектный институт энергетический техника</td>\n",
       "      <td>8</td>\n",
       "      <td>внипиэт</td>\n",
       "      <td>1</td>\n",
       "    </tr>\n",
       "    <tr>\n",
       "      <th>4</th>\n",
       "      <td>СТЭФ</td>\n",
       "      <td>служба технической эксплуатации флота</td>\n",
       "      <td>техн.</td>\n",
       "      <td>служба технический эксплуатация флот</td>\n",
       "      <td>4</td>\n",
       "      <td>стэф</td>\n",
       "      <td>1</td>\n",
       "    </tr>\n",
       "    <tr>\n",
       "      <th>...</th>\n",
       "      <td>...</td>\n",
       "      <td>...</td>\n",
       "      <td>...</td>\n",
       "      <td>...</td>\n",
       "      <td>...</td>\n",
       "      <td>...</td>\n",
       "      <td>...</td>\n",
       "    </tr>\n",
       "    <tr>\n",
       "      <th>85530</th>\n",
       "      <td>КПЦ</td>\n",
       "      <td>Коммунистическая партия Цейлона</td>\n",
       "      <td>Коммунистическая партия Цейлона</td>\n",
       "      <td>коммунистический партия цейлон</td>\n",
       "      <td>3</td>\n",
       "      <td>кпц</td>\n",
       "      <td>1</td>\n",
       "    </tr>\n",
       "    <tr>\n",
       "      <th>85531</th>\n",
       "      <td>ФМП</td>\n",
       "      <td>факультет мировой политики</td>\n",
       "      <td>&lt;a href=\"http://www.worldpolitics.redline.ru/\"&gt;http://www.worldpolitics.redline.ru/&lt;span style=\"visibility: hidden\"&gt;​&lt;/span&gt;&lt;wbr/&gt;&lt;/a&gt;</td>\n",
       "      <td>факультет мировой политика</td>\n",
       "      <td>3</td>\n",
       "      <td>фмп</td>\n",
       "      <td>1</td>\n",
       "    </tr>\n",
       "    <tr>\n",
       "      <th>85532</th>\n",
       "      <td>НИИАТ</td>\n",
       "      <td>Государственный научно-исследовательский институт автомобильного транспорта</td>\n",
       "      <td>Государственный научно-исследовательский институт автомобильного транспорта</td>\n",
       "      <td>государственный научно исследовательский институт автомобильный транспорт</td>\n",
       "      <td>6</td>\n",
       "      <td>нииат</td>\n",
       "      <td>1</td>\n",
       "    </tr>\n",
       "    <tr>\n",
       "      <th>85533</th>\n",
       "      <td>КЗП-</td>\n",
       "      <td>комплекс защиты пласта</td>\n",
       "      <td></td>\n",
       "      <td>комплекс защита пласт</td>\n",
       "      <td>3</td>\n",
       "      <td>кзп</td>\n",
       "      <td>1</td>\n",
       "    </tr>\n",
       "    <tr>\n",
       "      <th>85534</th>\n",
       "      <td>сх.</td>\n",
       "      <td>схема</td>\n",
       "      <td>None</td>\n",
       "      <td>схема</td>\n",
       "      <td>1</td>\n",
       "      <td>сх</td>\n",
       "      <td>1</td>\n",
       "    </tr>\n",
       "  </tbody>\n",
       "</table>\n",
       "<p>85535 rows × 7 columns</p>\n",
       "</div>"
      ],
      "text/plain": [
       "               abbr  \\\n",
       "0               ТММ   \n",
       "1      ННИЦ алмазов   \n",
       "2              БВВУ   \n",
       "3           ВНИПИЭТ   \n",
       "4              СТЭФ   \n",
       "...             ...   \n",
       "85530           КПЦ   \n",
       "85531           ФМП   \n",
       "85532         НИИАТ   \n",
       "85533          КЗП-   \n",
       "85534           сх.   \n",
       "\n",
       "                                                                                               desc  \\\n",
       "0                                                                         теория механизмов и машин   \n",
       "1      Национальный научно-исследовательский центр алмазов, драгоценных камней и самородного золота   \n",
       "2                                                                  Бакинское высшее военное училище   \n",
       "3               Всероссийский научно-исследовательский и проектный институт энергетической техники    \n",
       "4                                                             служба технической эксплуатации флота   \n",
       "...                                                                                             ...   \n",
       "85530                                                               Коммунистическая партия Цейлона   \n",
       "85531                                                                    факультет мировой политики   \n",
       "85532                   Государственный научно-исследовательский институт автомобильного транспорта   \n",
       "85533                                                                        комплекс защиты пласта   \n",
       "85534                                                                                         схема   \n",
       "\n",
       "                                                                                                                                         tags  \\\n",
       "0                                                                                                                         образование и наука   \n",
       "1                                                                                                              г. Якутск, образование и наука   \n",
       "2                                                                                                         воен., г. Баку, образование и наука   \n",
       "3                                                                                                                                         NaN   \n",
       "4                                                                                                                                       техн.   \n",
       "...                                                                                                                                       ...   \n",
       "85530                                                                                                         Коммунистическая партия Цейлона   \n",
       "85531  <a href=\"http://www.worldpolitics.redline.ru/\">http://www.worldpolitics.redline.ru/<span style=\"visibility: hidden\">​</span><wbr/></a>   \n",
       "85532                                                             Государственный научно-исследовательский институт автомобильного транспорта   \n",
       "85533                                                                                                                                           \n",
       "85534                                                                                                                                    None   \n",
       "\n",
       "                                                                                      norm_desc  \\\n",
       "0                                                                      теория механизм и машина   \n",
       "1      национальный научно исследовательский центр алмаз драгоценный камень и самородный золото   \n",
       "2                                                             бакинский высокий военный училище   \n",
       "3            всероссийский научно исследовательский и проектный институт энергетический техника   \n",
       "4                                                          служба технический эксплуатация флот   \n",
       "...                                                                                         ...   \n",
       "85530                                                            коммунистический партия цейлон   \n",
       "85531                                                                факультет мировой политика   \n",
       "85532                 государственный научно исследовательский институт автомобильный транспорт   \n",
       "85533                                                                     комплекс защита пласт   \n",
       "85534                                                                                     схема   \n",
       "\n",
       "       desc_len   norm_abbr  abbr_len  \n",
       "0             4         тмм         1  \n",
       "1            10  нниц алмаз         2  \n",
       "2             4        бвву         1  \n",
       "3             8     внипиэт         1  \n",
       "4             4        стэф         1  \n",
       "...         ...         ...       ...  \n",
       "85530         3         кпц         1  \n",
       "85531         3         фмп         1  \n",
       "85532         6       нииат         1  \n",
       "85533         3         кзп         1  \n",
       "85534         1          сх         1  \n",
       "\n",
       "[85535 rows x 7 columns]"
      ]
     },
     "execution_count": 51,
     "metadata": {},
     "output_type": "execute_result"
    }
   ],
   "source": [
    "abbr"
   ]
  },
  {
   "cell_type": "code",
   "execution_count": 17,
   "metadata": {},
   "outputs": [
    {
     "data": {
      "text/html": [
       "<div>\n",
       "<style scoped>\n",
       "    .dataframe tbody tr th:only-of-type {\n",
       "        vertical-align: middle;\n",
       "    }\n",
       "\n",
       "    .dataframe tbody tr th {\n",
       "        vertical-align: top;\n",
       "    }\n",
       "\n",
       "    .dataframe thead th {\n",
       "        text-align: right;\n",
       "    }\n",
       "</style>\n",
       "<table border=\"1\" class=\"dataframe\">\n",
       "  <thead>\n",
       "    <tr style=\"text-align: right;\">\n",
       "      <th></th>\n",
       "      <th>url</th>\n",
       "      <th>title</th>\n",
       "      <th>text</th>\n",
       "      <th>topic</th>\n",
       "      <th>tags</th>\n",
       "      <th>date</th>\n",
       "    </tr>\n",
       "  </thead>\n",
       "  <tbody>\n",
       "    <tr>\n",
       "      <th>297112</th>\n",
       "      <td>https://lenta.ru/news/2009/09/01/fish/</td>\n",
       "      <td>Сочинский океанариум обвинил таможенников в гибели 4 тысяч рыб</td>\n",
       "      <td>Руководство сочинского океанариума обвинило таможенников в гибели более 4 тысяч экзотических рыб. Об этом 1 сентября сообщает агентство \"Интерфакс\" со ссылкой на главу службы океанариума по связям с общественностью Александра Фирсова. \\r Пять тысяч эк...</td>\n",
       "      <td>Россия</td>\n",
       "      <td>Все</td>\n",
       "      <td>2009/09/01</td>\n",
       "    </tr>\n",
       "    <tr>\n",
       "      <th>268211</th>\n",
       "      <td>https://lenta.ru/news/2009/02/10/rentrak/</td>\n",
       "      <td>На российский кинорынок выходит крупнейший учетчик сборов</td>\n",
       "      <td>Американская компания Rentrak Corporation, занимающаяся подсчетом кассовых сборов сетей кинотеатров, выходит на российский рынок. Как утверждает \"Коммерсант\", компания намерена предложить российским прокатчикам программное обеспечение, которое позволи...</td>\n",
       "      <td>Культура</td>\n",
       "      <td>Все</td>\n",
       "      <td>2009/02/10</td>\n",
       "    </tr>\n",
       "    <tr>\n",
       "      <th>273373</th>\n",
       "      <td>https://lenta.ru/news/2009/03/13/sharapova/</td>\n",
       "      <td>Шарапова проиграла первый матч после возвращения на корт</td>\n",
       "      <td>Бывшая первая ракетка мира Мария Шарапова провела первый официальный матч с августа 2008 года и потерпела поражение на турнире в американском Индиан-Уэллсе. В первом круге парных соревнований Шарапова вместе со своей соотечественницей Еленой Весниной ...</td>\n",
       "      <td>Спорт</td>\n",
       "      <td>Все</td>\n",
       "      <td>2009/03/13</td>\n",
       "    </tr>\n",
       "  </tbody>\n",
       "</table>\n",
       "</div>"
      ],
      "text/plain": [
       "                                                url  \\\n",
       "297112       https://lenta.ru/news/2009/09/01/fish/   \n",
       "268211    https://lenta.ru/news/2009/02/10/rentrak/   \n",
       "273373  https://lenta.ru/news/2009/03/13/sharapova/   \n",
       "\n",
       "                                                                 title  \\\n",
       "297112  Сочинский океанариум обвинил таможенников в гибели 4 тысяч рыб   \n",
       "268211       На российский кинорынок выходит крупнейший учетчик сборов   \n",
       "273373        Шарапова проиграла первый матч после возвращения на корт   \n",
       "\n",
       "                                                                                                                                                                                                                                                                  text  \\\n",
       "297112  Руководство сочинского океанариума обвинило таможенников в гибели более 4 тысяч экзотических рыб. Об этом 1 сентября сообщает агентство \"Интерфакс\" со ссылкой на главу службы океанариума по связям с общественностью Александра Фирсова. \\r Пять тысяч эк...   \n",
       "268211  Американская компания Rentrak Corporation, занимающаяся подсчетом кассовых сборов сетей кинотеатров, выходит на российский рынок. Как утверждает \"Коммерсант\", компания намерена предложить российским прокатчикам программное обеспечение, которое позволи...   \n",
       "273373  Бывшая первая ракетка мира Мария Шарапова провела первый официальный матч с августа 2008 года и потерпела поражение на турнире в американском Индиан-Уэллсе. В первом круге парных соревнований Шарапова вместе со своей соотечественницей Еленой Весниной ...   \n",
       "\n",
       "           topic tags        date  \n",
       "297112    Россия  Все  2009/09/01  \n",
       "268211  Культура  Все  2009/02/10  \n",
       "273373     Спорт  Все  2009/03/13  "
      ]
     },
     "execution_count": 17,
     "metadata": {},
     "output_type": "execute_result"
    }
   ],
   "source": [
    "lenta.sample(3).head(3)"
   ]
  },
  {
   "cell_type": "markdown",
   "metadata": {},
   "source": [
    "## 2. Токенизация и лемматизация"
   ]
  },
  {
   "cell_type": "markdown",
   "metadata": {},
   "source": [
    "Произведём предобработку входных данных с помощью токенизации и лематизации.\n",
    "\n",
    "Для лематизации будем использовать только словарный анализатор для избежания искажения сокращений."
   ]
  },
  {
   "cell_type": "code",
   "execution_count": 18,
   "metadata": {},
   "outputs": [],
   "source": [
    "tokenizer = nltk.RegexpTokenizer(r'\\w+')\n",
    "def tokenize(line):\n",
    "    return tokenizer.tokenize(str(line).lower())\n",
    "\n",
    "morph = pymorphy2.MorphAnalyzer(lang=\"ru\", \n",
    "                                units=[pymorphy2.units.DictionaryAnalyzer()])\n",
    "def normalize(word):\n",
    "    parse_list = morph.parse(str(word))\n",
    "    if parse_list != []:\n",
    "        return parse_list[0].normal_form\n",
    "    else:\n",
    "        return word.lower()\n",
    "\n",
    "def get_tokenized_normal_form(line):\n",
    "    new_line_arr = []\n",
    "    for token in tokenize(line):\n",
    "        new_line_arr.append(normalize(token))\n",
    "    return \" \".join(new_line_arr)"
   ]
  },
  {
   "cell_type": "code",
   "execution_count": 19,
   "metadata": {},
   "outputs": [
    {
     "data": {
      "application/vnd.jupyter.widget-view+json": {
       "model_id": "8cead52226af48e0829ae3fb3fec60bd",
       "version_major": 2,
       "version_minor": 0
      },
      "text/plain": [
       "VBox(children=(HBox(children=(IntProgress(value=0, description='0.00%', max=10692), Label(value='0 / 10692')))…"
      ]
     },
     "metadata": {},
     "output_type": "display_data"
    }
   ],
   "source": [
    "abbr[\"norm_desc\"] = abbr[\"desc\"].parallel_apply(get_tokenized_normal_form)\n",
    "abbr[\"desc_len\"] = abbr[\"norm_desc\"].str.split(\" \").str.len()"
   ]
  },
  {
   "cell_type": "code",
   "execution_count": 20,
   "metadata": {},
   "outputs": [
    {
     "data": {
      "application/vnd.jupyter.widget-view+json": {
       "model_id": "adc9a97f8bf84040a50a839bd7b3d8ec",
       "version_major": 2,
       "version_minor": 0
      },
      "text/plain": [
       "VBox(children=(HBox(children=(IntProgress(value=0, description='0.00%', max=10692), Label(value='0 / 10692')))…"
      ]
     },
     "metadata": {},
     "output_type": "display_data"
    }
   ],
   "source": [
    "abbr[\"norm_abbr\"] = abbr[\"abbr\"].parallel_apply(get_tokenized_normal_form)\n",
    "abbr[\"abbr_len\"] = abbr[\"norm_abbr\"].str.split(\" \").str.len()"
   ]
  },
  {
   "cell_type": "code",
   "execution_count": 21,
   "metadata": {},
   "outputs": [
    {
     "data": {
      "application/vnd.jupyter.widget-view+json": {
       "model_id": "325d0585b9394a6688e6248d62799d11",
       "version_major": 2,
       "version_minor": 0
      },
      "text/plain": [
       "VBox(children=(HBox(children=(IntProgress(value=0, description='0.00%', max=100122), Label(value='0 / 100122')…"
      ]
     },
     "metadata": {},
     "output_type": "display_data"
    }
   ],
   "source": [
    "lenta[\"norm_text\"] = lenta[\"text\"].parallel_apply(get_tokenized_normal_form)\n",
    "lenta[\"text_len\"] = lenta[\"norm_text\"].str.split(\" \").str.len()"
   ]
  },
  {
   "cell_type": "markdown",
   "metadata": {},
   "source": [
    "## 3. Ограничение размеров "
   ]
  },
  {
   "cell_type": "markdown",
   "metadata": {},
   "source": [
    "### Сокращения "
   ]
  },
  {
   "cell_type": "code",
   "execution_count": 49,
   "metadata": {},
   "outputs": [
    {
     "data": {
      "image/png": "[encoded data removed]",
      "text/plain": [
       "<Figure size 1008x504 with 2 Axes>"
      ]
     },
     "metadata": {},
     "output_type": "display_data"
    }
   ],
   "source": [
    "plt.figure(figsize=(14, 7))\n",
    "\n",
    "plt.subplot(1, 2, 1)\n",
    "abbr.abbr_len.hist(bins=7)\n",
    "plt.title(\"Гистограмма длины сокращений\")\n",
    "plt.xlabel(\"слов\")\n",
    "\n",
    "plt.subplot(1, 2, 2)\n",
    "abbr.norm_abbr.str.len().hist(bins=30)\n",
    "plt.xlim(0, 20)\n",
    "plt.title(\"Гистограмма длины сокращений\")\n",
    "plt.xlabel(\"символов\")\n",
    "plt.show()"
   ]
  },
  {
   "cell_type": "code",
   "execution_count": 50,
   "metadata": {},
   "outputs": [
    {
     "data": {
      "image/png": "[encoded data removed]",
      "text/plain": [
       "<Figure size 504x504 with 1 Axes>"
      ]
     },
     "metadata": {},
     "output_type": "display_data"
    }
   ],
   "source": [
    "plt.figure(figsize=(7, 7))\n",
    "abbr.desc_len.hist(bins=50)\n",
    "plt.xlim(0, 15)\n",
    "plt.title(\"Гистограмма длины определений\")\n",
    "plt.xlabel(\"слов\")\n",
    "plt.show()"
   ]
  },
  {
   "cell_type": "code",
   "execution_count": 52,
   "metadata": {},
   "outputs": [
    {
     "data": {
      "text/plain": [
       "3     30508\n",
       "4     18648\n",
       "2      8226\n",
       "5      7921\n",
       "6      4426\n",
       "7      2995\n",
       "8      2143\n",
       "9      1690\n",
       "10     1539\n",
       "11     1393\n",
       "12     1117\n",
       "13      870\n",
       "1       812\n",
       "14      782\n",
       "15      683\n",
       "16      503\n",
       "17      336\n",
       "18      267\n",
       "19      185\n",
       "20      153\n",
       "21      113\n",
       "22       72\n",
       "23       52\n",
       "24       35\n",
       "26       25\n",
       "25       19\n",
       "27       11\n",
       "28        8\n",
       "29        2\n",
       "30        1\n",
       "Name: norm_abbr, dtype: int64"
      ]
     },
     "execution_count": 52,
     "metadata": {},
     "output_type": "execute_result"
    }
   ],
   "source": [
    "abbr.norm_abbr.str.len().value_counts()"
   ]
  },
  {
   "cell_type": "code",
   "execution_count": 53,
   "metadata": {},
   "outputs": [
    {
     "name": "stdout",
     "output_type": "stream",
     "text": [
      "0.926825276202724\n",
      "0.994095984100076\n",
      "0.990506810077746\n",
      "0.9899222540480505\n",
      "0.9076869117904951\n"
     ]
    }
   ],
   "source": [
    "from nltk.corpus import stopwords\n",
    "stopwords.words(\"russian\")\n",
    "\n",
    "ABBR_LEN_MAX = 1\n",
    "DESC_LEN_MAX = 12\n",
    "ABBR_CHAR_LEN_MIN = 2\n",
    "\n",
    "print((abbr.abbr_len <= ABBR_LEN_MAX).sum() / abbr.shape[0])\n",
    "print((abbr.desc_len <= DESC_LEN_MAX).sum() / abbr.shape[0])\n",
    "print((abbr.norm_abbr.str.len() >= ABBR_CHAR_LEN_MIN).sum() / abbr.shape[0])\n",
    "print((~abbr.norm_abbr.isin(stopwords.words(\"russian\"))).sum() / abbr.shape[0])\n",
    "\n",
    "abbr_filt = abbr[(abbr.abbr_len <= ABBR_LEN_MAX) & \n",
    "                 (abbr.desc_len <= DESC_LEN_MAX) &\n",
    "                 (abbr.norm_abbr.str.len() >= ABBR_CHAR_LEN_MIN) &\n",
    "                 (~abbr.norm_abbr.isin(stopwords.words(\"russian\")))]\n",
    "print(abbr_filt.shape[0] / abbr.shape[0])"
   ]
  },
  {
   "cell_type": "markdown",
   "metadata": {},
   "source": [
    "### Тексты "
   ]
  },
  {
   "cell_type": "code",
   "execution_count": 54,
   "metadata": {},
   "outputs": [
    {
     "data": {
      "image/png": "[encoded data removed]",
      "text/plain": [
       "<Figure size 504x504 with 1 Axes>"
      ]
     },
     "metadata": {},
     "output_type": "display_data"
    }
   ],
   "source": [
    "plt.figure(figsize=(7, 7))\n",
    "lenta.text_len.hist(bins=1000)\n",
    "plt.xlim(0, 512)\n",
    "plt.title(\"Гистограмма длины текстов\")\n",
    "plt.xlabel(\"слов\")\n",
    "plt.show()"
   ]
  },
  {
   "cell_type": "code",
   "execution_count": 31,
   "metadata": {},
   "outputs": [
    {
     "name": "stdout",
     "output_type": "stream",
     "text": [
      "0.8563001342114298\n"
     ]
    }
   ],
   "source": [
    "TEXT_LEN_MIN = 64\n",
    "TEXT_LEN_MAX = 256\n",
    "\n",
    "lenta_filt = lenta[lenta.text_len.between(TEXT_LEN_MIN, TEXT_LEN_MAX)]\n",
    "\n",
    "print(lenta_filt.shape[0] / lenta.shape[0])"
   ]
  },
  {
   "cell_type": "markdown",
   "metadata": {},
   "source": [
    "## 3. Добавление статистики в сокращения "
   ]
  },
  {
   "cell_type": "code",
   "execution_count": 36,
   "metadata": {},
   "outputs": [
    {
     "data": {
      "application/vnd.jupyter.widget-view+json": {
       "model_id": "4c25b84517ac406cb477c5d60aa86198",
       "version_major": 2,
       "version_minor": 0
      },
      "text/plain": [
       "VBox(children=(HBox(children=(IntProgress(value=0, description='0.00%', max=9705), Label(value='0 / 9705'))), …"
      ]
     },
     "metadata": {},
     "output_type": "display_data"
    },
    {
     "name": "stderr",
     "output_type": "stream",
     "text": [
      "<ipython-input-36-0c0b05adce7f>:5: SettingWithCopyWarning: \n",
      "A value is trying to be set on a copy of a slice from a DataFrame.\n",
      "Try using .loc[row_indexer,col_indexer] = value instead\n",
      "\n",
      "See the caveats in the documentation: https://pandas.pydata.org/pandas-docs/stable/user_guide/indexing.html#returning-a-view-versus-a-copy\n",
      "  abbr_filt[\"abbr_count\"] = abbr_filt[\"norm_abbr\"].parallel_apply(general_text.count)\n"
     ]
    },
    {
     "data": {
      "application/vnd.jupyter.widget-view+json": {
       "model_id": "c2c96e89f9944b328312b206da6d0010",
       "version_major": 2,
       "version_minor": 0
      },
      "text/plain": [
       "VBox(children=(HBox(children=(IntProgress(value=0, description='0.00%', max=9705), Label(value='0 / 9705'))), …"
      ]
     },
     "metadata": {},
     "output_type": "display_data"
    },
    {
     "name": "stderr",
     "output_type": "stream",
     "text": [
      "<ipython-input-36-0c0b05adce7f>:6: SettingWithCopyWarning: \n",
      "A value is trying to be set on a copy of a slice from a DataFrame.\n",
      "Try using .loc[row_indexer,col_indexer] = value instead\n",
      "\n",
      "See the caveats in the documentation: https://pandas.pydata.org/pandas-docs/stable/user_guide/indexing.html#returning-a-view-versus-a-copy\n",
      "  abbr_filt[\"desc_count\"] = abbr_filt[\"norm_desc\"].parallel_apply(general_text.count)\n"
     ]
    }
   ],
   "source": [
    "REDUCE_COEF = 0.1\n",
    "\n",
    "general_text = \" \".join(lenta_filt.norm_text.sample(int(lenta_filt.shape[0] * REDUCE_COEF)).to_list())\n",
    "\n",
    "abbr_filt[\"abbr_count\"] = abbr_filt[\"norm_abbr\"].parallel_apply(general_text.count)\n",
    "abbr_filt[\"desc_count\"] = abbr_filt[\"norm_desc\"].parallel_apply(general_text.count)"
   ]
  },
  {
   "cell_type": "code",
   "execution_count": 49,
   "metadata": {},
   "outputs": [
    {
     "name": "stdout",
     "output_type": "stream",
     "text": [
      "0.07404783678306005\n"
     ]
    }
   ],
   "source": [
    "ABBR_MIN_COUNT_IN_TEXTS = 10\n",
    "\n",
    "\n",
    "print((abbr_filt.desc_count >= ABBR_MIN_COUNT_IN_TEXTS).sum() / abbr_filt.shape[0])\n",
    "\n",
    "abbr_filt = abbr_filt[abbr_filt.desc_count >= ABBR_MIN_COUNT_IN_TEXTS]"
   ]
  },
  {
   "cell_type": "code",
   "execution_count": 51,
   "metadata": {},
   "outputs": [
    {
     "data": {
      "text/html": [
       "<div>\n",
       "<style scoped>\n",
       "    .dataframe tbody tr th:only-of-type {\n",
       "        vertical-align: middle;\n",
       "    }\n",
       "\n",
       "    .dataframe tbody tr th {\n",
       "        vertical-align: top;\n",
       "    }\n",
       "\n",
       "    .dataframe thead th {\n",
       "        text-align: right;\n",
       "    }\n",
       "</style>\n",
       "<table border=\"1\" class=\"dataframe\">\n",
       "  <thead>\n",
       "    <tr style=\"text-align: right;\">\n",
       "      <th></th>\n",
       "      <th>abbr</th>\n",
       "      <th>desc</th>\n",
       "      <th>tags</th>\n",
       "      <th>norm_desc</th>\n",
       "      <th>desc_len</th>\n",
       "      <th>norm_abbr</th>\n",
       "      <th>abbr_len</th>\n",
       "      <th>abbr_count</th>\n",
       "      <th>desc_count</th>\n",
       "    </tr>\n",
       "  </thead>\n",
       "  <tbody>\n",
       "    <tr>\n",
       "      <th>28</th>\n",
       "      <td>замгенпрокурора</td>\n",
       "      <td>заместитель генерального прокурора</td>\n",
       "      <td>None</td>\n",
       "      <td>заместитель генеральный прокурор</td>\n",
       "      <td>3</td>\n",
       "      <td>замгенпрокурора</td>\n",
       "      <td>1</td>\n",
       "      <td>29</td>\n",
       "      <td>43</td>\n",
       "    </tr>\n",
       "    <tr>\n",
       "      <th>41</th>\n",
       "      <td>...быт...</td>\n",
       "      <td>бытовой</td>\n",
       "      <td>None</td>\n",
       "      <td>бытовой</td>\n",
       "      <td>1</td>\n",
       "      <td>быт</td>\n",
       "      <td>1</td>\n",
       "      <td>121734</td>\n",
       "      <td>397</td>\n",
       "    </tr>\n",
       "    <tr>\n",
       "      <th>43</th>\n",
       "      <td>РС</td>\n",
       "      <td>реактивный снаряд</td>\n",
       "      <td>None</td>\n",
       "      <td>реактивный снаряд</td>\n",
       "      <td>2</td>\n",
       "      <td>рс</td>\n",
       "      <td>1</td>\n",
       "      <td>67397</td>\n",
       "      <td>28</td>\n",
       "    </tr>\n",
       "    <tr>\n",
       "      <th>50</th>\n",
       "      <td>МЦ</td>\n",
       "      <td>морская цель</td>\n",
       "      <td>морск.</td>\n",
       "      <td>морской цель</td>\n",
       "      <td>2</td>\n",
       "      <td>мц</td>\n",
       "      <td>1</td>\n",
       "      <td>394</td>\n",
       "      <td>10</td>\n",
       "    </tr>\n",
       "    <tr>\n",
       "      <th>125</th>\n",
       "      <td>СКОВС</td>\n",
       "      <td>Северо-Кавказский окружной военный суд</td>\n",
       "      <td>воен.</td>\n",
       "      <td>северо кавказский окружный военный суд</td>\n",
       "      <td>5</td>\n",
       "      <td>сковс</td>\n",
       "      <td>1</td>\n",
       "      <td>8383</td>\n",
       "      <td>17</td>\n",
       "    </tr>\n",
       "    <tr>\n",
       "      <th>169</th>\n",
       "      <td>ДМЗ</td>\n",
       "      <td>демилитаризованная зона</td>\n",
       "      <td>КНДР</td>\n",
       "      <td>демилитаризовать зона</td>\n",
       "      <td>2</td>\n",
       "      <td>дмз</td>\n",
       "      <td>1</td>\n",
       "      <td>4</td>\n",
       "      <td>40</td>\n",
       "    </tr>\n",
       "    <tr>\n",
       "      <th>207</th>\n",
       "      <td>МФО</td>\n",
       "      <td>международная финансовая организация</td>\n",
       "      <td>организация, фин.</td>\n",
       "      <td>международный финансовый организация</td>\n",
       "      <td>3</td>\n",
       "      <td>мфо</td>\n",
       "      <td>1</td>\n",
       "      <td>595</td>\n",
       "      <td>19</td>\n",
       "    </tr>\n",
       "    <tr>\n",
       "      <th>209</th>\n",
       "      <td>РЖД</td>\n",
       "      <td>«Российские железные дороги»</td>\n",
       "      <td>ж.-д., организация, РФ</td>\n",
       "      <td>российский железный дорога</td>\n",
       "      <td>3</td>\n",
       "      <td>ржд</td>\n",
       "      <td>1</td>\n",
       "      <td>6880</td>\n",
       "      <td>84</td>\n",
       "    </tr>\n",
       "    <tr>\n",
       "      <th>223</th>\n",
       "      <td>нем.</td>\n",
       "      <td>немецкий</td>\n",
       "      <td>None</td>\n",
       "      <td>немецкий</td>\n",
       "      <td>1</td>\n",
       "      <td>немой</td>\n",
       "      <td>1</td>\n",
       "      <td>2097</td>\n",
       "      <td>2365</td>\n",
       "    </tr>\n",
       "    <tr>\n",
       "      <th>225</th>\n",
       "      <td>валд.</td>\n",
       "      <td>валдайский</td>\n",
       "      <td>None</td>\n",
       "      <td>валдайский</td>\n",
       "      <td>1</td>\n",
       "      <td>валд</td>\n",
       "      <td>1</td>\n",
       "      <td>102</td>\n",
       "      <td>12</td>\n",
       "    </tr>\n",
       "    <tr>\n",
       "      <th>266</th>\n",
       "      <td>Рост.</td>\n",
       "      <td>Ростислав</td>\n",
       "      <td>None</td>\n",
       "      <td>ростислав</td>\n",
       "      <td>1</td>\n",
       "      <td>рост</td>\n",
       "      <td>1</td>\n",
       "      <td>16579</td>\n",
       "      <td>24</td>\n",
       "    </tr>\n",
       "    <tr>\n",
       "      <th>303</th>\n",
       "      <td>фольклорн.</td>\n",
       "      <td>фольклорное</td>\n",
       "      <td>фольклорн.</td>\n",
       "      <td>фольклорный</td>\n",
       "      <td>1</td>\n",
       "      <td>фольклорн</td>\n",
       "      <td>1</td>\n",
       "      <td>15</td>\n",
       "      <td>15</td>\n",
       "    </tr>\n",
       "    <tr>\n",
       "      <th>340</th>\n",
       "      <td>тайв.</td>\n",
       "      <td>тайваньский</td>\n",
       "      <td>Тайвань</td>\n",
       "      <td>тайваньский</td>\n",
       "      <td>1</td>\n",
       "      <td>тайв</td>\n",
       "      <td>1</td>\n",
       "      <td>404</td>\n",
       "      <td>96</td>\n",
       "    </tr>\n",
       "    <tr>\n",
       "      <th>351</th>\n",
       "      <td>сельхозземли</td>\n",
       "      <td>сельскохозяйственные земли</td>\n",
       "      <td>None</td>\n",
       "      <td>сельскохозяйственный земля</td>\n",
       "      <td>2</td>\n",
       "      <td>сельхозземли</td>\n",
       "      <td>1</td>\n",
       "      <td>0</td>\n",
       "      <td>11</td>\n",
       "    </tr>\n",
       "    <tr>\n",
       "      <th>363</th>\n",
       "      <td>кл</td>\n",
       "      <td>клавиатура</td>\n",
       "      <td>авиа, жарг., комп.</td>\n",
       "      <td>клавиатура</td>\n",
       "      <td>1</td>\n",
       "      <td>кл</td>\n",
       "      <td>1</td>\n",
       "      <td>51386</td>\n",
       "      <td>141</td>\n",
       "    </tr>\n",
       "    <tr>\n",
       "      <th>364</th>\n",
       "      <td>клава</td>\n",
       "      <td>клавиатура</td>\n",
       "      <td>авиа, жарг., комп.</td>\n",
       "      <td>клавиатура</td>\n",
       "      <td>1</td>\n",
       "      <td>клава</td>\n",
       "      <td>1</td>\n",
       "      <td>26</td>\n",
       "      <td>141</td>\n",
       "    </tr>\n",
       "    <tr>\n",
       "      <th>421</th>\n",
       "      <td>изв.</td>\n",
       "      <td>известный</td>\n",
       "      <td>None</td>\n",
       "      <td>известный</td>\n",
       "      <td>1</td>\n",
       "      <td>изв</td>\n",
       "      <td>1</td>\n",
       "      <td>28126</td>\n",
       "      <td>6722</td>\n",
       "    </tr>\n",
       "    <tr>\n",
       "      <th>450</th>\n",
       "      <td>ПК</td>\n",
       "      <td>пивоваренная компания</td>\n",
       "      <td>организация</td>\n",
       "      <td>пивоваренный компания</td>\n",
       "      <td>2</td>\n",
       "      <td>пк</td>\n",
       "      <td>1</td>\n",
       "      <td>4642</td>\n",
       "      <td>35</td>\n",
       "    </tr>\n",
       "    <tr>\n",
       "      <th>475</th>\n",
       "      <td>МЦ</td>\n",
       "      <td>материальные ценности</td>\n",
       "      <td>фин.</td>\n",
       "      <td>материальный ценность</td>\n",
       "      <td>2</td>\n",
       "      <td>мц</td>\n",
       "      <td>1</td>\n",
       "      <td>394</td>\n",
       "      <td>11</td>\n",
       "    </tr>\n",
       "    <tr>\n",
       "      <th>476</th>\n",
       "      <td>матценности</td>\n",
       "      <td>материальные ценности</td>\n",
       "      <td>фин.</td>\n",
       "      <td>материальный ценность</td>\n",
       "      <td>2</td>\n",
       "      <td>матценности</td>\n",
       "      <td>1</td>\n",
       "      <td>0</td>\n",
       "      <td>11</td>\n",
       "    </tr>\n",
       "  </tbody>\n",
       "</table>\n",
       "</div>"
      ],
      "text/plain": [
       "                abbr                                    desc  \\\n",
       "28   замгенпрокурора      заместитель генерального прокурора   \n",
       "41         ...быт...                                 бытовой   \n",
       "43                РС                       реактивный снаряд   \n",
       "50                МЦ                            морская цель   \n",
       "125            СКОВС  Северо-Кавказский окружной военный суд   \n",
       "169              ДМЗ                 демилитаризованная зона   \n",
       "207              МФО    международная финансовая организация   \n",
       "209              РЖД            «Российские железные дороги»   \n",
       "223             нем.                                немецкий   \n",
       "225            валд.                              валдайский   \n",
       "266            Рост.                               Ростислав   \n",
       "303       фольклорн.                             фольклорное   \n",
       "340            тайв.                             тайваньский   \n",
       "351     сельхозземли              сельскохозяйственные земли   \n",
       "363               кл                              клавиатура   \n",
       "364            клава                              клавиатура   \n",
       "421             изв.                               известный   \n",
       "450               ПК                   пивоваренная компания   \n",
       "475               МЦ                   материальные ценности   \n",
       "476      матценности                   материальные ценности   \n",
       "\n",
       "                       tags                               norm_desc  desc_len  \\\n",
       "28                     None        заместитель генеральный прокурор         3   \n",
       "41                     None                                 бытовой         1   \n",
       "43                     None                       реактивный снаряд         2   \n",
       "50                   морск.                            морской цель         2   \n",
       "125                   воен.  северо кавказский окружный военный суд         5   \n",
       "169                    КНДР                   демилитаризовать зона         2   \n",
       "207       организация, фин.    международный финансовый организация         3   \n",
       "209  ж.-д., организация, РФ              российский железный дорога         3   \n",
       "223                    None                                немецкий         1   \n",
       "225                    None                              валдайский         1   \n",
       "266                    None                               ростислав         1   \n",
       "303              фольклорн.                             фольклорный         1   \n",
       "340                 Тайвань                             тайваньский         1   \n",
       "351                    None              сельскохозяйственный земля         2   \n",
       "363      авиа, жарг., комп.                              клавиатура         1   \n",
       "364      авиа, жарг., комп.                              клавиатура         1   \n",
       "421                    None                               известный         1   \n",
       "450             организация                   пивоваренный компания         2   \n",
       "475                    фин.                   материальный ценность         2   \n",
       "476                    фин.                   материальный ценность         2   \n",
       "\n",
       "           norm_abbr  abbr_len  abbr_count  desc_count  \n",
       "28   замгенпрокурора         1          29          43  \n",
       "41               быт         1      121734         397  \n",
       "43                рс         1       67397          28  \n",
       "50                мц         1         394          10  \n",
       "125            сковс         1        8383          17  \n",
       "169              дмз         1           4          40  \n",
       "207              мфо         1         595          19  \n",
       "209              ржд         1        6880          84  \n",
       "223            немой         1        2097        2365  \n",
       "225             валд         1         102          12  \n",
       "266             рост         1       16579          24  \n",
       "303        фольклорн         1          15          15  \n",
       "340             тайв         1         404          96  \n",
       "351     сельхозземли         1           0          11  \n",
       "363               кл         1       51386         141  \n",
       "364            клава         1          26         141  \n",
       "421              изв         1       28126        6722  \n",
       "450               пк         1        4642          35  \n",
       "475               мц         1         394          11  \n",
       "476      матценности         1           0          11  "
      ]
     },
     "execution_count": 51,
     "metadata": {},
     "output_type": "execute_result"
    }
   ],
   "source": [
    "abbr_filt.head(20)"
   ]
  },
  {
   "cell_type": "markdown",
   "metadata": {},
   "source": [
    "## 4. Сохранение "
   ]
  },
  {
   "cell_type": "code",
   "execution_count": 52,
   "metadata": {},
   "outputs": [
    {
     "name": "stderr",
     "output_type": "stream",
     "text": [
      "<ipython-input-52-15fa541e719f>:1: SettingWithCopyWarning: \n",
      "A value is trying to be set on a copy of a slice from a DataFrame\n",
      "\n",
      "See the caveats in the documentation: https://pandas.pydata.org/pandas-docs/stable/user_guide/indexing.html#returning-a-view-versus-a-copy\n",
      "  abbr_filt.rename({\"norm_abbr\": \"abbr_norm\"}, axis=1, inplace=True)\n",
      "<ipython-input-52-15fa541e719f>:2: SettingWithCopyWarning: \n",
      "A value is trying to be set on a copy of a slice from a DataFrame\n",
      "\n",
      "See the caveats in the documentation: https://pandas.pydata.org/pandas-docs/stable/user_guide/indexing.html#returning-a-view-versus-a-copy\n",
      "  abbr_filt.rename({\"norm_desc\": \"desc_norm\"}, axis=1, inplace=True)\n",
      "<ipython-input-52-15fa541e719f>:4: SettingWithCopyWarning: \n",
      "A value is trying to be set on a copy of a slice from a DataFrame\n",
      "\n",
      "See the caveats in the documentation: https://pandas.pydata.org/pandas-docs/stable/user_guide/indexing.html#returning-a-view-versus-a-copy\n",
      "  abbr_filt.drop([\"tags\"], axis=1, inplace=True)\n",
      "<ipython-input-52-15fa541e719f>:5: SettingWithCopyWarning: \n",
      "A value is trying to be set on a copy of a slice from a DataFrame\n",
      "\n",
      "See the caveats in the documentation: https://pandas.pydata.org/pandas-docs/stable/user_guide/indexing.html#returning-a-view-versus-a-copy\n",
      "  abbr_filt.drop_duplicates([\"desc_norm\", \"abbr_norm\"], inplace=True)\n",
      "<ipython-input-52-15fa541e719f>:6: SettingWithCopyWarning: \n",
      "A value is trying to be set on a copy of a slice from a DataFrame.\n",
      "Try using .loc[row_indexer,col_indexer] = value instead\n",
      "\n",
      "See the caveats in the documentation: https://pandas.pydata.org/pandas-docs/stable/user_guide/indexing.html#returning-a-view-versus-a-copy\n",
      "  abbr_filt[\"abbr_id\"] = np.arange(abbr_filt.shape[0])\n"
     ]
    }
   ],
   "source": [
    "abbr_filt.rename({\"norm_abbr\": \"abbr_norm\"}, axis=1, inplace=True)\n",
    "abbr_filt.rename({\"norm_desc\": \"desc_norm\"}, axis=1, inplace=True)\n",
    "\n",
    "abbr_filt.drop([\"tags\"], axis=1, inplace=True)\n",
    "abbr_filt.drop_duplicates([\"desc_norm\", \"abbr_norm\"], inplace=True)\n",
    "abbr_filt[\"abbr_id\"] = np.arange(abbr_filt.shape[0])\n",
    "\n",
    "abbr_filt.to_csv(\"../data/abbr.csv\", index=False, header=True)"
   ]
  },
  {
   "cell_type": "code",
   "execution_count": 54,
   "metadata": {
    "scrolled": true
   },
   "outputs": [
    {
     "name": "stderr",
     "output_type": "stream",
     "text": [
      "<ipython-input-54-3205cf94b815>:1: SettingWithCopyWarning: \n",
      "A value is trying to be set on a copy of a slice from a DataFrame\n",
      "\n",
      "See the caveats in the documentation: https://pandas.pydata.org/pandas-docs/stable/user_guide/indexing.html#returning-a-view-versus-a-copy\n",
      "  lenta_filt.rename({\"norm_text\": \"text_norm\"}, axis=1, inplace=True)\n",
      "<ipython-input-54-3205cf94b815>:3: SettingWithCopyWarning: \n",
      "A value is trying to be set on a copy of a slice from a DataFrame\n",
      "\n",
      "See the caveats in the documentation: https://pandas.pydata.org/pandas-docs/stable/user_guide/indexing.html#returning-a-view-versus-a-copy\n",
      "  lenta_filt.drop([\"url\", \"title\", \"topic\", \"tags\", \"date\"], axis=1, inplace=True)\n"
     ]
    }
   ],
   "source": [
    "lenta_filt.rename({\"norm_text\": \"text_norm\"}, axis=1, inplace=True)\n",
    "\n",
    "lenta_filt.drop([\"url\", \"title\", \"topic\", \"tags\", \"date\"], axis=1, inplace=True)\n",
    "\n",
    "lenta_filt.to_csv(\"../data/lenta.csv\", index=False, header=True)"
   ]
  }
 ],
 "metadata": {
  "kernelspec": {
   "display_name": "Python 3",
   "language": "python",
   "name": "python3"
  },
  "language_info": {
   "codemirror_mode": {
    "name": "ipython",
    "version": 3
   },
   "file_extension": ".py",
   "mimetype": "text/x-python",
   "name": "python",
   "nbconvert_exporter": "python",
   "pygments_lexer": "ipython3",
   "version": "3.8.10"
  }
 },
 "nbformat": 4,
 "nbformat_minor": 4
}

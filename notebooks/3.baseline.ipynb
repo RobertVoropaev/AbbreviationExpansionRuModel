{
 "cells": [
  {
   "cell_type": "markdown",
   "metadata": {},
   "source": [
    "# Разработка модели контекстного перевода сокращений в текстах на русском языке\n",
    "## 3. Простые пайплайны и измерение качества"
   ]
  },
  {
   "cell_type": "code",
   "execution_count": 1,
   "metadata": {},
   "outputs": [],
   "source": [
    "%load_ext autoreload\n",
    "%autoreload 2\n",
    "\n",
    "import sys\n",
    "sys.path.append(\"..\")\n",
    "\n",
    "import pandas as pd\n",
    "import numpy as np\n",
    "\n",
    "import pickle\n",
    "from collections import defaultdict\n",
    "\n",
    "from tqdm import tqdm\n",
    "import random\n",
    "\n",
    "from sklearn.metrics import accuracy_score, confusion_matrix, classification_report\n",
    "\n",
    "from src.abbr import AbbrInfo, AbbrTree"
   ]
  },
  {
   "cell_type": "code",
   "execution_count": 2,
   "metadata": {},
   "outputs": [],
   "source": [
    "with open('../data/train_texts.pickle', 'rb') as f:\n",
    "    train_texts = pickle.load(f)\n",
    "with open('../data/test_texts.pickle', 'rb') as f:\n",
    "    test_texts = pickle.load(f)\n",
    "    \n",
    "with open('../data/train_labels.pickle', 'rb') as f:\n",
    "    train_labels = pickle.load(f)\n",
    "with open('../data/test_labels.pickle', 'rb') as f:\n",
    "    test_labels = pickle.load(f)\n",
    "    \n",
    "train_flags = [labels != 0 for labels in train_labels]\n",
    "test_flags = [labels != 0 for labels in test_labels]\n",
    "\n",
    "abbr_info = AbbrInfo(data_dir=\"../data\")"
   ]
  },
  {
   "cell_type": "code",
   "execution_count": 3,
   "metadata": {},
   "outputs": [
    {
     "data": {
      "text/plain": [
       "array(['росс', 'изд', 'рос', 'м', 'проц', 'росс', 'гг', 'н', 'м', 'проц',\n",
       "       'заявл', 'запад', 'ко', 'ко', 'млд', 'рос'], dtype='<U17')"
      ]
     },
     "execution_count": 3,
     "metadata": {},
     "output_type": "execute_result"
    }
   ],
   "source": [
    "train_texts[0][train_flags[0]]"
   ]
  },
  {
   "cell_type": "markdown",
   "metadata": {},
   "source": [
    "## 1. Оценка решения"
   ]
  },
  {
   "cell_type": "code",
   "execution_count": 4,
   "metadata": {},
   "outputs": [
    {
     "name": "stdout",
     "output_type": "stream",
     "text": [
      "Detection score:  1.0\n",
      "Replacement score:  1.0\n"
     ]
    }
   ],
   "source": [
    "class AbbrEstimator:\n",
    "    def __init__(self, true_labels: list, pred_labels: list):\n",
    "        self.true_labels = true_labels\n",
    "        self.pred_labels = pred_labels\n",
    "        \n",
    "        self.true_labels_stacked = np.hstack(self.true_labels)\n",
    "        self.pred_labels_stacked = np.hstack(self.pred_labels)\n",
    "    \n",
    "    def detection_score(self):\n",
    "        detection_score = accuracy_score(self.true_labels_stacked != 0, \n",
    "                                         self.pred_labels_stacked != 0)\n",
    "        return detection_score\n",
    "    \n",
    "    def replacement_score(self):\n",
    "        labels_mask = (self.true_labels_stacked | self.pred_labels_stacked) != 0\n",
    "        replacement_score = accuracy_score(self.true_labels_stacked[labels_mask],\n",
    "                                           self.pred_labels_stacked[labels_mask])\n",
    "        return replacement_score\n",
    "    \n",
    "    def print_scores(self):\n",
    "        print(\"Detection score: \", self.detection_score())\n",
    "        print(\"Replacement score: \", self.replacement_score())\n",
    "    \n",
    "AbbrEstimator(test_labels, test_labels).print_scores()"
   ]
  },
  {
   "cell_type": "markdown",
   "metadata": {},
   "source": [
    "## 2. Случайный выбор из словаря "
   ]
  },
  {
   "cell_type": "code",
   "execution_count": 5,
   "metadata": {},
   "outputs": [
    {
     "name": "stderr",
     "output_type": "stream",
     "text": [
      "100%|██████████| 159328/159328 [00:09<00:00, 17076.02it/s]\n"
     ]
    },
    {
     "name": "stdout",
     "output_type": "stream",
     "text": [
      "Detection score:  0.7682640370728182\n",
      "Replacement score:  0.0809094447082947\n"
     ]
    }
   ],
   "source": [
    "class AbbrRandomSearcningModel:\n",
    "    def __init__(self, abbr_info: AbbrInfo):\n",
    "        self.abbr_info = abbr_info\n",
    "        \n",
    "    def predict(self, texts: list):\n",
    "        pred_labels = []\n",
    "        for text in tqdm(texts):\n",
    "            curr_text_labels = []\n",
    "            for word in text:\n",
    "                desc_list = self.abbr_info.abbr2desc_list.get(word)\n",
    "                if desc_list is not None:\n",
    "                    word_id = self.abbr_info.desc2id[desc_list[0]]\n",
    "                else:\n",
    "                    word_id = 0\n",
    "                curr_text_labels.append(word_id)\n",
    "            pred_labels.append(np.array(curr_text_labels))\n",
    "        return pred_labels   \n",
    "    \n",
    "random_searhing_model = AbbrRandomSearcningModel(abbr_info)\n",
    "pred_labels = random_searhing_model.predict(test_texts)\n",
    "\n",
    "AbbrEstimator(test_labels, pred_labels).print_scores()"
   ]
  },
  {
   "cell_type": "markdown",
   "metadata": {},
   "source": [
    "## 3. Выбор из словаря по частоте в тексте"
   ]
  },
  {
   "cell_type": "code",
   "execution_count": 6,
   "metadata": {},
   "outputs": [
    {
     "name": "stderr",
     "output_type": "stream",
     "text": [
      "100%|██████████| 159328/159328 [02:41<00:00, 987.24it/s] \n"
     ]
    },
    {
     "name": "stdout",
     "output_type": "stream",
     "text": [
      "Detection score:  0.7682640370728182\n",
      "Replacement score:  0.12046059773390325\n"
     ]
    }
   ],
   "source": [
    "class AbbrFreqSearcningModel:\n",
    "    def __init__(self, abbr_info: AbbrInfo):\n",
    "        self.abbr_info = abbr_info\n",
    "        self.abbr_tree = AbbrTree(abbr_info)\n",
    "        \n",
    "    def predict(self, texts: list):\n",
    "        pred_labels = []\n",
    "        for text in tqdm(texts):\n",
    "            desc_labels = self.abbr_tree.get_text_labels(text)\n",
    "            \n",
    "            curr_text_labels = []\n",
    "            for word in text:\n",
    "                desc_list = self.abbr_info.abbr2desc_list.get(word)\n",
    "                if desc_list is not None:\n",
    "                    desc = self._get_most_freq_desc(desc_labels, desc_list)\n",
    "                    abbr_id = self.abbr_info.desc2id[desc]\n",
    "                else:\n",
    "                    abbr_id = 0\n",
    "                curr_text_labels.append(abbr_id)\n",
    "            pred_labels.append(np.array(curr_text_labels))\n",
    "        return pred_labels\n",
    "    \n",
    "    def _get_most_freq_desc(self, desc_labels: list, desc_list: list):\n",
    "        desc_freq = []\n",
    "        for desc in desc_list:\n",
    "            abbr_id = self.abbr_info.desc2id[desc]\n",
    "            desc_count = desc_labels.count(abbr_id) // len(desc)\n",
    "            desc_freq.append((desc, desc_count))\n",
    "        return sorted(desc_freq, key=lambda x: -x[1])[0][0]\n",
    "    \n",
    "abbr_freq_model = AbbrFreqSearcningModel(abbr_info)\n",
    "pred_labels = abbr_freq_model.predict(test_texts)\n",
    "\n",
    "AbbrEstimator(test_labels, pred_labels).print_scores()"
   ]
  },
  {
   "cell_type": "markdown",
   "metadata": {},
   "source": [
    "## 3. Выбор из словаря по частоте во всех текстах "
   ]
  },
  {
   "cell_type": "code",
   "execution_count": 42,
   "metadata": {},
   "outputs": [
    {
     "name": "stderr",
     "output_type": "stream",
     "text": [
      "100%|██████████| 159328/159328 [00:07<00:00, 21526.33it/s]\n",
      "100%|██████████| 159328/159328 [00:38<00:00, 4125.62it/s]\n"
     ]
    },
    {
     "name": "stdout",
     "output_type": "stream",
     "text": [
      "Detection score:  0.7682640370728182\n",
      "Replacement score:  0.18411176225584427\n"
     ]
    }
   ],
   "source": [
    "class AbbrGlobalFreqSearcningModel:\n",
    "    def __init__(self, abbr_info: AbbrInfo):\n",
    "        self.abbr_info = abbr_info\n",
    "        self.abbr_tree = AbbrTree(abbr_info)\n",
    "        \n",
    "    def predict(self, texts: list):\n",
    "        global_labels = self._get_global_labels(texts)\n",
    "        global_counter = Counter(global_labels)\n",
    "        \n",
    "        pred_labels = []\n",
    "        for text in tqdm(texts):\n",
    "            curr_text_labels = []\n",
    "            for word in text:\n",
    "                desc_list = self.abbr_info.abbr2desc_list.get(word)\n",
    "                if desc_list is not None:\n",
    "                    desc = self._get_most_freq_desc(global_counter, desc_list)\n",
    "                    abbr_id = self.abbr_info.desc2id[desc]\n",
    "                else:\n",
    "                    abbr_id = 0\n",
    "                curr_text_labels.append(abbr_id)\n",
    "            pred_labels.append(np.array(curr_text_labels))\n",
    "        return pred_labels\n",
    "\n",
    "    def _get_global_labels(self, texts: list):\n",
    "        desc_labels = [self.abbr_tree.get_text_labels(text) for text in tqdm(texts)]\n",
    "        global_labels = np.hstack(desc_labels)\n",
    "        global_labels = global_labels[global_labels != 0]\n",
    "        return global_labels\n",
    "    \n",
    "    def _get_most_freq_desc(self, global_counter: Counter, desc_list: list):\n",
    "        desc_freq = []\n",
    "        for desc in desc_list:\n",
    "            abbr_id = self.abbr_info.desc2id[desc]\n",
    "            desc_count = global_counter[abbr_id] // len(desc)\n",
    "            desc_freq.append((desc, desc_count))\n",
    "        return sorted(desc_freq, key=lambda x: -x[1])[0][0]\n",
    "    \n",
    "\n",
    "abbr_global_freq_model = AbbrGlobalFreqSearcningModel(abbr_info)\n",
    "pred_labels = abbr_global_freq_model.predict(test_texts)\n",
    "\n",
    "AbbrEstimator(test_labels, pred_labels).print_scores()"
   ]
  }
 ],
 "metadata": {
  "kernelspec": {
   "display_name": "Python 3",
   "language": "python",
   "name": "python3"
  },
  "language_info": {
   "codemirror_mode": {
    "name": "ipython",
    "version": 3
   },
   "file_extension": ".py",
   "mimetype": "text/x-python",
   "name": "python",
   "nbconvert_exporter": "python",
   "pygments_lexer": "ipython3",
   "version": "3.8.10"
  }
 },
 "nbformat": 4,
 "nbformat_minor": 4
}

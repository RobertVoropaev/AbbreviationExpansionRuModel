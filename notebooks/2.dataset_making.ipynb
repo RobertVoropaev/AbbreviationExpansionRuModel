{
 "cells": [
  {
   "cell_type": "markdown",
   "metadata": {},
   "source": [
    "# 2. Сборка датасета "
   ]
  },
  {
   "cell_type": "code",
   "execution_count": 1,
   "metadata": {},
   "outputs": [
    {
     "name": "stdout",
     "output_type": "stream",
     "text": [
      "INFO: Pandarallel will run on 8 workers.\n",
      "INFO: Pandarallel will use standard multiprocessing data transfer (pipe) to transfer data between the main process and workers.\n"
     ]
    }
   ],
   "source": [
    "import os\n",
    "import sys\n",
    "\n",
    "import pandas as pd\n",
    "import numpy as np\n",
    "import random\n",
    "\n",
    "from matplotlib import pyplot as plt\n",
    "\n",
    "from tqdm import tqdm\n",
    "\n",
    "from pandarallel import pandarallel\n",
    "\n",
    "import pymorphy2\n",
    "import nltk\n",
    "import pickle\n",
    "\n",
    "from sklearn.model_selection import train_test_split\n",
    "\n",
    "SEED = 1\n",
    "random.seed(SEED)\n",
    "\n",
    "pd.set_option('display.max_colwidth', 255)\n",
    "tqdm.pandas()\n",
    "pandarallel.initialize(progress_bar=True, nb_workers=8, use_memory_fs=False)"
   ]
  },
  {
   "cell_type": "markdown",
   "metadata": {},
   "source": [
    "## 1. Загрузка данных "
   ]
  },
  {
   "cell_type": "code",
   "execution_count": 2,
   "metadata": {},
   "outputs": [],
   "source": [
    "abbr = pd.read_csv(\"../data/abbr.csv\")\n",
    "lenta = pd.read_csv(\"../data/lenta.csv\")"
   ]
  },
  {
   "cell_type": "code",
   "execution_count": 3,
   "metadata": {},
   "outputs": [
    {
     "data": {
      "text/html": [
       "<div>\n",
       "<style scoped>\n",
       "    .dataframe tbody tr th:only-of-type {\n",
       "        vertical-align: middle;\n",
       "    }\n",
       "\n",
       "    .dataframe tbody tr th {\n",
       "        vertical-align: top;\n",
       "    }\n",
       "\n",
       "    .dataframe thead th {\n",
       "        text-align: right;\n",
       "    }\n",
       "</style>\n",
       "<table border=\"1\" class=\"dataframe\">\n",
       "  <thead>\n",
       "    <tr style=\"text-align: right;\">\n",
       "      <th></th>\n",
       "      <th>abbr</th>\n",
       "      <th>desc</th>\n",
       "      <th>desc_norm</th>\n",
       "      <th>desc_len</th>\n",
       "      <th>abbr_norm</th>\n",
       "      <th>abbr_len</th>\n",
       "      <th>abbr_count</th>\n",
       "      <th>desc_count</th>\n",
       "      <th>abbr_id</th>\n",
       "    </tr>\n",
       "  </thead>\n",
       "  <tbody>\n",
       "    <tr>\n",
       "      <th>0</th>\n",
       "      <td>замгенпрокурора</td>\n",
       "      <td>заместитель генерального прокурора</td>\n",
       "      <td>заместитель генеральный прокурор</td>\n",
       "      <td>3</td>\n",
       "      <td>замгенпрокурора</td>\n",
       "      <td>1</td>\n",
       "      <td>29</td>\n",
       "      <td>43</td>\n",
       "      <td>0</td>\n",
       "    </tr>\n",
       "    <tr>\n",
       "      <th>1</th>\n",
       "      <td>...быт...</td>\n",
       "      <td>бытовой</td>\n",
       "      <td>бытовой</td>\n",
       "      <td>1</td>\n",
       "      <td>быт</td>\n",
       "      <td>1</td>\n",
       "      <td>121734</td>\n",
       "      <td>397</td>\n",
       "      <td>1</td>\n",
       "    </tr>\n",
       "    <tr>\n",
       "      <th>2</th>\n",
       "      <td>РС</td>\n",
       "      <td>реактивный снаряд</td>\n",
       "      <td>реактивный снаряд</td>\n",
       "      <td>2</td>\n",
       "      <td>рс</td>\n",
       "      <td>1</td>\n",
       "      <td>67397</td>\n",
       "      <td>28</td>\n",
       "      <td>2</td>\n",
       "    </tr>\n",
       "    <tr>\n",
       "      <th>3</th>\n",
       "      <td>МЦ</td>\n",
       "      <td>морская цель</td>\n",
       "      <td>морской цель</td>\n",
       "      <td>2</td>\n",
       "      <td>мц</td>\n",
       "      <td>1</td>\n",
       "      <td>394</td>\n",
       "      <td>10</td>\n",
       "      <td>3</td>\n",
       "    </tr>\n",
       "    <tr>\n",
       "      <th>4</th>\n",
       "      <td>СКОВС</td>\n",
       "      <td>Северо-Кавказский окружной военный суд</td>\n",
       "      <td>северо кавказский окружный военный суд</td>\n",
       "      <td>5</td>\n",
       "      <td>сковс</td>\n",
       "      <td>1</td>\n",
       "      <td>8383</td>\n",
       "      <td>17</td>\n",
       "      <td>4</td>\n",
       "    </tr>\n",
       "    <tr>\n",
       "      <th>...</th>\n",
       "      <td>...</td>\n",
       "      <td>...</td>\n",
       "      <td>...</td>\n",
       "      <td>...</td>\n",
       "      <td>...</td>\n",
       "      <td>...</td>\n",
       "      <td>...</td>\n",
       "      <td>...</td>\n",
       "      <td>...</td>\n",
       "    </tr>\n",
       "    <tr>\n",
       "      <th>5620</th>\n",
       "      <td>ГО</td>\n",
       "      <td>городское отделение</td>\n",
       "      <td>городской отделение</td>\n",
       "      <td>2</td>\n",
       "      <td>го</td>\n",
       "      <td>1</td>\n",
       "      <td>293935</td>\n",
       "      <td>17</td>\n",
       "      <td>5620</td>\n",
       "    </tr>\n",
       "    <tr>\n",
       "      <th>5621</th>\n",
       "      <td>НАО</td>\n",
       "      <td>Ненецкий автономный округ</td>\n",
       "      <td>ненецкий автономный округ</td>\n",
       "      <td>3</td>\n",
       "      <td>нао</td>\n",
       "      <td>1</td>\n",
       "      <td>340</td>\n",
       "      <td>122</td>\n",
       "      <td>5621</td>\n",
       "    </tr>\n",
       "    <tr>\n",
       "      <th>5622</th>\n",
       "      <td>инстр.</td>\n",
       "      <td>инструкция</td>\n",
       "      <td>инструкция</td>\n",
       "      <td>1</td>\n",
       "      <td>инстр</td>\n",
       "      <td>1</td>\n",
       "      <td>1088</td>\n",
       "      <td>221</td>\n",
       "      <td>5622</td>\n",
       "    </tr>\n",
       "    <tr>\n",
       "      <th>5623</th>\n",
       "      <td>гост.</td>\n",
       "      <td>гостиница</td>\n",
       "      <td>гостиница</td>\n",
       "      <td>1</td>\n",
       "      <td>гост</td>\n",
       "      <td>1</td>\n",
       "      <td>3010</td>\n",
       "      <td>997</td>\n",
       "      <td>5623</td>\n",
       "    </tr>\n",
       "    <tr>\n",
       "      <th>5624</th>\n",
       "      <td>сх.</td>\n",
       "      <td>схема</td>\n",
       "      <td>схема</td>\n",
       "      <td>1</td>\n",
       "      <td>сх</td>\n",
       "      <td>1</td>\n",
       "      <td>8043</td>\n",
       "      <td>748</td>\n",
       "      <td>5624</td>\n",
       "    </tr>\n",
       "  </tbody>\n",
       "</table>\n",
       "<p>5625 rows × 9 columns</p>\n",
       "</div>"
      ],
      "text/plain": [
       "                 abbr                                    desc  \\\n",
       "0     замгенпрокурора      заместитель генерального прокурора   \n",
       "1           ...быт...                                 бытовой   \n",
       "2                  РС                       реактивный снаряд   \n",
       "3                  МЦ                            морская цель   \n",
       "4               СКОВС  Северо-Кавказский окружной военный суд   \n",
       "...               ...                                     ...   \n",
       "5620               ГО                     городское отделение   \n",
       "5621              НАО               Ненецкий автономный округ   \n",
       "5622           инстр.                              инструкция   \n",
       "5623            гост.                               гостиница   \n",
       "5624              сх.                                   схема   \n",
       "\n",
       "                                   desc_norm  desc_len        abbr_norm  \\\n",
       "0           заместитель генеральный прокурор         3  замгенпрокурора   \n",
       "1                                    бытовой         1              быт   \n",
       "2                          реактивный снаряд         2               рс   \n",
       "3                               морской цель         2               мц   \n",
       "4     северо кавказский окружный военный суд         5            сковс   \n",
       "...                                      ...       ...              ...   \n",
       "5620                     городской отделение         2               го   \n",
       "5621               ненецкий автономный округ         3              нао   \n",
       "5622                              инструкция         1            инстр   \n",
       "5623                               гостиница         1             гост   \n",
       "5624                                   схема         1               сх   \n",
       "\n",
       "      abbr_len  abbr_count  desc_count  abbr_id  \n",
       "0            1          29          43        0  \n",
       "1            1      121734         397        1  \n",
       "2            1       67397          28        2  \n",
       "3            1         394          10        3  \n",
       "4            1        8383          17        4  \n",
       "...        ...         ...         ...      ...  \n",
       "5620         1      293935          17     5620  \n",
       "5621         1         340         122     5621  \n",
       "5622         1        1088         221     5622  \n",
       "5623         1        3010         997     5623  \n",
       "5624         1        8043         748     5624  \n",
       "\n",
       "[5625 rows x 9 columns]"
      ]
     },
     "execution_count": 3,
     "metadata": {},
     "output_type": "execute_result"
    }
   ],
   "source": [
    "abbr"
   ]
  },
  {
   "cell_type": "markdown",
   "metadata": {},
   "source": [
    "## 2. Построение дерева сокращений"
   ]
  },
  {
   "cell_type": "code",
   "execution_count": 4,
   "metadata": {},
   "outputs": [],
   "source": [
    "class AbbrInfo:\n",
    "    def __init__(self, abbr_id, abbr, abbr_count):\n",
    "        self.abbr_id = abbr_id \n",
    "        self.abbr = abbr\n",
    "        self.abbr_count = abbr_count\n",
    "\n",
    "ABBR_LIST_KEY = \"<ABBR_LIST_KEY>\"\n",
    "        \n",
    "def create_abbr_tree(abbr, abbr_list_key = ABBR_LIST_KEY):        \n",
    "    tree = {}\n",
    "    for norm_desc, norm_abbr, abbr_id, abbr_count in abbr[[\"desc_norm\", \n",
    "                                                           \"abbr_norm\", \n",
    "                                                           \"abbr_id\", \n",
    "                                                           \"abbr_count\"]].values:\n",
    "        words = norm_desc.split(\" \")\n",
    "\n",
    "        curr_tree = tree\n",
    "        for word in words:\n",
    "            if word not in curr_tree:\n",
    "                curr_tree[word] = {}\n",
    "            curr_tree = curr_tree[word]\n",
    "\n",
    "\n",
    "        if abbr_list_key not in curr_tree:\n",
    "            curr_tree[abbr_list_key] = []\n",
    "\n",
    "        curr_tree[abbr_list_key].append(AbbrInfo(abbr_id, norm_abbr, abbr_count))\n",
    "    return tree"
   ]
  },
  {
   "cell_type": "code",
   "execution_count": 5,
   "metadata": {},
   "outputs": [
    {
     "data": {
      "text/plain": [
       "{'образование': {'и': {'наука': {'<ABBR_LIST_KEY>': [<__main__.AbbrInfo at 0x7fceb41bc8e0>]}}},\n",
       " 'труд': {'<ABBR_LIST_KEY>': [<__main__.AbbrInfo at 0x7fceb41d2280>]},\n",
       " 'оборона': {'украина': {'<ABBR_LIST_KEY>': [<__main__.AbbrInfo at 0x7fceb41e6460>]},\n",
       "  '<ABBR_LIST_KEY>': [<__main__.AbbrInfo at 0x7fceb40a09a0>,\n",
       "   <__main__.AbbrInfo at 0x7fceb3f38700>]},\n",
       " 'экономический': {'развитие': {'<ABBR_LIST_KEY>': [<__main__.AbbrInfo at 0x7fceb417f280>]}},\n",
       " 'связь': {'<ABBR_LIST_KEY>': [<__main__.AbbrInfo at 0x7fceb41b0940>]},\n",
       " 'финансы': {'<ABBR_LIST_KEY>': [<__main__.AbbrInfo at 0x7fceb414f0a0>]},\n",
       " 'внутренний': {'безопасность': {'<ABBR_LIST_KEY>': [<__main__.AbbrInfo at 0x7fceb414f400>]},\n",
       "  'дело': {'<ABBR_LIST_KEY>': [<__main__.AbbrInfo at 0x7fceb3ff3340>]}},\n",
       " 'иностранный': {'дело': {'<ABBR_LIST_KEY>': [<__main__.AbbrInfo at 0x7fceb4162a00>,\n",
       "    <__main__.AbbrInfo at 0x7fceb4162a60>]}},\n",
       " 'строительство': {'<ABBR_LIST_KEY>': [<__main__.AbbrInfo at 0x7fceb4170ee0>]},\n",
       " 'юстиция': {'<ABBR_LIST_KEY>': [<__main__.AbbrInfo at 0x7fceb4175160>,\n",
       "   <__main__.AbbrInfo at 0x7fceb41751c0>]},\n",
       " 'транспорт': {'<ABBR_LIST_KEY>': [<__main__.AbbrInfo at 0x7fceb4175940>,\n",
       "   <__main__.AbbrInfo at 0x7fceb41759a0>]},\n",
       " 'здравоохранение': {'<ABBR_LIST_KEY>': [<__main__.AbbrInfo at 0x7fceb40de2e0>,\n",
       "   <__main__.AbbrInfo at 0x7fceb40de340>]},\n",
       " 'экономика': {'<ABBR_LIST_KEY>': [<__main__.AbbrInfo at 0x7fceb4004700>]},\n",
       " 'энергетика': {'<ABBR_LIST_KEY>': [<__main__.AbbrInfo at 0x7fceb3fbb820>,\n",
       "   <__main__.AbbrInfo at 0x7fceb3fbb880>]},\n",
       " 'национальный': {'безопасность': {'<ABBR_LIST_KEY>': [<__main__.AbbrInfo at 0x7fceb3f3d2e0>]}}}"
      ]
     },
     "execution_count": 5,
     "metadata": {},
     "output_type": "execute_result"
    }
   ],
   "source": [
    "abbr_tree = create_abbr_tree(abbr)\n",
    "abbr_tree[\"министерство\"]"
   ]
  },
  {
   "cell_type": "markdown",
   "metadata": {},
   "source": [
    "## 3. Получение меток для токенов"
   ]
  },
  {
   "cell_type": "code",
   "execution_count": 6,
   "metadata": {},
   "outputs": [],
   "source": [
    "def choice_abbr(abbr_list: list, \n",
    "                weighted_choice: bool = True, \n",
    "                add_to_zeros: float = 0):\n",
    "    abbr_counts = []\n",
    "    \n",
    "    if weighted_choice:\n",
    "        for abbr_info in abbr_list:\n",
    "            cnt = abbr_info.abbr_count\n",
    "            if cnt == 0:\n",
    "                cnt = add_to_zeros\n",
    "            abbr_counts.append(cnt)\n",
    "    else:\n",
    "        abbr_counts = None\n",
    "    \n",
    "    \n",
    "    return random.choices(abbr_list, weights=abbr_counts, k=1)[0]"
   ]
  },
  {
   "cell_type": "code",
   "execution_count": 7,
   "metadata": {},
   "outputs": [
    {
     "data": {
      "text/plain": [
       "'_ _ _ _ _ _ _ _ _ _ _ W-2957 _ _ W-4400 W-842 _ _ W-1523 _ W-842 _ _ _ W-3458 W-5182 _ _ _ _ W-2547 _ _ _ _ _ W-3833 _ _ _ _ W-1523 _ _ _ _ _ _ W-4156 W-1420 _ _ W-1471 _ _ _ _ _ _ W-5412 _ W-4589 _ _ _ _ _ _ W-3305 _ W-2821 _ _ _ _ _ _ _ _ W-2698 _ _ W-4782 _ W-1978 _ _ W-231 _ W-2216 W-2018 W-4782 _ W-3435 _ _ _ _ W-4210 _ _ W-1940 _ _ _ _ _ _ _ _ _ _ W-1002 _ _ W-1454 _ W-2568'"
      ]
     },
     "execution_count": 7,
     "metadata": {},
     "output_type": "execute_result"
    }
   ],
   "source": [
    "OUTSIDE_LABEL = \"_\"\n",
    "BEGIN_LABEL = \"B\"\n",
    "END_LABEL = \"E\"\n",
    "INSIDE_LABEL = \"I\"\n",
    "ONE_WORD_LABEL = \"W\"\n",
    "\n",
    "def get_text_labels(text, \n",
    "                    abbr_tree, \n",
    "                    weighted_choice: bool = None, \n",
    "                    add_to_zeros: float = None):\n",
    "    text = text.split(\" \")\n",
    "    labels = [OUTSIDE_LABEL for i in range(len(text))]\n",
    "\n",
    "    curr_node = abbr_tree\n",
    "    desc_start = None\n",
    "\n",
    "    word_i = 0\n",
    "    while word_i < len(text):\n",
    "        curr_i = word_i\n",
    "        while curr_i < len(text) and text[curr_i] in curr_node:\n",
    "            curr_node = curr_node[text[curr_i]]\n",
    "            curr_i += 1\n",
    "\n",
    "        if ABBR_LIST_KEY in curr_node: \n",
    "\n",
    "            abbr_id = choice_abbr(curr_node[ABBR_LIST_KEY], weighted_choice, add_to_zeros).abbr_id\n",
    "\n",
    "            labels[word_i] = f\"{BEGIN_LABEL}-{abbr_id}\"\n",
    "            for j in range(word_i + 1, curr_i - 1): \n",
    "                labels[j] = f\"{INSIDE_LABEL}-{abbr_id}\"\n",
    "            labels[curr_i - 1] = f\"{END_LABEL}-{abbr_id}\"\n",
    "\n",
    "            if word_i == curr_i - 1:\n",
    "                labels[word_i] = f\"{ONE_WORD_LABEL}-{abbr_id}\"\n",
    "\n",
    "            word_i = curr_i - 1\n",
    "\n",
    "        curr_node = abbr_tree\n",
    "        word_i += 1\n",
    "    return \" \".join(labels)\n",
    "\n",
    "get_text_labels(lenta.text_norm.iloc[0], abbr_tree)"
   ]
  },
  {
   "cell_type": "code",
   "execution_count": 8,
   "metadata": {},
   "outputs": [],
   "source": [
    "from ipymarkup         import show_box_markup\n",
    "from ipymarkup.palette import palette, PALETTE, BLUE, RED, GREEN, PURPLE, BROWN, ORANGE\n",
    "\n",
    "def show_markup(recipe,  tags, use_abbr: bool = True):\n",
    "    mapper = lambda tag: tag[2:] if \"-\" in tag else tag\n",
    "    \n",
    "    tags  = [mapper(tag) for tag in tags]\n",
    "    text  = ' '.join(recipe)\n",
    "    spans = []\n",
    "        \n",
    "    start, end, tag = 0, len(recipe[0]), tags[0]\n",
    "    \n",
    "    for word, ttag in zip(recipe[1:], tags[1:]): \n",
    "        \n",
    "        if tag == ttag:\n",
    "            end  += 1 + len(word)\n",
    "            \n",
    "        else:\n",
    "            span  = (start, end, tag)\n",
    "            spans.append(span)\n",
    "        \n",
    "            start = 1 + end\n",
    "            end  += 1 + len(word)\n",
    "            \n",
    "            if ttag != \"_\":\n",
    "                if use_abbr:\n",
    "                    label = abbr[abbr.abbr_id == int(ttag)].abbr_norm.iloc[0]\n",
    "                else:\n",
    "                    label = abbr[abbr.abbr_id == int(ttag)].desc_norm.iloc[0]\n",
    "                ttag = label + f\" ({ttag})\"\n",
    "            tag   = ttag\n",
    "            \n",
    "    span  = (start, end, tag)\n",
    "    spans.append(span)        \n",
    "            \n",
    "    show_box_markup(text, spans)"
   ]
  },
  {
   "cell_type": "code",
   "execution_count": 9,
   "metadata": {},
   "outputs": [
    {
     "data": {
      "text/html": [
       "<div class=\"tex2jax_ignore\" style=\"white-space: pre-wrap\"><span style=\"padding: 2px; border-radius: 4px; border: 1px solid #bbdefb; background: #e3f2fd\">с 1<span style=\"vertical-align: middle; margin-left: 2px; font-size: 0.7em; color: #64b5f6;\">_</span></span> <span style=\"padding: 2px; border-radius: 4px; border: 1px solid #c8e6c9; background: #e8f5e9\">сентябрь<span style=\"vertical-align: middle; margin-left: 2px; font-size: 0.7em; color: #66bb6a;\">сен (1454)</span></span> <span style=\"padding: 2px; border-radius: 4px; border: 1px solid #bbdefb; background: #e3f2fd\">на весь<span style=\"vertical-align: middle; margin-left: 2px; font-size: 0.7em; color: #64b5f6;\">_</span></span> <span style=\"padding: 2px; border-radius: 4px; border: 1px solid #ffcdd2; background: #ffebee\">территория<span style=\"vertical-align: middle; margin-left: 2px; font-size: 0.7em; color: #e57373;\">тереть (4451)</span></span> <span style=\"padding: 2px; border-radius: 4px; border: 1px solid #ffe0b2; background: #fff3e0\">россия<span style=\"vertical-align: middle; margin-left: 2px; font-size: 0.7em; color: #ffb74d;\">расти (2327)</span></span> <span style=\"padding: 2px; border-radius: 4px; border: 1px solid #bbdefb; background: #e3f2fd\">вводиться<span style=\"vertical-align: middle; margin-left: 2px; font-size: 0.7em; color: #64b5f6;\">_</span></span> <span style=\"padding: 2px; border-radius: 4px; border: 1px solid #d1c4e9; background: #ede7f6\">новый<span style=\"vertical-align: middle; margin-left: 2px; font-size: 0.7em; color: #9575cd;\">новый (1978)</span></span> <span style=\"padding: 2px; border-radius: 4px; border: 1px solid #bbdefb; background: #e3f2fd\">форма<span style=\"vertical-align: middle; margin-left: 2px; font-size: 0.7em; color: #64b5f6;\">_</span></span> <span style=\"padding: 2px; border-radius: 4px; border: 1px solid #d7ccc8; background: #efebe9\">таможенный<span style=\"vertical-align: middle; margin-left: 2px; font-size: 0.7em; color: #a1887f;\">тамож (618)</span></span> <span style=\"padding: 2px; border-radius: 4px; border: 1px solid #bbdefb; background: #e3f2fd\">декларация для<span style=\"vertical-align: middle; margin-left: 2px; font-size: 0.7em; color: #64b5f6;\">_</span></span> <span style=\"padding: 2px; border-radius: 4px; border: 1px solid #bbdefb; background: #e3f2fd\">физический<span style=\"vertical-align: middle; margin-left: 2px; font-size: 0.7em; color: #64b5f6;\">физлицо (2891)</span></span> <span style=\"padding: 2px; border-radius: 4px; border: 1px solid #bbdefb; background: #e3f2fd\">лицо<span style=\"vertical-align: middle; margin-left: 2px; font-size: 0.7em; color: #64b5f6;\">физлицо (2891)</span></span> <span style=\"padding: 2px; border-radius: 4px; border: 1px solid #bbdefb; background: #e3f2fd\">как пояснить в<span style=\"vertical-align: middle; margin-left: 2px; font-size: 0.7em; color: #64b5f6;\">_</span></span> <span style=\"padding: 2px; border-radius: 4px; border: 1px solid #c8e6c9; background: #e8f5e9\">государственный<span style=\"vertical-align: middle; margin-left: 2px; font-size: 0.7em; color: #66bb6a;\">гтк (615)</span></span> <span style=\"padding: 2px; border-radius: 4px; border: 1px solid #c8e6c9; background: #e8f5e9\">таможенный<span style=\"vertical-align: middle; margin-left: 2px; font-size: 0.7em; color: #66bb6a;\">гтк (615)</span></span> <span style=\"padding: 2px; border-radius: 4px; border: 1px solid #c8e6c9; background: #e8f5e9\">комитет<span style=\"vertical-align: middle; margin-left: 2px; font-size: 0.7em; color: #66bb6a;\">гтк (615)</span></span> <span style=\"padding: 2px; border-radius: 4px; border: 1px solid #bbdefb; background: #e3f2fd\">гтк форма декларация<span style=\"vertical-align: middle; margin-left: 2px; font-size: 0.7em; color: #64b5f6;\">_</span></span> <span style=\"padding: 2px; border-radius: 4px; border: 1px solid #ffcdd2; background: #ffebee\">который<span style=\"vertical-align: middle; margin-left: 2px; font-size: 0.7em; color: #e57373;\">кот (1503)</span></span> <span style=\"padding: 2px; border-radius: 4px; border: 1px solid #bbdefb; background: #e3f2fd\">быть<span style=\"vertical-align: middle; margin-left: 2px; font-size: 0.7em; color: #64b5f6;\">_</span></span> <span style=\"padding: 2px; border-radius: 4px; border: 1px solid #ffe0b2; background: #fff3e0\">одобрить<span style=\"vertical-align: middle; margin-left: 2px; font-size: 0.7em; color: #ffb74d;\">одобр (4131)</span></span> <span style=\"padding: 2px; border-radius: 4px; border: 1px solid #d1c4e9; background: #ede7f6\">совет<span style=\"vertical-align: middle; margin-left: 2px; font-size: 0.7em; color: #9575cd;\">сова (4318)</span></span> <span style=\"padding: 2px; border-radius: 4px; border: 1px solid #d7ccc8; background: #efebe9\">руководитель<span style=\"vertical-align: middle; margin-left: 2px; font-size: 0.7em; color: #a1887f;\">рука (5483)</span></span> <span style=\"padding: 2px; border-radius: 4px; border: 1px solid #bbdefb; background: #e3f2fd\">таможенный<span style=\"vertical-align: middle; margin-left: 2px; font-size: 0.7em; color: #64b5f6;\">тс (2684)</span></span> <span style=\"padding: 2px; border-radius: 4px; border: 1px solid #bbdefb; background: #e3f2fd\">служба<span style=\"vertical-align: middle; margin-left: 2px; font-size: 0.7em; color: #64b5f6;\">тс (2684)</span></span> <span style=\"padding: 2px; border-radius: 4px; border: 1px solid #bbdefb; background: #e3f2fd\">государство участник содружество являться единый на<span style=\"vertical-align: middle; margin-left: 2px; font-size: 0.7em; color: #64b5f6;\">_</span></span> <span style=\"padding: 2px; border-radius: 4px; border: 1px solid #ffcdd2; background: #ffebee\">территория<span style=\"vertical-align: middle; margin-left: 2px; font-size: 0.7em; color: #e57373;\">тереть (4451)</span></span> <span style=\"padding: 2px; border-radius: 4px; border: 1px solid #bbdefb; background: #e3f2fd\">весь страна снг за<span style=\"vertical-align: middle; margin-left: 2px; font-size: 0.7em; color: #64b5f6;\">_</span></span> <span style=\"padding: 2px; border-radius: 4px; border: 1px solid #c8e6c9; background: #e8f5e9\">исключение<span style=\"vertical-align: middle; margin-left: 2px; font-size: 0.7em; color: #66bb6a;\">искл (2187)</span></span> <span style=\"padding: 2px; border-radius: 4px; border: 1px solid #ffcdd2; background: #ffebee\">армения<span style=\"vertical-align: middle; margin-left: 2px; font-size: 0.7em; color: #e57373;\">арма (4357)</span></span> <span style=\"padding: 2px; border-radius: 4px; border: 1px solid #bbdefb; background: #e3f2fd\">по данные итар тасс в<span style=\"vertical-align: middle; margin-left: 2px; font-size: 0.7em; color: #64b5f6;\">_</span></span> <span style=\"padding: 2px; border-radius: 4px; border: 1px solid #d1c4e9; background: #ede7f6\">новый<span style=\"vertical-align: middle; margin-left: 2px; font-size: 0.7em; color: #9575cd;\">новый (1978)</span></span> <span style=\"padding: 2px; border-radius: 4px; border: 1px solid #bbdefb; background: #e3f2fd\">декларация содержаться более подробный перечень товар<span style=\"vertical-align: middle; margin-left: 2px; font-size: 0.7em; color: #64b5f6;\">_</span></span> <span style=\"padding: 2px; border-radius: 4px; border: 1px solid #ffe0b2; background: #fff3e0\">подлежащее<span style=\"vertical-align: middle; margin-left: 2px; font-size: 0.7em; color: #ffb74d;\">подлеж (1223)</span></span> <span style=\"padding: 2px; border-radius: 4px; border: 1px solid #bbdefb; background: #e3f2fd\">обязательный декларирование так впервые в они число<span style=\"vertical-align: middle; margin-left: 2px; font-size: 0.7em; color: #64b5f6;\">_</span></span> <span style=\"padding: 2px; border-radius: 4px; border: 1px solid #d1c4e9; background: #ede7f6\">включить<span style=\"vertical-align: middle; margin-left: 2px; font-size: 0.7em; color: #9575cd;\">вкл (1430)</span></span> <span style=\"padding: 2px; border-radius: 4px; border: 1px solid #d7ccc8; background: #efebe9\">ядовитый<span style=\"vertical-align: middle; margin-left: 2px; font-size: 0.7em; color: #a1887f;\">яд (5139)</span></span> <span style=\"padding: 2px; border-radius: 4px; border: 1px solid #bbdefb; background: #e3f2fd\">и сильно действовать<span style=\"vertical-align: middle; margin-left: 2px; font-size: 0.7em; color: #64b5f6;\">_</span></span> <span style=\"padding: 2px; border-radius: 4px; border: 1px solid #bbdefb; background: #e3f2fd\">вещество<span style=\"vertical-align: middle; margin-left: 2px; font-size: 0.7em; color: #64b5f6;\">вещий (4463)</span></span> <span style=\"padding: 2px; border-radius: 4px; border: 1px solid #bbdefb; background: #e3f2fd\">и лекарство радиоактивный<span style=\"vertical-align: middle; margin-left: 2px; font-size: 0.7em; color: #64b5f6;\">_</span></span> <span style=\"padding: 2px; border-radius: 4px; border: 1px solid #c8e6c9; background: #e8f5e9\">материал<span style=\"vertical-align: middle; margin-left: 2px; font-size: 0.7em; color: #66bb6a;\">мат (1198)</span></span> <span style=\"padding: 2px; border-radius: 4px; border: 1px solid #bbdefb; background: #e3f2fd\">объект флора и фауна а<span style=\"vertical-align: middle; margin-left: 2px; font-size: 0.7em; color: #64b5f6;\">_</span></span> <span style=\"padding: 2px; border-radius: 4px; border: 1px solid #ffcdd2; background: #ffebee\">также<span style=\"vertical-align: middle; margin-left: 2px; font-size: 0.7em; color: #e57373;\">тж (5102)</span></span> <span style=\"padding: 2px; border-radius: 4px; border: 1px solid #bbdefb; background: #e3f2fd\">высокочастотный<span style=\"vertical-align: middle; margin-left: 2px; font-size: 0.7em; color: #64b5f6;\">_</span></span> <span style=\"padding: 2px; border-radius: 4px; border: 1px solid #ffe0b2; background: #fff3e0\">радио<span style=\"vertical-align: middle; margin-left: 2px; font-size: 0.7em; color: #ffb74d;\">рад (1796)</span></span> <span style=\"padding: 2px; border-radius: 4px; border: 1px solid #d1c4e9; background: #ede7f6\">электронный<span style=\"vertical-align: middle; margin-left: 2px; font-size: 0.7em; color: #9575cd;\">эу (4287)</span></span> <span style=\"padding: 2px; border-radius: 4px; border: 1px solid #d1c4e9; background: #ede7f6\">устройство<span style=\"vertical-align: middle; margin-left: 2px; font-size: 0.7em; color: #9575cd;\">эу (4287)</span></span> <span style=\"padding: 2px; border-radius: 4px; border: 1px solid #bbdefb; background: #e3f2fd\">и средство<span style=\"vertical-align: middle; margin-left: 2px; font-size: 0.7em; color: #64b5f6;\">_</span></span> <span style=\"padding: 2px; border-radius: 4px; border: 1px solid #d7ccc8; background: #efebe9\">связь<span style=\"vertical-align: middle; margin-left: 2px; font-size: 0.7em; color: #a1887f;\">свз (406)</span></span> <span style=\"padding: 2px; border-radius: 4px; border: 1px solid #bbdefb; background: #e3f2fd\">в частность<span style=\"vertical-align: middle; margin-left: 2px; font-size: 0.7em; color: #64b5f6;\">_</span></span> <span style=\"padding: 2px; border-radius: 4px; border: 1px solid #bbdefb; background: #e3f2fd\">система<span style=\"vertical-align: middle; margin-left: 2px; font-size: 0.7em; color: #64b5f6;\">сист (4079)</span></span> <span style=\"padding: 2px; border-radius: 4px; border: 1px solid #bbdefb; background: #e3f2fd\">радиолокация<span style=\"vertical-align: middle; margin-left: 2px; font-size: 0.7em; color: #64b5f6;\">_</span></span> <span style=\"padding: 2px; border-radius: 4px; border: 1px solid #c8e6c9; background: #e8f5e9\">кабельный<span style=\"vertical-align: middle; margin-left: 2px; font-size: 0.7em; color: #66bb6a;\">кт (2800)</span></span> <span style=\"padding: 2px; border-radius: 4px; border: 1px solid #c8e6c9; background: #e8f5e9\">телевидение<span style=\"vertical-align: middle; margin-left: 2px; font-size: 0.7em; color: #66bb6a;\">кт (2800)</span></span> <span style=\"padding: 2px; border-radius: 4px; border: 1px solid #bbdefb; background: #e3f2fd\">и средство<span style=\"vertical-align: middle; margin-left: 2px; font-size: 0.7em; color: #64b5f6;\">_</span></span> <span style=\"padding: 2px; border-radius: 4px; border: 1px solid #ffcdd2; background: #ffebee\">мобильный<span style=\"vertical-align: middle; margin-left: 2px; font-size: 0.7em; color: #e57373;\">моб (932)</span></span> <span style=\"padding: 2px; border-radius: 4px; border: 1px solid #d7ccc8; background: #efebe9\">связь<span style=\"vertical-align: middle; margin-left: 2px; font-size: 0.7em; color: #a1887f;\">свз (406)</span></span> <span style=\"padding: 2px; border-radius: 4px; border: 1px solid #bbdefb; background: #e3f2fd\">частота выше 9 килогерц кроме тот в декларация быть необходимо приводить более подробный сведение о ввозить или вывозить<span style=\"vertical-align: middle; margin-left: 2px; font-size: 0.7em; color: #64b5f6;\">_</span></span> <span style=\"padding: 2px; border-radius: 4px; border: 1px solid #ffe0b2; background: #fff3e0\">транспортный<span style=\"vertical-align: middle; margin-left: 2px; font-size: 0.7em; color: #ffb74d;\">тс (3751)</span></span> <span style=\"padding: 2px; border-radius: 4px; border: 1px solid #ffe0b2; background: #fff3e0\">средство<span style=\"vertical-align: middle; margin-left: 2px; font-size: 0.7em; color: #ffb74d;\">тс (3751)</span></span> <span style=\"padding: 2px; border-radius: 4px; border: 1px solid #bbdefb; background: #e3f2fd\">вид машинs<span style=\"vertical-align: middle; margin-left: 2px; font-size: 0.7em; color: #64b5f6;\">_</span></span> <span style=\"padding: 2px; border-radius: 4px; border: 1px solid #d1c4e9; background: #ede7f6\">год<span style=\"vertical-align: middle; margin-left: 2px; font-size: 0.7em; color: #9575cd;\">год (2568)</span></span> <span style=\"padding: 2px; border-radius: 4px; border: 1px solid #d7ccc8; background: #efebe9\">выпуск<span style=\"vertical-align: middle; margin-left: 2px; font-size: 0.7em; color: #a1887f;\">вып (3759)</span></span> <span style=\"padding: 2px; border-radius: 4px; border: 1px solid #bbdefb; background: #e3f2fd\">объём<span style=\"vertical-align: middle; margin-left: 2px; font-size: 0.7em; color: #64b5f6;\">_</span></span> <span style=\"padding: 2px; border-radius: 4px; border: 1px solid #bbdefb; background: #e3f2fd\">двигатель<span style=\"vertical-align: middle; margin-left: 2px; font-size: 0.7em; color: #64b5f6;\">двг (2468)</span></span> <span style=\"padding: 2px; border-radius: 4px; border: 1px solid #c8e6c9; background: #e8f5e9\">номер<span style=\"vertical-align: middle; margin-left: 2px; font-size: 0.7em; color: #66bb6a;\">нр (2438)</span></span> <span style=\"padding: 2px; border-radius: 4px; border: 1px solid #ffcdd2; background: #ffebee\">двигатель<span style=\"vertical-align: middle; margin-left: 2px; font-size: 0.7em; color: #e57373;\">дв (2467)</span></span> <span style=\"padding: 2px; border-radius: 4px; border: 1px solid #bbdefb; background: #e3f2fd\">кузов и шасси в<span style=\"vertical-align: middle; margin-left: 2px; font-size: 0.7em; color: #64b5f6;\">_</span></span> <span style=\"padding: 2px; border-radius: 4px; border: 1px solid #ffe0b2; background: #fff3e0\">россия<span style=\"vertical-align: middle; margin-left: 2px; font-size: 0.7em; color: #ffb74d;\">расти (2327)</span></span> <span style=\"padding: 2px; border-radius: 4px; border: 1px solid #d1c4e9; background: #ede7f6\">новый<span style=\"vertical-align: middle; margin-left: 2px; font-size: 0.7em; color: #9575cd;\">новый (1978)</span></span> <span style=\"padding: 2px; border-radius: 4px; border: 1px solid #bbdefb; background: #e3f2fd\">форма декларация наряду с прежний применяться с 1<span style=\"vertical-align: middle; margin-left: 2px; font-size: 0.7em; color: #64b5f6;\">_</span></span> <span style=\"padding: 2px; border-radius: 4px; border: 1px solid #ffe0b2; background: #fff3e0\">август<span style=\"vertical-align: middle; margin-left: 2px; font-size: 0.7em; color: #ffb74d;\">авг (3248)</span></span> <span style=\"padding: 2px; border-radius: 4px; border: 1px solid #bbdefb; background: #e3f2fd\">лишь на<span style=\"vertical-align: middle; margin-left: 2px; font-size: 0.7em; color: #64b5f6;\">_</span></span> <span style=\"padding: 2px; border-radius: 4px; border: 1px solid #d1c4e9; background: #ede7f6\">московский<span style=\"vertical-align: middle; margin-left: 2px; font-size: 0.7em; color: #9575cd;\">моск (5028)</span></span> <span style=\"padding: 2px; border-radius: 4px; border: 1px solid #d7ccc8; background: #efebe9\">таможенный<span style=\"vertical-align: middle; margin-left: 2px; font-size: 0.7em; color: #a1887f;\">тамож (618)</span></span> <span style=\"padding: 2px; border-radius: 4px; border: 1px solid #d7ccc8; background: #efebe9\">пункт<span style=\"vertical-align: middle; margin-left: 2px; font-size: 0.7em; color: #a1887f;\">пп (4058)</span></span> <span style=\"padding: 2px; border-radius: 4px; border: 1px solid #bbdefb; background: #e3f2fd\">шереметьево<span style=\"vertical-align: middle; margin-left: 2px; font-size: 0.7em; color: #64b5f6;\">шре (321)</span></span> <span style=\"padding: 2px; border-radius: 4px; border: 1px solid #bbdefb; background: #e3f2fd\">в<span style=\"vertical-align: middle; margin-left: 2px; font-size: 0.7em; color: #64b5f6;\">_</span></span> <span style=\"padding: 2px; border-radius: 4px; border: 1px solid #c8e6c9; background: #e8f5e9\">внуково<span style=\"vertical-align: middle; margin-left: 2px; font-size: 0.7em; color: #66bb6a;\">внк (2983)</span></span> <span style=\"padding: 2px; border-radius: 4px; border: 1px solid #bbdefb; background: #e3f2fd\">в<span style=\"vertical-align: middle; margin-left: 2px; font-size: 0.7em; color: #64b5f6;\">_</span></span> <span style=\"padding: 2px; border-radius: 4px; border: 1px solid #ffcdd2; background: #ffebee\">домодедово<span style=\"vertical-align: middle; margin-left: 2px; font-size: 0.7em; color: #e57373;\">дме (3196)</span></span> <span style=\"padding: 2px; border-radius: 4px; border: 1px solid #ffe0b2; background: #fff3e0\">чкаловский<span style=\"vertical-align: middle; margin-left: 2px; font-size: 0.7em; color: #ffb74d;\">чкл (3081)</span></span> <span style=\"padding: 2px; border-radius: 4px; border: 1px solid #bbdefb; background: #e3f2fd\">и на<span style=\"vertical-align: middle; margin-left: 2px; font-size: 0.7em; color: #64b5f6;\">_</span></span> <span style=\"padding: 2px; border-radius: 4px; border: 1px solid #d1c4e9; background: #ede7f6\">железнодорожный<span style=\"vertical-align: middle; margin-left: 2px; font-size: 0.7em; color: #9575cd;\">ждв (837)</span></span> <span style=\"padding: 2px; border-radius: 4px; border: 1px solid #d1c4e9; background: #ede7f6\">вокзал<span style=\"vertical-align: middle; margin-left: 2px; font-size: 0.7em; color: #9575cd;\">ждв (837)</span></span> <span style=\"padding: 2px; border-radius: 4px; border: 1px solid #bbdefb; background: #e3f2fd\">теперь она вводиться на весь<span style=\"vertical-align: middle; margin-left: 2px; font-size: 0.7em; color: #64b5f6;\">_</span></span> <span style=\"padding: 2px; border-radius: 4px; border: 1px solid #ffcdd2; background: #ffebee\">территория<span style=\"vertical-align: middle; margin-left: 2px; font-size: 0.7em; color: #e57373;\">тереть (4451)</span></span> <span style=\"padding: 2px; border-radius: 4px; border: 1px solid #bbdefb; background: #e3f2fd\">страна<span style=\"vertical-align: middle; margin-left: 2px; font-size: 0.7em; color: #64b5f6;\">_</span></span> <span style=\"padding: 2px; border-radius: 4px; border: 1px solid #d7ccc8; background: #efebe9\">преимущество<span style=\"vertical-align: middle; margin-left: 2px; font-size: 0.7em; color: #a1887f;\">преим (1162)</span></span> <span style=\"padding: 2px; border-radius: 4px; border: 1px solid #d1c4e9; background: #ede7f6\">новый<span style=\"vertical-align: middle; margin-left: 2px; font-size: 0.7em; color: #9575cd;\">новый (1978)</span></span> <span style=\"padding: 2px; border-radius: 4px; border: 1px solid #bbdefb; background: #e3f2fd\">декларация пояснить в гтк являться то что она быть единый на<span style=\"vertical-align: middle; margin-left: 2px; font-size: 0.7em; color: #64b5f6;\">_</span></span> <span style=\"padding: 2px; border-radius: 4px; border: 1px solid #bbdefb; background: #e3f2fd\">территория<span style=\"vertical-align: middle; margin-left: 2px; font-size: 0.7em; color: #64b5f6;\">терр (4452)</span></span> <span style=\"padding: 2px; border-radius: 4px; border: 1px solid #bbdefb; background: #e3f2fd\">11 государство снг подписать<span style=\"vertical-align: middle; margin-left: 2px; font-size: 0.7em; color: #64b5f6;\">_</span></span> <span style=\"padding: 2px; border-radius: 4px; border: 1px solid #c8e6c9; background: #e8f5e9\">соглашение<span style=\"vertical-align: middle; margin-left: 2px; font-size: 0.7em; color: #66bb6a;\">согл (3130)</span></span> <span style=\"padding: 2px; border-radius: 4px; border: 1px solid #bbdefb; background: #e3f2fd\">к<span style=\"vertical-align: middle; margin-left: 2px; font-size: 0.7em; color: #64b5f6;\">_</span></span> <span style=\"padding: 2px; border-radius: 4px; border: 1px solid #ffcdd2; background: #ffebee\">который<span style=\"vertical-align: middle; margin-left: 2px; font-size: 0.7em; color: #e57373;\">кот (1503)</span></span> <span style=\"padding: 2px; border-radius: 4px; border: 1px solid #bbdefb; background: #e3f2fd\">пока не присоединиться лишь<span style=\"vertical-align: middle; margin-left: 2px; font-size: 0.7em; color: #64b5f6;\">_</span></span> <span style=\"padding: 2px; border-radius: 4px; border: 1px solid #ffcdd2; background: #ffebee\">армения<span style=\"vertical-align: middle; margin-left: 2px; font-size: 0.7em; color: #e57373;\">арма (4357)</span></span> <span style=\"padding: 2px; border-radius: 4px; border: 1px solid #bbdefb; background: #e3f2fd\">но с она сейчас вестись конструктивный переговоры<span style=\"vertical-align: middle; margin-left: 2px; font-size: 0.7em; color: #64b5f6;\">_</span></span> <span style=\"padding: 2px; border-radius: 4px; border: 1px solid #d1c4e9; background: #ede7f6\">новый<span style=\"vertical-align: middle; margin-left: 2px; font-size: 0.7em; color: #9575cd;\">новый (1978)</span></span> <span style=\"padding: 2px; border-radius: 4px; border: 1px solid #d7ccc8; background: #efebe9\">таможенный<span style=\"vertical-align: middle; margin-left: 2px; font-size: 0.7em; color: #a1887f;\">тамож (618)</span></span> <span style=\"padding: 2px; border-radius: 4px; border: 1px solid #bbdefb; background: #e3f2fd\">декларация уже вступить в сила на<span style=\"vertical-align: middle; margin-left: 2px; font-size: 0.7em; color: #64b5f6;\">_</span></span> <span style=\"padding: 2px; border-radius: 4px; border: 1px solid #bbdefb; background: #e3f2fd\">территория<span style=\"vertical-align: middle; margin-left: 2px; font-size: 0.7em; color: #64b5f6;\">терр (4452)</span></span> <span style=\"padding: 2px; border-radius: 4px; border: 1px solid #bbdefb; background: #e3f2fd\">украина и белоруссия<span style=\"vertical-align: middle; margin-left: 2px; font-size: 0.7em; color: #64b5f6;\">_</span></span> <span style=\"padding: 2px; border-radius: 4px; border: 1px solid #ffcdd2; background: #ffebee\">другой<span style=\"vertical-align: middle; margin-left: 2px; font-size: 0.7em; color: #e57373;\">др (2297)</span></span> <span style=\"padding: 2px; border-radius: 4px; border: 1px solid #bbdefb; background: #e3f2fd\">государство снг<span style=\"vertical-align: middle; margin-left: 2px; font-size: 0.7em; color: #64b5f6;\">_</span></span> <span style=\"padding: 2px; border-radius: 4px; border: 1px solid #ffe0b2; background: #fff3e0\">заявить<span style=\"vertical-align: middle; margin-left: 2px; font-size: 0.7em; color: #ffb74d;\">заявл (3293)</span></span> <span style=\"padding: 2px; border-radius: 4px; border: 1px solid #bbdefb; background: #e3f2fd\">о свой готовность ввести она на свой<span style=\"vertical-align: middle; margin-left: 2px; font-size: 0.7em; color: #64b5f6;\">_</span></span> <span style=\"padding: 2px; border-radius: 4px; border: 1px solid #ffcdd2; background: #ffebee\">территория<span style=\"vertical-align: middle; margin-left: 2px; font-size: 0.7em; color: #e57373;\">тереть (4451)</span></span> <span style=\"padding: 2px; border-radius: 4px; border: 1px solid #bbdefb; background: #e3f2fd\">до концатекущего<span style=\"vertical-align: middle; margin-left: 2px; font-size: 0.7em; color: #64b5f6;\">_</span></span> <span style=\"padding: 2px; border-radius: 4px; border: 1px solid #d1c4e9; background: #ede7f6\">год<span style=\"vertical-align: middle; margin-left: 2px; font-size: 0.7em; color: #9575cd;\">год (2568)</span></span></div>"
      ],
      "text/plain": [
       "<IPython.core.display.HTML object>"
      ]
     },
     "metadata": {},
     "output_type": "display_data"
    }
   ],
   "source": [
    "text = lenta.text_norm.iloc[6]\n",
    "labels = get_text_labels(text, abbr_tree)\n",
    "\n",
    "show_markup(text.split(\" \"), labels.split(\" \"))"
   ]
  },
  {
   "cell_type": "code",
   "execution_count": 10,
   "metadata": {},
   "outputs": [
    {
     "data": {
      "application/vnd.jupyter.widget-view+json": {
       "model_id": "106174e35d794ddbbbd08161c3be348e",
       "version_major": 2,
       "version_minor": 0
      },
      "text/plain": [
       "VBox(children=(HBox(children=(IntProgress(value=0, description='0.00%', max=85735), Label(value='0 / 85735')))…"
      ]
     },
     "metadata": {},
     "output_type": "display_data"
    }
   ],
   "source": [
    "lenta[\"labels\"] = lenta[\"text_norm\"].parallel_apply(lambda x: get_text_labels(x, abbr_tree))"
   ]
  },
  {
   "cell_type": "markdown",
   "metadata": {},
   "source": [
    "## 4. Замена слов на сокращения "
   ]
  },
  {
   "cell_type": "code",
   "execution_count": 11,
   "metadata": {},
   "outputs": [],
   "source": [
    "def replace_word_by_abbr(text, labels, abbr, p_replace: float = 0.5):\n",
    "    text = text.split(\" \")\n",
    "    labels = labels.split(\" \")\n",
    "    \n",
    "    new_text = []\n",
    "    new_labels = []\n",
    "\n",
    "    i = 0\n",
    "    while i < len(text):\n",
    "        label = labels[i]\n",
    "        if label == OUTSIDE_LABEL:\n",
    "            new_text.append(text[i])\n",
    "            new_labels.append(OUTSIDE_LABEL)\n",
    "\n",
    "        mode = label[0]\n",
    "\n",
    "        if mode in [ONE_WORD_LABEL, BEGIN_LABEL]:\n",
    "            abbr_id = int(label[2:])\n",
    "            replaced = random.choices([False, True], weights=[(1 - p_replace), p_replace])[0]\n",
    "            if replaced:\n",
    "                norm_abbr = abbr[abbr.abbr_id == abbr_id].abbr_norm.iloc[0].split(\" \")\n",
    "                \n",
    "                if len(norm_abbr) == 1:\n",
    "                    new_text.append(norm_abbr[0])\n",
    "                    new_labels.append(f\"{ONE_WORD_LABEL}-{str(abbr_id)}\")\n",
    "                else:\n",
    "                    new_text.append(norm_abbr[0])\n",
    "                    new_labels.append(f\"{BEGIN_LABEL}-{str(abbr_id)}\")\n",
    "                    for word in norm_abbr[1:-1]:\n",
    "                        new_text.append(word)\n",
    "                        new_labels.append(f\"{INSIDE_LABEL}-{str(abbr_id)}\")\n",
    "                    new_text.append(norm_abbr[-1])\n",
    "                    new_labels.append(f\"{END_LABEL}-{str(abbr_id)}\")\n",
    "\n",
    "            while i < len(text) and labels[i] != OUTSIDE_LABEL and int(labels[i][2:]) == abbr_id:\n",
    "                if not replaced:\n",
    "                    new_text.append(text[i])\n",
    "                    new_labels.append(OUTSIDE_LABEL)\n",
    "                i += 1\n",
    "        else:\n",
    "            i += 1\n",
    "\n",
    "    new_text = \" \".join(new_text)\n",
    "    new_labels = \" \".join(new_labels)\n",
    "    \n",
    "    return pd.Series({\"new_text\": new_text, \"new_labels\": new_labels})"
   ]
  },
  {
   "cell_type": "code",
   "execution_count": 12,
   "metadata": {},
   "outputs": [
    {
     "data": {
      "text/html": [
       "<div class=\"tex2jax_ignore\" style=\"white-space: pre-wrap\"><span style=\"padding: 2px; border-radius: 4px; border: 1px solid #d1c4e9; background: #ede7f6\">подз<span style=\"vertical-align: middle; margin-left: 2px; font-size: 0.7em; color: #9575cd;\">1089</span></span> <span style=\"padding: 2px; border-radius: 4px; border: 1px solid #bbdefb; background: #e3f2fd\">толчок сила 5 2 балл на<span style=\"vertical-align: middle; margin-left: 2px; font-size: 0.7em; color: #64b5f6;\">_</span></span> <span style=\"padding: 2px; border-radius: 4px; border: 1px solid #d7ccc8; background: #efebe9\">сз<span style=\"vertical-align: middle; margin-left: 2px; font-size: 0.7em; color: #a1887f;\">северо запад (2165)</span></span> <span style=\"padding: 2px; border-radius: 4px; border: 1px solid #bbdefb; background: #e3f2fd\">турц<span style=\"vertical-align: middle; margin-left: 2px; font-size: 0.7em; color: #64b5f6;\">турция (920)</span></span> <span style=\"padding: 2px; border-radius: 4px; border: 1px solid #bbdefb; background: #e3f2fd\">где 17 август произойти разрушительноеземлетрясение привести к гибель более 14 тысяча человек сегодняв 11 11 местный<span style=\"vertical-align: middle; margin-left: 2px; font-size: 0.7em; color: #64b5f6;\">_</span></span> <span style=\"padding: 2px; border-radius: 4px; border: 1px solid #c8e6c9; background: #e8f5e9\">вр<span style=\"vertical-align: middle; margin-left: 2px; font-size: 0.7em; color: #66bb6a;\">время (461)</span></span> <span style=\"padding: 2px; border-radius: 4px; border: 1px solid #bbdefb; background: #e3f2fd\">12 11 по<span style=\"vertical-align: middle; margin-left: 2px; font-size: 0.7em; color: #64b5f6;\">_</span></span> <span style=\"padding: 2px; border-radius: 4px; border: 1px solid #ffcdd2; background: #ffebee\">моск<span style=\"vertical-align: middle; margin-left: 2px; font-size: 0.7em; color: #e57373;\">московский (5028)</span></span> <span style=\"padding: 2px; border-radius: 4px; border: 1px solid #c8e6c9; background: #e8f5e9\">вр<span style=\"vertical-align: middle; margin-left: 2px; font-size: 0.7em; color: #66bb6a;\">время (461)</span></span> <span style=\"padding: 2px; border-radius: 4px; border: 1px solid #bbdefb; background: #e3f2fd\">зафиксировать<span style=\"vertical-align: middle; margin-left: 2px; font-size: 0.7em; color: #64b5f6;\">_</span></span> <span style=\"padding: 2px; border-radius: 4px; border: 1px solid #ffe0b2; background: #fff3e0\">подз<span style=\"vertical-align: middle; margin-left: 2px; font-size: 0.7em; color: #ffb74d;\">подземный (1089)</span></span> <span style=\"padding: 2px; border-radius: 4px; border: 1px solid #bbdefb; background: #e3f2fd\">толчок сила 5 2 балл по шкала рихтер он<span style=\"vertical-align: middle; margin-left: 2px; font-size: 0.7em; color: #64b5f6;\">_</span></span> <span style=\"padding: 2px; border-radius: 4px; border: 1px solid #d1c4e9; background: #ede7f6\">эц<span style=\"vertical-align: middle; margin-left: 2px; font-size: 0.7em; color: #9575cd;\">эпицентр (99)</span></span> <span style=\"padding: 2px; border-radius: 4px; border: 1px solid #bbdefb; background: #e3f2fd\">какпрежде находиться в город измит сообщить сейсмологический обсерватория босфорский<span style=\"vertical-align: middle; margin-left: 2px; font-size: 0.7em; color: #64b5f6;\">_</span></span> <span style=\"padding: 2px; border-radius: 4px; border: 1px solid #d7ccc8; background: #efebe9\">унив<span style=\"vertical-align: middle; margin-left: 2px; font-size: 0.7em; color: #a1887f;\">университет (4897)</span></span> <span style=\"padding: 2px; border-radius: 4px; border: 1px solid #d1c4e9; background: #ede7f6\">новый<span style=\"vertical-align: middle; margin-left: 2px; font-size: 0.7em; color: #9575cd;\">новый (1978)</span></span> <span style=\"padding: 2px; border-radius: 4px; border: 1px solid #bbdefb; background: #e3f2fd\">землетрясение вызвать паника у местный житель по сообщение ввс погибнуть один человек и около 70 ранить<span style=\"vertical-align: middle; margin-left: 2px; font-size: 0.7em; color: #64b5f6;\">_</span></span></div>"
      ],
      "text/plain": [
       "<IPython.core.display.HTML object>"
      ]
     },
     "metadata": {},
     "output_type": "display_data"
    },
    {
     "data": {
      "text/html": [
       "<div class=\"tex2jax_ignore\" style=\"white-space: pre-wrap\"><span style=\"padding: 2px; border-radius: 4px; border: 1px solid #bbdefb; background: #e3f2fd\">15<span style=\"vertical-align: middle; margin-left: 2px; font-size: 0.7em; color: #64b5f6;\">_</span></span> <span style=\"padding: 2px; border-radius: 4px; border: 1px solid #bbdefb; background: #e3f2fd\">предст<span style=\"vertical-align: middle; margin-left: 2px; font-size: 0.7em; color: #64b5f6;\">представитель (4959)</span></span> <span style=\"padding: 2px; border-radius: 4px; border: 1px solid #c8e6c9; background: #e8f5e9\">нбп<span style=\"vertical-align: middle; margin-left: 2px; font-size: 0.7em; color: #66bb6a;\">национал большевистский партия (4573)</span></span> <span style=\"padding: 2px; border-radius: 4px; border: 1px solid #bbdefb; background: #e3f2fd\">россия разбрасывать в<span style=\"vertical-align: middle; margin-left: 2px; font-size: 0.7em; color: #64b5f6;\">_</span></span> <span style=\"padding: 2px; border-radius: 4px; border: 1px solid #ffcdd2; background: #ffebee\">далее<span style=\"vertical-align: middle; margin-left: 2px; font-size: 0.7em; color: #e57373;\">день (2302)</span></span> <span style=\"padding: 2px; border-radius: 4px; border: 1px solid #bbdefb; background: #e3f2fd\">независимость украина 24 август в севастополь листовка антиукраинский<span style=\"vertical-align: middle; margin-left: 2px; font-size: 0.7em; color: #64b5f6;\">_</span></span> <span style=\"padding: 2px; border-radius: 4px; border: 1px solid #ffe0b2; background: #fff3e0\">сода<span style=\"vertical-align: middle; margin-left: 2px; font-size: 0.7em; color: #ffb74d;\">содержание (2089)</span></span> <span style=\"padding: 2px; border-radius: 4px; border: 1px solid #bbdefb; background: #e3f2fd\">мочь получить наказание по суд до 5 год лишение свобода как сообщать<span style=\"vertical-align: middle; margin-left: 2px; font-size: 0.7em; color: #64b5f6;\">_</span></span> <span style=\"padding: 2px; border-radius: 4px; border: 1px solid #d1c4e9; background: #ede7f6\">иф<span style=\"vertical-align: middle; margin-left: 2px; font-size: 0.7em; color: #9575cd;\">интерфакс (1774)</span></span> <span style=\"padding: 2px; border-radius: 4px; border: 1px solid #bbdefb; background: #e3f2fd\">украина действие лимоновец забраться 24 август на башня час севастопольский патриотический<span style=\"vertical-align: middle; margin-left: 2px; font-size: 0.7em; color: #64b5f6;\">_</span></span> <span style=\"padding: 2px; border-radius: 4px; border: 1px solid #d7ccc8; background: #efebe9\">кл<span style=\"vertical-align: middle; margin-left: 2px; font-size: 0.7em; color: #a1887f;\">клуб (5512)</span></span> <span style=\"padding: 2px; border-radius: 4px; border: 1px solid #bbdefb; background: #e3f2fd\">чмф<span style=\"vertical-align: middle; margin-left: 2px; font-size: 0.7em; color: #64b5f6;\">черноморский флот (4767)</span></span> <span style=\"padding: 2px; border-radius: 4px; border: 1px solid #bbdefb; background: #e3f2fd\">рф и с выкрик севастополь крым россия разбрасывать оттуда листовка квалифицировать правоохранительный орган украина как злостный хулиганство против<span style=\"vertical-align: middle; margin-left: 2px; font-size: 0.7em; color: #64b5f6;\">_</span></span> <span style=\"padding: 2px; border-radius: 4px; border: 1px solid #c8e6c9; background: #e8f5e9\">актив<span style=\"vertical-align: middle; margin-left: 2px; font-size: 0.7em; color: #66bb6a;\">активист (4352)</span></span> <span style=\"padding: 2px; border-radius: 4px; border: 1px solid #bbdefb; background: #e3f2fd\">партия эдуард лимонов возбудить уголовный дело предусматривать наказание на срок от один до пять<span style=\"vertical-align: middle; margin-left: 2px; font-size: 0.7em; color: #64b5f6;\">_</span></span> <span style=\"padding: 2px; border-radius: 4px; border: 1px solid #d1c4e9; background: #ede7f6\">год<span style=\"vertical-align: middle; margin-left: 2px; font-size: 0.7em; color: #9575cd;\">год (2568)</span></span> <span style=\"padding: 2px; border-radius: 4px; border: 1px solid #bbdefb; background: #e3f2fd\">лишение свобода в ход<span style=\"vertical-align: middle; margin-left: 2px; font-size: 0.7em; color: #64b5f6;\">_</span></span> <span style=\"padding: 2px; border-radius: 4px; border: 1px solid #ffcdd2; background: #ffebee\">следств<span style=\"vertical-align: middle; margin-left: 2px; font-size: 0.7em; color: #e57373;\">следственный (1916)</span></span> <span style=\"padding: 2px; border-radius: 4px; border: 1px solid #bbdefb; background: #e3f2fd\">мероприятие милиция установить причастность к группа ряд местный житель в результат провести обыск у они быть изъять программный документ<span style=\"vertical-align: middle; margin-left: 2px; font-size: 0.7em; color: #64b5f6;\">_</span></span> <span style=\"padding: 2px; border-radius: 4px; border: 1px solid #ffe0b2; background: #fff3e0\">нпб<span style=\"vertical-align: middle; margin-left: 2px; font-size: 0.7em; color: #ffb74d;\">национал большевистский партия (4574)</span></span> <span style=\"padding: 2px; border-radius: 4px; border: 1px solid #bbdefb; background: #e3f2fd\">россия а<span style=\"vertical-align: middle; margin-left: 2px; font-size: 0.7em; color: #64b5f6;\">_</span></span> <span style=\"padding: 2px; border-radius: 4px; border: 1px solid #d1c4e9; background: #ede7f6\">тж<span style=\"vertical-align: middle; margin-left: 2px; font-size: 0.7em; color: #9575cd;\">также (5102)</span></span> <span style=\"padding: 2px; border-radius: 4px; border: 1px solid #bbdefb; background: #e3f2fd\">переписка<span style=\"vertical-align: middle; margin-left: 2px; font-size: 0.7em; color: #64b5f6;\">_</span></span> <span style=\"padding: 2px; border-radius: 4px; border: 1px solid #d7ccc8; background: #efebe9\">чл<span style=\"vertical-align: middle; margin-left: 2px; font-size: 0.7em; color: #a1887f;\">член (4055)</span></span> <span style=\"padding: 2px; border-radius: 4px; border: 1px solid #bbdefb; background: #e3f2fd\">партия с<span style=\"vertical-align: middle; margin-left: 2px; font-size: 0.7em; color: #64b5f6;\">_</span></span> <span style=\"padding: 2px; border-radius: 4px; border: 1px solid #bbdefb; background: #e3f2fd\">лд<span style=\"vertical-align: middle; margin-left: 2px; font-size: 0.7em; color: #64b5f6;\">лидер (431)</span></span> <span style=\"padding: 2px; border-radius: 4px; border: 1px solid #bbdefb; background: #e3f2fd\">эдуард лимонов изъять также листовка и<span style=\"vertical-align: middle; margin-left: 2px; font-size: 0.7em; color: #64b5f6;\">_</span></span> <span style=\"padding: 2px; border-radius: 4px; border: 1px solid #c8e6c9; background: #e8f5e9\">газ<span style=\"vertical-align: middle; margin-left: 2px; font-size: 0.7em; color: #66bb6a;\">газета (2834)</span></span> <span style=\"padding: 2px; border-radius: 4px; border: 1px solid #ffe0b2; background: #fff3e0\">нпб<span style=\"vertical-align: middle; margin-left: 2px; font-size: 0.7em; color: #ffb74d;\">национал большевистский партия (4574)</span></span> <span style=\"padding: 2px; border-radius: 4px; border: 1px solid #bbdefb; background: #e3f2fd\">в<span style=\"vertical-align: middle; margin-left: 2px; font-size: 0.7em; color: #64b5f6;\">_</span></span> <span style=\"padding: 2px; border-radius: 4px; border: 1px solid #ffcdd2; background: #ffebee\">наст<span style=\"vertical-align: middle; margin-left: 2px; font-size: 0.7em; color: #e57373;\">настоящий время (2415)</span></span> <span style=\"padding: 2px; border-radius: 4px; border: 1px solid #bbdefb; background: #e3f2fd\">участник<span style=\"vertical-align: middle; margin-left: 2px; font-size: 0.7em; color: #64b5f6;\">_</span></span> <span style=\"padding: 2px; border-radius: 4px; border: 1px solid #ffe0b2; background: #fff3e0\">акц<span style=\"vertical-align: middle; margin-left: 2px; font-size: 0.7em; color: #ffb74d;\">акция (5353)</span></span> <span style=\"padding: 2px; border-radius: 4px; border: 1px solid #bbdefb; background: #e3f2fd\">протест против украинский статус севастополь отбывать наказание в вид 15 сутки административный арест и заниматься уборка<span style=\"vertical-align: middle; margin-left: 2px; font-size: 0.7em; color: #64b5f6;\">_</span></span> <span style=\"padding: 2px; border-radius: 4px; border: 1px solid #d1c4e9; background: #ede7f6\">терр<span style=\"vertical-align: middle; margin-left: 2px; font-size: 0.7em; color: #9575cd;\">территория (4452)</span></span></div>"
      ],
      "text/plain": [
       "<IPython.core.display.HTML object>"
      ]
     },
     "metadata": {},
     "output_type": "display_data"
    },
    {
     "data": {
      "text/html": [
       "<div class=\"tex2jax_ignore\" style=\"white-space: pre-wrap\"><span style=\"padding: 2px; border-radius: 4px; border: 1px solid #bbdefb; background: #e3f2fd\">на юг киргизия а именно в баткенском и чон алайскомрайонах ошский<span style=\"vertical-align: middle; margin-left: 2px; font-size: 0.7em; color: #64b5f6;\">_</span></span> <span style=\"padding: 2px; border-radius: 4px; border: 1px solid #d7ccc8; background: #efebe9\">обл<span style=\"vertical-align: middle; margin-left: 2px; font-size: 0.7em; color: #a1887f;\">область (4749)</span></span> <span style=\"padding: 2px; border-radius: 4px; border: 1px solid #bbdefb; background: #e3f2fd\">в ночь на вторникпродолжались бой между<span style=\"vertical-align: middle; margin-left: 2px; font-size: 0.7em; color: #64b5f6;\">_</span></span> <span style=\"padding: 2px; border-radius: 4px; border: 1px solid #bbdefb; background: #e3f2fd\">отр<span style=\"vertical-align: middle; margin-left: 2px; font-size: 0.7em; color: #64b5f6;\">отряд (4210)</span></span> <span style=\"padding: 2px; border-radius: 4px; border: 1px solid #bbdefb; background: #e3f2fd\">боевик и правительственнымивойсками как сообщить интерфакс в силовой структура ошскойобласти<span style=\"vertical-align: middle; margin-left: 2px; font-size: 0.7em; color: #64b5f6;\">_</span></span> <span style=\"padding: 2px; border-radius: 4px; border: 1px solid #c8e6c9; background: #e8f5e9\">наиб<span style=\"vertical-align: middle; margin-left: 2px; font-size: 0.7em; color: #66bb6a;\">наиболее (3713)</span></span> <span style=\"padding: 2px; border-radius: 4px; border: 1px solid #bbdefb; background: #e3f2fd\">напрячь ситуация складываться в чон алайский район в частность у сесть кара теин и карамык приграничный с таджикистан где перестрелка продолжаться втечение 2 5 час по предварительный<span style=\"vertical-align: middle; margin-left: 2px; font-size: 0.7em; color: #64b5f6;\">_</span></span> <span style=\"padding: 2px; border-radius: 4px; border: 1px solid #ffcdd2; background: #ffebee\">инфа<span style=\"vertical-align: middle; margin-left: 2px; font-size: 0.7em; color: #e57373;\">информация (3930)</span></span> <span style=\"padding: 2px; border-radius: 4px; border: 1px solid #bbdefb; background: #e3f2fd\">среди военнослужащихправительственных сила есть легко раненый о потеря боевик поканичего не известно также сообщаться что в ночь на 31<span style=\"vertical-align: middle; margin-left: 2px; font-size: 0.7em; color: #64b5f6;\">_</span></span> <span style=\"padding: 2px; border-radius: 4px; border: 1px solid #ffe0b2; background: #fff3e0\">авг<span style=\"vertical-align: middle; margin-left: 2px; font-size: 0.7em; color: #ffb74d;\">август (3248)</span></span> <span style=\"padding: 2px; border-radius: 4px; border: 1px solid #bbdefb; background: #e3f2fd\">шесть боевиковатаковали село сохо в район киргизско<span style=\"vertical-align: middle; margin-left: 2px; font-size: 0.7em; color: #64b5f6;\">_</span></span> <span style=\"padding: 2px; border-radius: 4px; border: 1px solid #d1c4e9; background: #ede7f6\">узб<span style=\"vertical-align: middle; margin-left: 2px; font-size: 0.7em; color: #9575cd;\">узбекский (3375)</span></span> <span style=\"padding: 2px; border-radius: 4px; border: 1px solid #bbdefb; background: #e3f2fd\">граница вход перестрелка с правительственный войско один боевиксорвался в пропасть и предположительно погибнуть кроме тот в один из место расположение правительственный войскзадержан местный житель<span style=\"vertical-align: middle; margin-left: 2px; font-size: 0.7em; color: #64b5f6;\">_</span></span> <span style=\"padding: 2px; border-radius: 4px; border: 1px solid #d7ccc8; background: #efebe9\">кот<span style=\"vertical-align: middle; margin-left: 2px; font-size: 0.7em; color: #a1887f;\">который (1503)</span></span> <span style=\"padding: 2px; border-radius: 4px; border: 1px solid #bbdefb; background: #e3f2fd\">на допрос сознаться чтопомогал боевик собирать информация и переправлять раненый натерриторию таджикистан как сообщить в интервью<span style=\"vertical-align: middle; margin-left: 2px; font-size: 0.7em; color: #64b5f6;\">_</span></span> <span style=\"padding: 2px; border-radius: 4px; border: 1px solid #d1c4e9; background: #ede7f6\">иф<span style=\"vertical-align: middle; margin-left: 2px; font-size: 0.7em; color: #9575cd;\">интерфакс (1774)</span></span> <span style=\"padding: 2px; border-radius: 4px; border: 1px solid #bbdefb; background: #e3f2fd\">пресс секретарьпрезидента киргизия каныбек иманалиев прошедший в<span style=\"vertical-align: middle; margin-left: 2px; font-size: 0.7em; color: #64b5f6;\">_</span></span> <span style=\"padding: 2px; border-radius: 4px; border: 1px solid #bbdefb; background: #e3f2fd\">отд<span style=\"vertical-align: middle; margin-left: 2px; font-size: 0.7em; color: #64b5f6;\">отдельный (37)</span></span> <span style=\"padding: 2px; border-radius: 4px; border: 1px solid #bbdefb; background: #e3f2fd\">смиинформация о тот что на<span style=\"vertical-align: middle; margin-left: 2px; font-size: 0.7em; color: #64b5f6;\">_</span></span> <span style=\"padding: 2px; border-radius: 4px; border: 1px solid #c8e6c9; background: #e8f5e9\">дн<span style=\"vertical-align: middle; margin-left: 2px; font-size: 0.7em; color: #66bb6a;\">день (376)</span></span> <span style=\"padding: 2px; border-radius: 4px; border: 1px solid #bbdefb; background: #e3f2fd\">быть освободить находиться убоевиков переводчик японский геолог захватить в заложникиисламскими экстремист не подтверждаться<span style=\"vertical-align: middle; margin-left: 2px; font-size: 0.7em; color: #64b5f6;\">_</span></span></div>"
      ],
      "text/plain": [
       "<IPython.core.display.HTML object>"
      ]
     },
     "metadata": {},
     "output_type": "display_data"
    },
    {
     "data": {
      "text/html": [
       "<div class=\"tex2jax_ignore\" style=\"white-space: pre-wrap\"><span style=\"padding: 2px; border-radius: 4px; border: 1px solid #ffcdd2; background: #ffebee\">расти<span style=\"vertical-align: middle; margin-left: 2px; font-size: 0.7em; color: #e57373;\">2327</span></span> <span style=\"padding: 2px; border-radius: 4px; border: 1px solid #bbdefb; background: #e3f2fd\">крайне негативно оценивать судебный процесс о январскихсобытиях 1991<span style=\"vertical-align: middle; margin-left: 2px; font-size: 0.7em; color: #64b5f6;\">_</span></span> <span style=\"padding: 2px; border-radius: 4px; border: 1px solid #d1c4e9; background: #ede7f6\">год<span style=\"vertical-align: middle; margin-left: 2px; font-size: 0.7em; color: #9575cd;\">год (2568)</span></span> <span style=\"padding: 2px; border-radius: 4px; border: 1px solid #bbdefb; background: #e3f2fd\">в вильнюс напомнить что речь идти о попытка государственный переворот в литва<span style=\"vertical-align: middle; margin-left: 2px; font-size: 0.7em; color: #64b5f6;\">_</span></span> <span style=\"padding: 2px; border-radius: 4px; border: 1px solid #ffe0b2; background: #fff3e0\">заявл<span style=\"vertical-align: middle; margin-left: 2px; font-size: 0.7em; color: #ffb74d;\">заявить (3293)</span></span> <span style=\"padding: 2px; border-radius: 4px; border: 1px solid #bbdefb; background: #e3f2fd\">о свой независимость когда властный орган объявить себя<span style=\"vertical-align: middle; margin-left: 2px; font-size: 0.7em; color: #64b5f6;\">_</span></span> <span style=\"padding: 2px; border-radius: 4px; border: 1px solid #d1c4e9; background: #ede7f6\">ан<span style=\"vertical-align: middle; margin-left: 2px; font-size: 0.7em; color: #9575cd;\">анонимный (1529)</span></span> <span style=\"padding: 2px; border-radius: 4px; border: 1px solid #bbdefb; background: #e3f2fd\">комитет национальный спасение опираться на сила советский танк ввести в этот день в литва с территория<span style=\"vertical-align: middle; margin-left: 2px; font-size: 0.7em; color: #64b5f6;\">_</span></span> <span style=\"padding: 2px; border-radius: 4px; border: 1px solid #d7ccc8; background: #efebe9\">расти<span style=\"vertical-align: middle; margin-left: 2px; font-size: 0.7em; color: #a1887f;\">россия (2327)</span></span> <span style=\"padding: 2px; border-radius: 4px; border: 1px solid #bbdefb; background: #e3f2fd\">и на спецподразделение советский армия захватить в частность телецентр в вильнюс другой противоборствующий сторона возглавляться<span style=\"vertical-align: middle; margin-left: 2px; font-size: 0.7em; color: #64b5f6;\">_</span></span> <span style=\"padding: 2px; border-radius: 4px; border: 1px solid #bbdefb; background: #e3f2fd\">лд<span style=\"vertical-align: middle; margin-left: 2px; font-size: 0.7em; color: #64b5f6;\">лидер (431)</span></span> <span style=\"padding: 2px; border-radius: 4px; border: 1px solid #bbdefb; background: #e3f2fd\">радикальный литовский националист впоследствии<span style=\"vertical-align: middle; margin-left: 2px; font-size: 0.7em; color: #64b5f6;\">_</span></span> <span style=\"padding: 2px; border-radius: 4px; border: 1px solid #bbdefb; background: #e3f2fd\">през<span style=\"vertical-align: middle; margin-left: 2px; font-size: 0.7em; color: #64b5f6;\">президент (3203)</span></span> <span style=\"padding: 2px; border-radius: 4px; border: 1px solid #bbdefb; background: #e3f2fd\">литва витаусом ландсбергисом столкновение на улица вильнюс сопровождаться больший количество человеческий жертва фиксироваться на видеоплёнка неоднократно показываться по<span style=\"vertical-align: middle; margin-left: 2px; font-size: 0.7em; color: #64b5f6;\">_</span></span> <span style=\"padding: 2px; border-radius: 4px; border: 1px solid #c8e6c9; background: #e8f5e9\">центр<span style=\"vertical-align: middle; margin-left: 2px; font-size: 0.7em; color: #66bb6a;\">центральный (3598)</span></span> <span style=\"padding: 2px; border-radius: 4px; border: 1px solid #bbdefb; background: #e3f2fd\">а потом и<span style=\"vertical-align: middle; margin-left: 2px; font-size: 0.7em; color: #64b5f6;\">_</span></span> <span style=\"padding: 2px; border-radius: 4px; border: 1px solid #ffcdd2; background: #ffebee\">расти<span style=\"vertical-align: middle; margin-left: 2px; font-size: 0.7em; color: #e57373;\">российский (65)</span></span> <span style=\"padding: 2px; border-radius: 4px; border: 1px solid #ffe0b2; background: #fff3e0\">тв<span style=\"vertical-align: middle; margin-left: 2px; font-size: 0.7em; color: #ffb74d;\">телевидение (450)</span></span> <span style=\"padding: 2px; border-radius: 4px; border: 1px solid #bbdefb; background: #e3f2fd\">в качество пример пагубность имперский<span style=\"vertical-align: middle; margin-left: 2px; font-size: 0.7em; color: #64b5f6;\">_</span></span> <span style=\"padding: 2px; border-radius: 4px; border: 1px solid #d1c4e9; background: #ede7f6\">полить<span style=\"vertical-align: middle; margin-left: 2px; font-size: 0.7em; color: #9575cd;\">политика (1068)</span></span> <span style=\"padding: 2px; border-radius: 4px; border: 1px solid #bbdefb; background: #e3f2fd\">теперь в литва пройти суд над участник событие выступать на сторона<span style=\"vertical-align: middle; margin-left: 2px; font-size: 0.7em; color: #64b5f6;\">_</span></span> <span style=\"padding: 2px; border-radius: 4px; border: 1px solid #d7ccc8; background: #efebe9\">сова<span style=\"vertical-align: middle; margin-left: 2px; font-size: 0.7em; color: #a1887f;\">советский (4382)</span></span> <span style=\"padding: 2px; border-radius: 4px; border: 1px solid #bbdefb; background: #e3f2fd\">войско как<span style=\"vertical-align: middle; margin-left: 2px; font-size: 0.7em; color: #64b5f6;\">_</span></span> <span style=\"padding: 2px; border-radius: 4px; border: 1px solid #ffe0b2; background: #fff3e0\">заявл<span style=\"vertical-align: middle; margin-left: 2px; font-size: 0.7em; color: #ffb74d;\">заявить (3293)</span></span> <span style=\"padding: 2px; border-radius: 4px; border: 1px solid #bbdefb; background: #e3f2fd\">риа новость впосольстве рф в этот страна определённый сила в литва пытаютсяиспользовать этот<span style=\"vertical-align: middle; margin-left: 2px; font-size: 0.7em; color: #64b5f6;\">_</span></span> <span style=\"padding: 2px; border-radius: 4px; border: 1px solid #bbdefb; background: #e3f2fd\">политпроцесс<span style=\"vertical-align: middle; margin-left: 2px; font-size: 0.7em; color: #64b5f6;\">политический процесс (3267)</span></span> <span style=\"padding: 2px; border-radius: 4px; border: 1px solid #bbdefb; background: #e3f2fd\">для тот чтобы броситьтень на российско<span style=\"vertical-align: middle; margin-left: 2px; font-size: 0.7em; color: #64b5f6;\">_</span></span> <span style=\"padding: 2px; border-radius: 4px; border: 1px solid #c8e6c9; background: #e8f5e9\">литов<span style=\"vertical-align: middle; margin-left: 2px; font-size: 0.7em; color: #66bb6a;\">литовский (2860)</span></span> <span style=\"padding: 2px; border-radius: 4px; border: 1px solid #bbdefb; background: #e3f2fd\">отношение в результат завершиться здесь судебногоразбирательства к длительный срок заключение приговорить рядобщественных деятель литва среди<span style=\"vertical-align: middle; margin-left: 2px; font-size: 0.7em; color: #64b5f6;\">_</span></span> <span style=\"padding: 2px; border-radius: 4px; border: 1px solid #d7ccc8; background: #efebe9\">кот<span style=\"vertical-align: middle; margin-left: 2px; font-size: 0.7em; color: #a1887f;\">который (1503)</span></span> <span style=\"padding: 2px; border-radius: 4px; border: 1px solid #bbdefb; background: #e3f2fd\">70 летний гражданинроссии станислав мицкевич гражданин иванов и смоткин решение вильнюсский суд не моглоне вызвать озабоченность российский общественность подчеркнуть в посольство судебный процесс являться<span style=\"vertical-align: middle; margin-left: 2px; font-size: 0.7em; color: #64b5f6;\">_</span></span> <span style=\"padding: 2px; border-radius: 4px; border: 1px solid #ffcdd2; background: #ffebee\">дд<span style=\"vertical-align: middle; margin-left: 2px; font-size: 0.7em; color: #e57373;\">дело (1055)</span></span> <span style=\"padding: 2px; border-radius: 4px; border: 1px solid #bbdefb; background: #e3f2fd\">суверенный литва однаков москва рассчитывать что здравый смысл взять верх илитовские власть проявить гуманизм при окончательный решениисудьбы<span style=\"vertical-align: middle; margin-left: 2px; font-size: 0.7em; color: #64b5f6;\">_</span></span> <span style=\"padding: 2px; border-radius: 4px; border: 1px solid #ffcdd2; background: #ffebee\">расти<span style=\"vertical-align: middle; margin-left: 2px; font-size: 0.7em; color: #e57373;\">российский (65)</span></span> <span style=\"padding: 2px; border-radius: 4px; border: 1px solid #ffe0b2; background: #fff3e0\">гр<span style=\"vertical-align: middle; margin-left: 2px; font-size: 0.7em; color: #ffb74d;\">гражданин (3363)</span></span> <span style=\"padding: 2px; border-radius: 4px; border: 1px solid #bbdefb; background: #e3f2fd\">здоровье<span style=\"vertical-align: middle; margin-left: 2px; font-size: 0.7em; color: #64b5f6;\">_</span></span> <span style=\"padding: 2px; border-radius: 4px; border: 1px solid #d7ccc8; background: #efebe9\">кот<span style=\"vertical-align: middle; margin-left: 2px; font-size: 0.7em; color: #a1887f;\">который (1503)</span></span> <span style=\"padding: 2px; border-radius: 4px; border: 1px solid #bbdefb; background: #e3f2fd\">серьезноподорвано отметить в посольство россия<span style=\"vertical-align: middle; margin-left: 2px; font-size: 0.7em; color: #64b5f6;\">_</span></span></div>"
      ],
      "text/plain": [
       "<IPython.core.display.HTML object>"
      ]
     },
     "metadata": {},
     "output_type": "display_data"
    },
    {
     "data": {
      "text/html": [
       "<div class=\"tex2jax_ignore\" style=\"white-space: pre-wrap\"><span style=\"padding: 2px; border-radius: 4px; border: 1px solid #bbdefb; background: #e3f2fd\">по сведение миссия оон передаваемый риа новость в голосование по вопрос о самопределении<span style=\"vertical-align: middle; margin-left: 2px; font-size: 0.7em; color: #64b5f6;\">_</span></span> <span style=\"padding: 2px; border-radius: 4px; border: 1px solid #d1c4e9; background: #ede7f6\">быв<span style=\"vertical-align: middle; margin-left: 2px; font-size: 0.7em; color: #9575cd;\">бывший (1974)</span></span> <span style=\"padding: 2px; border-radius: 4px; border: 1px solid #bbdefb; background: #e3f2fd\">колония принять участие более 95 зарегистрировать избиратель подсчёт<span style=\"vertical-align: middle; margin-left: 2px; font-size: 0.7em; color: #64b5f6;\">_</span></span> <span style=\"padding: 2px; border-radius: 4px; border: 1px solid #d7ccc8; background: #efebe9\">гол<span style=\"vertical-align: middle; margin-left: 2px; font-size: 0.7em; color: #a1887f;\">голос (5352)</span></span> <span style=\"padding: 2px; border-radius: 4px; border: 1px solid #bbdefb; background: #e3f2fd\">начаться в среда он быть<span style=\"vertical-align: middle; margin-left: 2px; font-size: 0.7em; color: #64b5f6;\">_</span></span> <span style=\"padding: 2px; border-radius: 4px; border: 1px solid #d1c4e9; background: #ede7f6\">ан<span style=\"vertical-align: middle; margin-left: 2px; font-size: 0.7em; color: #9575cd;\">анонимный (1529)</span></span> <span style=\"padding: 2px; border-radius: 4px; border: 1px solid #bbdefb; background: #e3f2fd\">сначала в присутствие свидетель быть вскрыть всё опечатать коробка затем всё<span style=\"vertical-align: middle; margin-left: 2px; font-size: 0.7em; color: #64b5f6;\">_</span></span> <span style=\"padding: 2px; border-radius: 4px; border: 1px solid #bbdefb; background: #e3f2fd\">бюл<span style=\"vertical-align: middle; margin-left: 2px; font-size: 0.7em; color: #64b5f6;\">бюллетень (3380)</span></span> <span style=\"padding: 2px; border-radius: 4px; border: 1px solid #bbdefb; background: #e3f2fd\">быть перемешать чтобы невозможно быть определить откуда они поступить и начаться подсчёт по принцип голосование весь избиратель на один<span style=\"vertical-align: middle; margin-left: 2px; font-size: 0.7em; color: #64b5f6;\">_</span></span> <span style=\"padding: 2px; border-radius: 4px; border: 1px solid #c8e6c9; background: #e8f5e9\">уч<span style=\"vertical-align: middle; margin-left: 2px; font-size: 0.7em; color: #66bb6a;\">участок (5409)</span></span> <span style=\"padding: 2px; border-radius: 4px; border: 1px solid #bbdefb; background: #e3f2fd\">как сообщать риа новость администрация клинтон отмечать чрезвычайный явка и успех провести в восточный тимор референдум по вопрос о независимость этот индонезийский<span style=\"vertical-align: middle; margin-left: 2px; font-size: 0.7em; color: #64b5f6;\">_</span></span> <span style=\"padding: 2px; border-radius: 4px; border: 1px solid #ffcdd2; background: #ffebee\">пров<span style=\"vertical-align: middle; margin-left: 2px; font-size: 0.7em; color: #e57373;\">провинция (4636)</span></span> <span style=\"padding: 2px; border-radius: 4px; border: 1px solid #bbdefb; background: #e3f2fd\">сша призывать весь участник признать результат референдум вне зависимость от исход голосование сказать заместитель<span style=\"vertical-align: middle; margin-left: 2px; font-size: 0.7em; color: #64b5f6;\">_</span></span> <span style=\"padding: 2px; border-radius: 4px; border: 1px solid #ffe0b2; background: #fff3e0\">офиц<span style=\"vertical-align: middle; margin-left: 2px; font-size: 0.7em; color: #ffb74d;\">официальный (3277)</span></span> <span style=\"padding: 2px; border-radius: 4px; border: 1px solid #bbdefb; background: #e3f2fd\">предст<span style=\"vertical-align: middle; margin-left: 2px; font-size: 0.7em; color: #64b5f6;\">представитель (4959)</span></span> <span style=\"padding: 2px; border-radius: 4px; border: 1px solid #bbdefb; background: #e3f2fd\">госдепартамент сша джеймс фоули указывать на случай насилие отметить в<span style=\"vertical-align: middle; margin-left: 2px; font-size: 0.7em; color: #64b5f6;\">_</span></span> <span style=\"padding: 2px; border-radius: 4px; border: 1px solid #c8e6c9; background: #e8f5e9\">вр<span style=\"vertical-align: middle; margin-left: 2px; font-size: 0.7em; color: #66bb6a;\">время (461)</span></span> <span style=\"padding: 2px; border-radius: 4px; border: 1px solid #bbdefb; background: #e3f2fd\">референдум представитель госдепартамент подчеркнуть ответственность правительство индонезия за обеспечение порядок в время подсчёт<span style=\"vertical-align: middle; margin-left: 2px; font-size: 0.7em; color: #64b5f6;\">_</span></span> <span style=\"padding: 2px; border-radius: 4px; border: 1px solid #d7ccc8; background: #efebe9\">гол<span style=\"vertical-align: middle; margin-left: 2px; font-size: 0.7em; color: #a1887f;\">голос (5352)</span></span> <span style=\"padding: 2px; border-radius: 4px; border: 1px solid #bbdefb; background: #e3f2fd\">и в последующий этап решение проблема восточный тимор<span style=\"vertical-align: middle; margin-left: 2px; font-size: 0.7em; color: #64b5f6;\">_</span></span></div>"
      ],
      "text/plain": [
       "<IPython.core.display.HTML object>"
      ]
     },
     "metadata": {},
     "output_type": "display_data"
    }
   ],
   "source": [
    "for i in range(10, 15):\n",
    "    text = lenta.text_norm.iloc[i]\n",
    "    labels = get_text_labels(text, abbr_tree)\n",
    "\n",
    "    replaced_series = replace_word_by_abbr(text, labels, abbr)\n",
    "\n",
    "\n",
    "    show_markup(replaced_series[\"new_text\"].split(\" \"), \n",
    "                replaced_series[\"new_labels\"].split(\" \"), \n",
    "                use_abbr=False)"
   ]
  },
  {
   "cell_type": "code",
   "execution_count": 13,
   "metadata": {},
   "outputs": [
    {
     "data": {
      "application/vnd.jupyter.widget-view+json": {
       "model_id": "332db0640e634977a2b475454523f6c9",
       "version_major": 2,
       "version_minor": 0
      },
      "text/plain": [
       "VBox(children=(HBox(children=(IntProgress(value=0, description='0.00%', max=85735), Label(value='0 / 85735')))…"
      ]
     },
     "metadata": {},
     "output_type": "display_data"
    }
   ],
   "source": [
    "lenta[[\"text_new\", \"labels_new\"]] = (\n",
    "    lenta[[\"text_norm\", \"labels\"]]\n",
    "        .parallel_apply(lambda x: replace_word_by_abbr(x[\"text_norm\"], x[\"labels\"], \n",
    "                                                       abbr, p_replace=0.5), axis=1)\n",
    ")"
   ]
  },
  {
   "cell_type": "code",
   "execution_count": 15,
   "metadata": {},
   "outputs": [
    {
     "data": {
      "text/html": [
       "<div>\n",
       "<style scoped>\n",
       "    .dataframe tbody tr th:only-of-type {\n",
       "        vertical-align: middle;\n",
       "    }\n",
       "\n",
       "    .dataframe tbody tr th {\n",
       "        vertical-align: top;\n",
       "    }\n",
       "\n",
       "    .dataframe thead th {\n",
       "        text-align: right;\n",
       "    }\n",
       "</style>\n",
       "<table border=\"1\" class=\"dataframe\">\n",
       "  <thead>\n",
       "    <tr style=\"text-align: right;\">\n",
       "      <th></th>\n",
       "      <th>text</th>\n",
       "      <th>text_norm</th>\n",
       "      <th>text_len</th>\n",
       "      <th>labels</th>\n",
       "      <th>text_new</th>\n",
       "      <th>labels_new</th>\n",
       "    </tr>\n",
       "  </thead>\n",
       "  <tbody>\n",
       "    <tr>\n",
       "      <th>0</th>\n",
       "      <td>Бои у Сопоцкина и Друскеник закончились отступлением германцев. Неприятель, приблизившись с севера к Осовцу начал артиллерийскую борьбу с крепостью. В артиллерийском бою принимают участие тяжелые калибры. С раннего утра 14 сентября огонь достиг значит...</td>\n",
       "      <td>бой у сопоцкина и друскеник закончиться отступление германец неприятель приблизиться с север к осовцу начать артиллерийский борьба с крепость в артиллерийский бой принимать участие тяжёлый калибр с ранний утро 14 сентябрь огонь достигнуть значительный...</td>\n",
       "      <td>118</td>\n",
       "      <td>_ _ _ _ _ _ _ _ _ _ _ W-2957 _ _ W-4400 W-842 _ _ W-1523 _ W-842 _ _ _ W-3458 W-5181 _ _ _ _ W-1454 _ _ _ _ _ W-3833 _ _ _ _ W-1523 _ _ _ _ _ _ W-4156 W-1420 _ _ W-1471 _ _ _ _ _ _ W-5412 _ W-4590 _ _ _ _ _ _ W-3305 _ W-2821 _ _ _ _ _ _ _ _ W-2698 _ _...</td>\n",
       "      <td>бой у сопоцкина и друскеник закончиться отступление германец неприятель приблизиться с север к осовцу начать арт борьба с крепость в артиллерийский бой принимать участие тяжёлый кал с ранний утро 14 сентябрь огонь достигнуть значительный напряжение по...</td>\n",
       "      <td>_ _ _ _ _ _ _ _ _ _ _ _ _ _ _ W-842 _ _ _ _ _ _ _ _ _ W-5181 _ _ _ _ _ _ _ _ _ _ W-3833 _ _ _ _ W-1523 _ _ _ _ _ _ W-4156 _ _ _ W-1471 _ _ _ _ _ _ _ _ W-4590 _ _ _ _ _ _ _ _ W-2821 _ _ _ _ _ _ _ _ _ _ _ _ _ _ _ _ W-1891 _ W-2216 _ W-4782 _ W-3435 _ _ ...</td>\n",
       "    </tr>\n",
       "    <tr>\n",
       "      <th>1</th>\n",
       "      <td>Фотограф-корреспондент Daily Mirror рассказывает случай, который порадует всех друзей животных. Лейтенант бельгийской артиллерии, руководивший обороной одного из фортов Льежа, ни за что не хотел расстаться с своей собакой — бульдогом. Когда пруссаки п...</td>\n",
       "      <td>фотограф корреспондент daily mirror рассказывать случай который порадовать весь друг животное лейтенант бельгийский артиллерия руководить оборона один из фортов льеж ни за что не хотеть расстаться с свой собака бульдог когда пруссак пробраться между ф...</td>\n",
       "      <td>99</td>\n",
       "      <td>_ W-805 _ _ _ _ W-1503 _ _ _ _ W-5020 _ W-1940 _ _ _ _ _ _ _ _ _ _ _ _ _ _ _ _ _ _ _ _ _ _ _ W-4935 _ _ _ W-2010 _ _ _ _ W-1503 _ _ _ _ _ _ _ _ _ _ _ _ _ _ _ _ _ _ _ _ _ _ _ _ _ _ _ _ W-3609 _ _ _ _ _ _ W-5029 W-3833 _ _ _ _ _ _ _ _ _ W-4074 _ _ W-254...</td>\n",
       "      <td>фотограф корреспондент daily mirror рассказывать случай который порадовать весь друг животное лейтенант бельгийский артиллерия руководить оборона один из фортов льеж ни за что не хотеть расстаться с свой собака бульдог когда пруссак пробраться между ф...</td>\n",
       "      <td>_ _ _ _ _ _ _ _ _ _ _ _ _ _ _ _ _ _ _ _ _ _ _ _ _ _ _ _ _ _ _ _ _ _ _ _ _ _ _ _ _ W-2010 _ _ _ _ W-1503 _ _ _ _ _ _ _ _ _ _ _ _ _ _ _ _ _ _ _ _ _ _ _ _ _ _ _ _ W-3609 _ _ _ _ _ _ _ _ _ _ _ _ _ _ _ _ _ W-4074 _ _ _ _ W-2568</td>\n",
       "    </tr>\n",
       "    <tr>\n",
       "      <th>2</th>\n",
       "      <td>Лица, приехавшие в Варшаву из Люблина, передают, что туда доставлен «швабский зверь» — взятый в плен прусский майор Прейскер, бывший комендант Калиша. Это — здоровый детина, с типично прусским наглым лицом и мутными глазами. Когда этого «зверя» вели с...</td>\n",
       "      <td>лицо приехать в варшава из люблин передавать что туда доставить швабский зверь взять в плен прусский майор прейскер бывший комендант калиша это здоровый детина с типично прусский наглый лицо и мутный глаз когда это зверь вели с партия пленный по улица...</td>\n",
       "      <td>112</td>\n",
       "      <td>_ _ _ _ _ _ _ _ _ _ _ _ _ _ _ _ _ _ W-1975 _ _ _ _ _ _ _ _ _ _ _ _ _ _ _ _ _ _ _ _ _ W-4667 _ _ _ _ _ _ _ _ _ _ _ _ _ _ _ _ _ _ _ W-844 _ _ _ _ _ _ _ W-1002 _ _ _ _ _ _ _ _ _ _ _ _ _ _ _ _ _ _ _ _ _ _ W-2297 _ _ W-3851 _ _ _ W-3943 W-3888 _ _ _ _ W-40...</td>\n",
       "      <td>лицо приехать в варшава из люблин передавать что туда доставить швабский зверь взять в плен прусский майор прейскер бывш комендант калиша это здоровый детина с типично прусский наглый лицо и мутный глаз когда это зверь вели с партия пленный по ул и из...</td>\n",
       "      <td>_ _ _ _ _ _ _ _ _ _ _ _ _ _ _ _ _ _ W-1975 _ _ _ _ _ _ _ _ _ _ _ _ _ _ _ _ _ _ _ _ _ W-4667 _ _ _ _ _ _ _ _ _ _ _ _ _ _ _ _ _ _ _ _ _ _ _ _ _ _ _ _ _ _ _ _ _ _ _ _ _ _ _ _ _ _ _ _ _ _ _ _ _ _ W-2297 _ _ _ _ _ _ _ W-3888 _ _ _ _ _ _ _ _ _ _ _ W-2568</td>\n",
       "    </tr>\n",
       "    <tr>\n",
       "      <th>3</th>\n",
       "      <td>Как стало известно агентству Ассошиэйтед Пресс, экипаж последней экспедиции на станцию \"Мир\" считает ее способной выйти из-под контроля.Командир Виктор Афанасьев сказал: \"Мы чувствуем себя хорошо, но грустим, что оставили станцию летать в беспилотном ...</td>\n",
       "      <td>как стать известно агентство ассошиэйтед пресс экипаж последний экспедиция на станция мир считать она способный выйти из под контроль командир виктор афанасьев сказать мы чувствовать себя хорошо но грустить что оставить станция летать в беспилотный ре...</td>\n",
       "      <td>194</td>\n",
       "      <td>_ _ _ _ _ _ _ W-4910 W-3191 _ W-5584 _ _ _ _ _ _ _ _ _ W-4648 _ _ _ _ _ W-1848 _ _ _ _ W-5584 _ _ _ _ _ _ _ _ _ _ _ _ _ _ _ _ _ _ _ _ _ _ _ W-1690 _ _ _ _ _ _ _ _ _ _ _ W-3191 _ _ _ W-2091 _ W-2807 _ W-2568 W-1978 W-3191 _ _ _ W-5584 _ W-4863 _ _ _ _ ...</td>\n",
       "      <td>как стать известно агентство ассошиэйтед пресс экипаж послед экспедиция на станция мир считать она способный выйти из под контроль командир викт афанасьев сказать мы чувствовать себя хорошо но грустить что оставить станция летать в беспилотный режим g...</td>\n",
       "      <td>_ _ _ _ _ _ _ W-4910 _ _ _ _ _ _ _ _ _ _ _ _ W-4648 _ _ _ _ _ _ _ _ _ _ _ _ _ _ _ _ _ _ _ _ _ _ _ _ _ _ _ _ _ _ _ _ _ _ W-1690 _ _ _ _ _ _ _ _ _ _ _ _ _ _ _ _ _ _ _ _ W-1978 W-3191 _ _ _ W-5584 _ W-4863 _ _ _ _ _ _ _ _ _ _ W-4715 _ _ _ W-4782 _ _ _ _ ...</td>\n",
       "    </tr>\n",
       "    <tr>\n",
       "      <th>4</th>\n",
       "      <td>В зале игровых автоматов в третьем ярусе подземного комплекса \"Охотный ряд\" на Манежной площади в центре Москвы около 20.00 прогремел мощный взрыв. По данным ФСБ, погибли не менее четырех человек, 20 человек ранены. Однако уточненная оценка числа пост...</td>\n",
       "      <td>в зал игровой автомат в третий ярус подземный комплекс охотный ряд на манежный площадь в центр москва около 20 00 прогреметь мощный взрыв по данные фсб погибнуть не менее четыре человек 20 человек ранить однако уточнить оценка число пострадать в резул...</td>\n",
       "      <td>164</td>\n",
       "      <td>_ _ _ W-2851 _ _ _ W-1089 _ _ _ _ _ W-447 _ _ W-3086 W-3873 _ _ _ _ _ _ _ _ _ _ _ _ W-4447 _ W-4447 _ _ _ _ _ _ _ _ _ _ _ _ _ W-4447 _ _ _ _ W-5564 _ _ _ _ _ _ W-1433 _ _ W-3086 _ W-5253 _ _ _ _ _ _ _ _ _ _ W-3458 _ _ _ _ _ _ _ _ _ W-1947 _ _ W-4447 _...</td>\n",
       "      <td>в зал игровой авт в третий ярус подземный комплекс охотный ряд на манежный площадь в центр мск щл 20 00 прогреметь мощный взрыв по данные фсб погибнуть не менее четыре человек 20 чел ранить однако уточнить оценка число пострадать в результат это взрыв...</td>\n",
       "      <td>_ _ _ W-2851 _ _ _ _ _ _ _ _ _ _ _ _ W-3086 W-3873 _ _ _ _ _ _ _ _ _ _ _ _ _ _ W-4447 _ _ _ _ _ _ _ _ _ _ _ _ _ _ _ _ _ _ W-5564 _ _ _ _ _ _ W-1433 _ _ _ _ W-5253 _ _ _ _ _ _ _ _ _ _ W-3458 _ _ _ _ _ _ _ _ _ _ _ _ W-4447 _ _ _ _ _ _ _ _ _ _ _ _ _ _ _ ...</td>\n",
       "    </tr>\n",
       "    <tr>\n",
       "      <th>...</th>\n",
       "      <td>...</td>\n",
       "      <td>...</td>\n",
       "      <td>...</td>\n",
       "      <td>...</td>\n",
       "      <td>...</td>\n",
       "      <td>...</td>\n",
       "    </tr>\n",
       "    <tr>\n",
       "      <th>685870</th>\n",
       "      <td>Всемирное антидопинговое агентство (WADA) подтвердило право России на проведение Евро-2020. Об этом сообщил Джонатан Тейлор — председатель комиссии по соответствию WADA. Его слова приводит Associated Press. «Вы должны помнить, что мы должны придержива...</td>\n",
       "      <td>всемирный антидопинговый агентство wada подтвердить право россия на проведение евро 2020 о это сообщить джонатан тейлор председатель комиссия по соответствие wada он слово приводить associated press вы должный помнить что мы должный придерживаться еди...</td>\n",
       "      <td>176</td>\n",
       "      <td>B-2071 I-2071 E-2071 _ _ _ W-2327 _ _ _ _ _ _ _ _ _ B-5347 E-5347 _ W-3506 _ _ W-2498 _ _ _ _ _ _ _ _ _ _ _ _ _ _ _ W-3335 _ _ _ B-3102 E-3102 _ _ _ _ _ W-2297 _ W-3335 W-3906 _ _ _ _ W-5104 _ _ _ _ W-2498 W-1907 _ W-111 _ _ _ _ W-2327 _ _ _ _ _ _ W-4...</td>\n",
       "      <td>ваа wada подтвердить право расти на проведение евро 2020 о это сообщить джонатан тейлор предкомиссии по соотв wada он слово приводить associated press вы должный помнить что мы должный придерживаться единый подход для весь вид спорт да в футбол чемпио...</td>\n",
       "      <td>W-2071 _ _ _ W-2327 _ _ _ _ _ _ _ _ _ W-5347 _ W-3506 _ _ _ _ _ _ _ _ _ _ _ _ _ _ _ _ _ _ _ _ _ _ _ _ _ _ _ _ _ W-2297 _ _ _ _ _ _ _ _ _ _ _ _ W-2498 _ _ _ _ _ _ _ _ _ _ _ _ _ _ W-4486 _ _ W-1503 W-4769 _ _ _ _ _ _ _ _ _ W-3771 _ _ _ _ _ _ _ _ _ _ _ _...</td>\n",
       "    </tr>\n",
       "    <tr>\n",
       "      <th>685871</th>\n",
       "      <td>Певец Сергей Шнуров раскритиковал свою коллегу Полину Гагарину в эфире шоу «Голос» на Первом канале. Момент передачи опубликован на YouTube. После выступления подопечных Гагариной Шнуров обратил внимание на номер 17-летней участницы Аланы Чочиевой. По...</td>\n",
       "      <td>певец сергей шнур раскритиковать свой коллега полина гагарин в эфир шоу голос на первый канал момент передача опубликовать на youtube после выступление подопечный гагарин шнур обратить внимание на номер 17 летний участница алан чочиевой по мнение певе...</td>\n",
       "      <td>133</td>\n",
       "      <td>_ W-1225 _ _ _ _ W-4275 _ _ _ _ W-5352 _ _ W-2126 _ _ W-3014 _ _ _ _ _ _ _ _ _ _ W-2438 _ _ _ _ _ _ _ _ _ W-192 _ _ _ _ _ _ _ _ _ _ _ W-1503 _ _ W-3302 _ _ _ _ _ _ _ _ _ W-2297 _ _ _ _ _ _ _ _ _ _ _ _ _ _ W-3057 _ _ _ _ _ _ W-1848 _ W-5102 _ _ _ _ _ _...</td>\n",
       "      <td>певец сергей шнур раскритиковать свой коллега полина гагарин в эфир шоу голос на первый канал момент передача опубликовать на youtube после выступление подопечный гагарин шнур обратить внимание на номер 17 летний участница алан чочиевой по мнение певе...</td>\n",
       "      <td>_ _ _ _ _ _ _ _ _ _ _ _ _ _ _ _ _ _ _ _ _ _ _ _ _ _ _ _ _ _ _ _ _ _ _ _ _ _ W-192 _ _ _ _ _ _ _ _ _ _ _ _ _ _ _ _ _ _ _ _ _ _ _ _ _ _ _ _ _ _ _ _ _ _ _ _ _ _ _ _ _ _ _ _ _ _ W-1848 _ _ _ _ _ _ _ _ _ _ _ _ _ _ _ _ _ _ _ _ _ _ _ W-5352 _ _ _ _ _ _ _ _ _...</td>\n",
       "    </tr>\n",
       "    <tr>\n",
       "      <th>685872</th>\n",
       "      <td>Министерство юстиции России предложило изменить правила взыскания долгов. Соответствующий документ опубликован на портале проектов нормативных правовых актов. В частности, предлагается законодательно закрепить использование роботов-коллекторов — инстр...</td>\n",
       "      <td>министерство юстиция россия предложить изменить правило взыскание долг соответствовать документ опубликовать на портал проект нормативный правовой акт в частность предлагаться законодательно закрепить использование робот коллектор инструмент для отпра...</td>\n",
       "      <td>215</td>\n",
       "      <td>B-1367 E-1367 W-2327 _ W-3552 _ _ _ _ W-1305 W-3014 _ _ W-2636 B-778 I-778 E-778 _ _ _ _ _ _ _ _ W-5294 _ _ _ W-5564 _ _ _ _ W-3363 _ _ _ _ _ W-4079 _ _ _ _ _ W-2587 W-4816 _ _ _ _ _ _ _ _ _ _ _ _ _ _ _ _ _ _ W-5564 _ _ W-1305 _ _ _ _ _ _ _ B-2892 E-2...</td>\n",
       "      <td>министерство юстиция расти предложить изменить правило взыскание долг соответствовать документ опубл на портал проект нпа в частность предлагаться законодательно закрепить использование робот коллектор инструмент для отправка голосовой сообщение для с...</td>\n",
       "      <td>_ _ W-2327 _ _ _ _ _ _ _ W-3014 _ _ _ W-778 _ _ _ _ _ _ _ _ _ _ _ _ _ _ _ _ _ W-3363 _ _ _ _ _ _ _ _ _ _ _ _ _ _ _ _ _ _ _ _ _ _ _ _ _ _ _ _ _ _ _ W-5564 _ _ _ _ _ _ _ _ _ _ _ _ _ _ _ _ _ W-5253 _ _ _ _ _ _ _ _ _ _ _ _ _ _ _ _ _ _ _ _ _ _ _ _ _ W-2327...</td>\n",
       "    </tr>\n",
       "    <tr>\n",
       "      <th>685873</th>\n",
       "      <td>Испытание США ранее запрещенной Договором о ликвидации ракет средней и меньшей дальности (ДРСМД) ракеты может стать черной датой для Европы. Об этом заявил сенатор Алексей Пушков в своем Twitter. По словам политика, за испытаниями может последовать ра...</td>\n",
       "      <td>испытание сша ранее запретить договор о ликвидация ракета средний и малый дальность дрсмд ракета мочь стать чёрный дата для европа о это заявить сенатор алексей пушок в свой twitter по слово политика за испытание мочь последовать размещение американск...</td>\n",
       "      <td>143</td>\n",
       "      <td>_ _ _ _ B-2422 I-2422 I-2422 I-2422 I-2422 I-2422 I-2422 E-2422 _ _ _ _ _ _ _ W-370 _ _ W-3293 _ W-2269 _ _ _ _ _ W-2498 W-1068 _ _ _ _ W-5511 W-1119 _ _ W-370 _ _ _ _ _ _ _ W-461 W-3922 _ _ W-4816 W-648 _ _ _ _ _ _ _ W-396 _ W-5458 _ _ W-1119 B-4623 ...</td>\n",
       "      <td>испытание сша ранее запретить договор о ликвидация ракета средний и малый дальность дрсмд ракета мочь стать чёрный дата для евр о это заявл сенатор алекс пушок в свой twitter по сл полить за испытание мочь последовать размещ ама ракета в евр это в сво...</td>\n",
       "      <td>_ _ _ _ _ _ _ _ _ _ _ _ _ _ _ _ _ _ _ W-370 _ _ W-3293 _ W-2269 _ _ _ _ _ W-2498 W-1068 _ _ _ _ W-5511 W-1119 _ _ W-370 _ _ _ _ _ _ _ W-461 _ _ _ _ _ _ _ _ _ _ _ _ _ _ W-5458 _ _ _ W-4623 _ _ _ _ _ _ _ _ _ _ _ _ _ _ _ _ _ _ _ _ _ _ _ _ _ _ _ _ _ _ _ _...</td>\n",
       "    </tr>\n",
       "    <tr>\n",
       "      <th>685874</th>\n",
       "      <td>Ведущие футбольные чемпионаты ушли на зимние каникулы, но только не Английская премьер-лига (АПЛ). Самое время поучаствовать в совместном конкурсе букмекерской компании Olimp.Bet и тренажера игры на ставках social.bet «Новый год по-английски»! С 14 де...</td>\n",
       "      <td>ведущий футбольный чемпионат уйти на зимний каникулы но только не английский премьер лига апл самый время поучаствовать в совместный конкурс букмекерский компания olimp bet и тренажёр игра на ставка social bet новый год по английски с 14 декабрь 2019 ...</td>\n",
       "      <td>119</td>\n",
       "      <td>W-4841 _ _ _ _ W-4257 _ _ W-5253 _ W-4927 _ _ _ _ W-461 _ _ _ _ _ _ _ _ _ _ _ _ _ _ _ B-756 E-756 _ _ _ _ W-396 _ W-2568 _ _ W-2811 _ W-2568 _ _ _ _ _ _ _ W-3882 _ _ _ _ _ _ _ W-3501 _ _ W-1341 W-85 _ _ _ _ _ W-3335 _ _ _ _ _ _ _ _ _ W-16 _ _ _ _ _ W-...</td>\n",
       "      <td>веда футбольный чемпионат уйти на зимн каникулы но только не англ премьер лига апл самый время поучаствовать в совместный конкурс букмекерский компания olimp bet и тренажёр игра на ставка social bet нг по английски с 14 дек 2019 год по 23 янв 2020 год...</td>\n",
       "      <td>W-4841 _ _ _ _ W-4257 _ _ _ _ W-4927 _ _ _ _ _ _ _ _ _ _ _ _ _ _ _ _ _ _ _ _ W-756 _ _ _ _ W-396 _ _ _ _ W-2811 _ W-2568 _ _ _ _ _ _ _ W-3882 _ _ _ _ _ _ _ _ _ _ _ W-85 _ _ _ _ _ _ _ _ _ _ _ _ _ _ _ _ _ _ _ _ _ _ _ _ _ _ _ _ _ _ _ _ _ _ W-3867 _ _ _ _...</td>\n",
       "    </tr>\n",
       "  </tbody>\n",
       "</table>\n",
       "<p>685875 rows × 6 columns</p>\n",
       "</div>"
      ],
      "text/plain": [
       "                                                                                                                                                                                                                                                                  text  \\\n",
       "0       Бои у Сопоцкина и Друскеник закончились отступлением германцев. Неприятель, приблизившись с севера к Осовцу начал артиллерийскую борьбу с крепостью. В артиллерийском бою принимают участие тяжелые калибры. С раннего утра 14 сентября огонь достиг значит...   \n",
       "1       Фотограф-корреспондент Daily Mirror рассказывает случай, который порадует всех друзей животных. Лейтенант бельгийской артиллерии, руководивший обороной одного из фортов Льежа, ни за что не хотел расстаться с своей собакой — бульдогом. Когда пруссаки п...   \n",
       "2       Лица, приехавшие в Варшаву из Люблина, передают, что туда доставлен «швабский зверь» — взятый в плен прусский майор Прейскер, бывший комендант Калиша. Это — здоровый детина, с типично прусским наглым лицом и мутными глазами. Когда этого «зверя» вели с...   \n",
       "3       Как стало известно агентству Ассошиэйтед Пресс, экипаж последней экспедиции на станцию \"Мир\" считает ее способной выйти из-под контроля.Командир Виктор Афанасьев сказал: \"Мы чувствуем себя хорошо, но грустим, что оставили станцию летать в беспилотном ...   \n",
       "4       В зале игровых автоматов в третьем ярусе подземного комплекса \"Охотный ряд\" на Манежной площади в центре Москвы около 20.00 прогремел мощный взрыв. По данным ФСБ, погибли не менее четырех человек, 20 человек ранены. Однако уточненная оценка числа пост...   \n",
       "...                                                                                                                                                                                                                                                                ...   \n",
       "685870  Всемирное антидопинговое агентство (WADA) подтвердило право России на проведение Евро-2020. Об этом сообщил Джонатан Тейлор — председатель комиссии по соответствию WADA. Его слова приводит Associated Press. «Вы должны помнить, что мы должны придержива...   \n",
       "685871  Певец Сергей Шнуров раскритиковал свою коллегу Полину Гагарину в эфире шоу «Голос» на Первом канале. Момент передачи опубликован на YouTube. После выступления подопечных Гагариной Шнуров обратил внимание на номер 17-летней участницы Аланы Чочиевой. По...   \n",
       "685872  Министерство юстиции России предложило изменить правила взыскания долгов. Соответствующий документ опубликован на портале проектов нормативных правовых актов. В частности, предлагается законодательно закрепить использование роботов-коллекторов — инстр...   \n",
       "685873  Испытание США ранее запрещенной Договором о ликвидации ракет средней и меньшей дальности (ДРСМД) ракеты может стать черной датой для Европы. Об этом заявил сенатор Алексей Пушков в своем Twitter. По словам политика, за испытаниями может последовать ра...   \n",
       "685874  Ведущие футбольные чемпионаты ушли на зимние каникулы, но только не Английская премьер-лига (АПЛ). Самое время поучаствовать в совместном конкурсе букмекерской компании Olimp.Bet и тренажера игры на ставках social.bet «Новый год по-английски»! С 14 де...   \n",
       "\n",
       "                                                                                                                                                                                                                                                             text_norm  \\\n",
       "0       бой у сопоцкина и друскеник закончиться отступление германец неприятель приблизиться с север к осовцу начать артиллерийский борьба с крепость в артиллерийский бой принимать участие тяжёлый калибр с ранний утро 14 сентябрь огонь достигнуть значительный...   \n",
       "1       фотограф корреспондент daily mirror рассказывать случай который порадовать весь друг животное лейтенант бельгийский артиллерия руководить оборона один из фортов льеж ни за что не хотеть расстаться с свой собака бульдог когда пруссак пробраться между ф...   \n",
       "2       лицо приехать в варшава из люблин передавать что туда доставить швабский зверь взять в плен прусский майор прейскер бывший комендант калиша это здоровый детина с типично прусский наглый лицо и мутный глаз когда это зверь вели с партия пленный по улица...   \n",
       "3       как стать известно агентство ассошиэйтед пресс экипаж последний экспедиция на станция мир считать она способный выйти из под контроль командир виктор афанасьев сказать мы чувствовать себя хорошо но грустить что оставить станция летать в беспилотный ре...   \n",
       "4       в зал игровой автомат в третий ярус подземный комплекс охотный ряд на манежный площадь в центр москва около 20 00 прогреметь мощный взрыв по данные фсб погибнуть не менее четыре человек 20 человек ранить однако уточнить оценка число пострадать в резул...   \n",
       "...                                                                                                                                                                                                                                                                ...   \n",
       "685870  всемирный антидопинговый агентство wada подтвердить право россия на проведение евро 2020 о это сообщить джонатан тейлор председатель комиссия по соответствие wada он слово приводить associated press вы должный помнить что мы должный придерживаться еди...   \n",
       "685871  певец сергей шнур раскритиковать свой коллега полина гагарин в эфир шоу голос на первый канал момент передача опубликовать на youtube после выступление подопечный гагарин шнур обратить внимание на номер 17 летний участница алан чочиевой по мнение певе...   \n",
       "685872  министерство юстиция россия предложить изменить правило взыскание долг соответствовать документ опубликовать на портал проект нормативный правовой акт в частность предлагаться законодательно закрепить использование робот коллектор инструмент для отпра...   \n",
       "685873  испытание сша ранее запретить договор о ликвидация ракета средний и малый дальность дрсмд ракета мочь стать чёрный дата для европа о это заявить сенатор алексей пушок в свой twitter по слово политика за испытание мочь последовать размещение американск...   \n",
       "685874  ведущий футбольный чемпионат уйти на зимний каникулы но только не английский премьер лига апл самый время поучаствовать в совместный конкурс букмекерский компания olimp bet и тренажёр игра на ставка social bet новый год по английски с 14 декабрь 2019 ...   \n",
       "\n",
       "        text_len  \\\n",
       "0            118   \n",
       "1             99   \n",
       "2            112   \n",
       "3            194   \n",
       "4            164   \n",
       "...          ...   \n",
       "685870       176   \n",
       "685871       133   \n",
       "685872       215   \n",
       "685873       143   \n",
       "685874       119   \n",
       "\n",
       "                                                                                                                                                                                                                                                                labels  \\\n",
       "0       _ _ _ _ _ _ _ _ _ _ _ W-2957 _ _ W-4400 W-842 _ _ W-1523 _ W-842 _ _ _ W-3458 W-5181 _ _ _ _ W-1454 _ _ _ _ _ W-3833 _ _ _ _ W-1523 _ _ _ _ _ _ W-4156 W-1420 _ _ W-1471 _ _ _ _ _ _ W-5412 _ W-4590 _ _ _ _ _ _ W-3305 _ W-2821 _ _ _ _ _ _ _ _ W-2698 _ _...   \n",
       "1       _ W-805 _ _ _ _ W-1503 _ _ _ _ W-5020 _ W-1940 _ _ _ _ _ _ _ _ _ _ _ _ _ _ _ _ _ _ _ _ _ _ _ W-4935 _ _ _ W-2010 _ _ _ _ W-1503 _ _ _ _ _ _ _ _ _ _ _ _ _ _ _ _ _ _ _ _ _ _ _ _ _ _ _ _ W-3609 _ _ _ _ _ _ W-5029 W-3833 _ _ _ _ _ _ _ _ _ W-4074 _ _ W-254...   \n",
       "2       _ _ _ _ _ _ _ _ _ _ _ _ _ _ _ _ _ _ W-1975 _ _ _ _ _ _ _ _ _ _ _ _ _ _ _ _ _ _ _ _ _ W-4667 _ _ _ _ _ _ _ _ _ _ _ _ _ _ _ _ _ _ _ W-844 _ _ _ _ _ _ _ W-1002 _ _ _ _ _ _ _ _ _ _ _ _ _ _ _ _ _ _ _ _ _ _ W-2297 _ _ W-3851 _ _ _ W-3943 W-3888 _ _ _ _ W-40...   \n",
       "3       _ _ _ _ _ _ _ W-4910 W-3191 _ W-5584 _ _ _ _ _ _ _ _ _ W-4648 _ _ _ _ _ W-1848 _ _ _ _ W-5584 _ _ _ _ _ _ _ _ _ _ _ _ _ _ _ _ _ _ _ _ _ _ _ W-1690 _ _ _ _ _ _ _ _ _ _ _ W-3191 _ _ _ W-2091 _ W-2807 _ W-2568 W-1978 W-3191 _ _ _ W-5584 _ W-4863 _ _ _ _ ...   \n",
       "4       _ _ _ W-2851 _ _ _ W-1089 _ _ _ _ _ W-447 _ _ W-3086 W-3873 _ _ _ _ _ _ _ _ _ _ _ _ W-4447 _ W-4447 _ _ _ _ _ _ _ _ _ _ _ _ _ W-4447 _ _ _ _ W-5564 _ _ _ _ _ _ W-1433 _ _ W-3086 _ W-5253 _ _ _ _ _ _ _ _ _ _ W-3458 _ _ _ _ _ _ _ _ _ W-1947 _ _ W-4447 _...   \n",
       "...                                                                                                                                                                                                                                                                ...   \n",
       "685870  B-2071 I-2071 E-2071 _ _ _ W-2327 _ _ _ _ _ _ _ _ _ B-5347 E-5347 _ W-3506 _ _ W-2498 _ _ _ _ _ _ _ _ _ _ _ _ _ _ _ W-3335 _ _ _ B-3102 E-3102 _ _ _ _ _ W-2297 _ W-3335 W-3906 _ _ _ _ W-5104 _ _ _ _ W-2498 W-1907 _ W-111 _ _ _ _ W-2327 _ _ _ _ _ _ W-4...   \n",
       "685871  _ W-1225 _ _ _ _ W-4275 _ _ _ _ W-5352 _ _ W-2126 _ _ W-3014 _ _ _ _ _ _ _ _ _ _ W-2438 _ _ _ _ _ _ _ _ _ W-192 _ _ _ _ _ _ _ _ _ _ _ W-1503 _ _ W-3302 _ _ _ _ _ _ _ _ _ W-2297 _ _ _ _ _ _ _ _ _ _ _ _ _ _ W-3057 _ _ _ _ _ _ W-1848 _ W-5102 _ _ _ _ _ _...   \n",
       "685872  B-1367 E-1367 W-2327 _ W-3552 _ _ _ _ W-1305 W-3014 _ _ W-2636 B-778 I-778 E-778 _ _ _ _ _ _ _ _ W-5294 _ _ _ W-5564 _ _ _ _ W-3363 _ _ _ _ _ W-4079 _ _ _ _ _ W-2587 W-4816 _ _ _ _ _ _ _ _ _ _ _ _ _ _ _ _ _ _ W-5564 _ _ W-1305 _ _ _ _ _ _ _ B-2892 E-2...   \n",
       "685873  _ _ _ _ B-2422 I-2422 I-2422 I-2422 I-2422 I-2422 I-2422 E-2422 _ _ _ _ _ _ _ W-370 _ _ W-3293 _ W-2269 _ _ _ _ _ W-2498 W-1068 _ _ _ _ W-5511 W-1119 _ _ W-370 _ _ _ _ _ _ _ W-461 W-3922 _ _ W-4816 W-648 _ _ _ _ _ _ _ W-396 _ W-5458 _ _ W-1119 B-4623 ...   \n",
       "685874  W-4841 _ _ _ _ W-4257 _ _ W-5253 _ W-4927 _ _ _ _ W-461 _ _ _ _ _ _ _ _ _ _ _ _ _ _ _ B-756 E-756 _ _ _ _ W-396 _ W-2568 _ _ W-2811 _ W-2568 _ _ _ _ _ _ _ W-3882 _ _ _ _ _ _ _ W-3501 _ _ W-1341 W-85 _ _ _ _ _ W-3335 _ _ _ _ _ _ _ _ _ W-16 _ _ _ _ _ W-...   \n",
       "\n",
       "                                                                                                                                                                                                                                                              text_new  \\\n",
       "0       бой у сопоцкина и друскеник закончиться отступление германец неприятель приблизиться с север к осовцу начать арт борьба с крепость в артиллерийский бой принимать участие тяжёлый кал с ранний утро 14 сентябрь огонь достигнуть значительный напряжение по...   \n",
       "1       фотограф корреспондент daily mirror рассказывать случай который порадовать весь друг животное лейтенант бельгийский артиллерия руководить оборона один из фортов льеж ни за что не хотеть расстаться с свой собака бульдог когда пруссак пробраться между ф...   \n",
       "2       лицо приехать в варшава из люблин передавать что туда доставить швабский зверь взять в плен прусский майор прейскер бывш комендант калиша это здоровый детина с типично прусский наглый лицо и мутный глаз когда это зверь вели с партия пленный по ул и из...   \n",
       "3       как стать известно агентство ассошиэйтед пресс экипаж послед экспедиция на станция мир считать она способный выйти из под контроль командир викт афанасьев сказать мы чувствовать себя хорошо но грустить что оставить станция летать в беспилотный режим g...   \n",
       "4       в зал игровой авт в третий ярус подземный комплекс охотный ряд на манежный площадь в центр мск щл 20 00 прогреметь мощный взрыв по данные фсб погибнуть не менее четыре человек 20 чел ранить однако уточнить оценка число пострадать в результат это взрыв...   \n",
       "...                                                                                                                                                                                                                                                                ...   \n",
       "685870  ваа wada подтвердить право расти на проведение евро 2020 о это сообщить джонатан тейлор предкомиссии по соотв wada он слово приводить associated press вы должный помнить что мы должный придерживаться единый подход для весь вид спорт да в футбол чемпио...   \n",
       "685871  певец сергей шнур раскритиковать свой коллега полина гагарин в эфир шоу голос на первый канал момент передача опубликовать на youtube после выступление подопечный гагарин шнур обратить внимание на номер 17 летний участница алан чочиевой по мнение певе...   \n",
       "685872  министерство юстиция расти предложить изменить правило взыскание долг соответствовать документ опубл на портал проект нпа в частность предлагаться законодательно закрепить использование робот коллектор инструмент для отправка голосовой сообщение для с...   \n",
       "685873  испытание сша ранее запретить договор о ликвидация ракета средний и малый дальность дрсмд ракета мочь стать чёрный дата для евр о это заявл сенатор алекс пушок в свой twitter по сл полить за испытание мочь последовать размещ ама ракета в евр это в сво...   \n",
       "685874  веда футбольный чемпионат уйти на зимн каникулы но только не англ премьер лига апл самый время поучаствовать в совместный конкурс букмекерский компания olimp bet и тренажёр игра на ставка social bet нг по английски с 14 дек 2019 год по 23 янв 2020 год...   \n",
       "\n",
       "                                                                                                                                                                                                                                                            labels_new  \n",
       "0       _ _ _ _ _ _ _ _ _ _ _ _ _ _ _ W-842 _ _ _ _ _ _ _ _ _ W-5181 _ _ _ _ _ _ _ _ _ _ W-3833 _ _ _ _ W-1523 _ _ _ _ _ _ W-4156 _ _ _ W-1471 _ _ _ _ _ _ _ _ W-4590 _ _ _ _ _ _ _ _ W-2821 _ _ _ _ _ _ _ _ _ _ _ _ _ _ _ _ W-1891 _ W-2216 _ W-4782 _ W-3435 _ _ ...  \n",
       "1                                       _ _ _ _ _ _ _ _ _ _ _ _ _ _ _ _ _ _ _ _ _ _ _ _ _ _ _ _ _ _ _ _ _ _ _ _ _ _ _ _ _ W-2010 _ _ _ _ W-1503 _ _ _ _ _ _ _ _ _ _ _ _ _ _ _ _ _ _ _ _ _ _ _ _ _ _ _ _ W-3609 _ _ _ _ _ _ _ _ _ _ _ _ _ _ _ _ _ W-4074 _ _ _ _ W-2568  \n",
       "2             _ _ _ _ _ _ _ _ _ _ _ _ _ _ _ _ _ _ W-1975 _ _ _ _ _ _ _ _ _ _ _ _ _ _ _ _ _ _ _ _ _ W-4667 _ _ _ _ _ _ _ _ _ _ _ _ _ _ _ _ _ _ _ _ _ _ _ _ _ _ _ _ _ _ _ _ _ _ _ _ _ _ _ _ _ _ _ _ _ _ _ _ _ _ W-2297 _ _ _ _ _ _ _ W-3888 _ _ _ _ _ _ _ _ _ _ _ W-2568  \n",
       "3       _ _ _ _ _ _ _ W-4910 _ _ _ _ _ _ _ _ _ _ _ _ W-4648 _ _ _ _ _ _ _ _ _ _ _ _ _ _ _ _ _ _ _ _ _ _ _ _ _ _ _ _ _ _ _ _ _ _ W-1690 _ _ _ _ _ _ _ _ _ _ _ _ _ _ _ _ _ _ _ _ W-1978 W-3191 _ _ _ W-5584 _ W-4863 _ _ _ _ _ _ _ _ _ _ W-4715 _ _ _ W-4782 _ _ _ _ ...  \n",
       "4       _ _ _ W-2851 _ _ _ _ _ _ _ _ _ _ _ _ W-3086 W-3873 _ _ _ _ _ _ _ _ _ _ _ _ _ _ W-4447 _ _ _ _ _ _ _ _ _ _ _ _ _ _ _ _ _ _ W-5564 _ _ _ _ _ _ W-1433 _ _ _ _ W-5253 _ _ _ _ _ _ _ _ _ _ W-3458 _ _ _ _ _ _ _ _ _ _ _ _ W-4447 _ _ _ _ _ _ _ _ _ _ _ _ _ _ _ ...  \n",
       "...                                                                                                                                                                                                                                                                ...  \n",
       "685870  W-2071 _ _ _ W-2327 _ _ _ _ _ _ _ _ _ W-5347 _ W-3506 _ _ _ _ _ _ _ _ _ _ _ _ _ _ _ _ _ _ _ _ _ _ _ _ _ _ _ _ _ W-2297 _ _ _ _ _ _ _ _ _ _ _ _ W-2498 _ _ _ _ _ _ _ _ _ _ _ _ _ _ W-4486 _ _ W-1503 W-4769 _ _ _ _ _ _ _ _ _ W-3771 _ _ _ _ _ _ _ _ _ _ _ _...  \n",
       "685871  _ _ _ _ _ _ _ _ _ _ _ _ _ _ _ _ _ _ _ _ _ _ _ _ _ _ _ _ _ _ _ _ _ _ _ _ _ _ W-192 _ _ _ _ _ _ _ _ _ _ _ _ _ _ _ _ _ _ _ _ _ _ _ _ _ _ _ _ _ _ _ _ _ _ _ _ _ _ _ _ _ _ _ _ _ _ W-1848 _ _ _ _ _ _ _ _ _ _ _ _ _ _ _ _ _ _ _ _ _ _ _ W-5352 _ _ _ _ _ _ _ _ _...  \n",
       "685872  _ _ W-2327 _ _ _ _ _ _ _ W-3014 _ _ _ W-778 _ _ _ _ _ _ _ _ _ _ _ _ _ _ _ _ _ W-3363 _ _ _ _ _ _ _ _ _ _ _ _ _ _ _ _ _ _ _ _ _ _ _ _ _ _ _ _ _ _ _ W-5564 _ _ _ _ _ _ _ _ _ _ _ _ _ _ _ _ _ W-5253 _ _ _ _ _ _ _ _ _ _ _ _ _ _ _ _ _ _ _ _ _ _ _ _ _ W-2327...  \n",
       "685873  _ _ _ _ _ _ _ _ _ _ _ _ _ _ _ _ _ _ _ W-370 _ _ W-3293 _ W-2269 _ _ _ _ _ W-2498 W-1068 _ _ _ _ W-5511 W-1119 _ _ W-370 _ _ _ _ _ _ _ W-461 _ _ _ _ _ _ _ _ _ _ _ _ _ _ W-5458 _ _ _ W-4623 _ _ _ _ _ _ _ _ _ _ _ _ _ _ _ _ _ _ _ _ _ _ _ _ _ _ _ _ _ _ _ _...  \n",
       "685874  W-4841 _ _ _ _ W-4257 _ _ _ _ W-4927 _ _ _ _ _ _ _ _ _ _ _ _ _ _ _ _ _ _ _ _ W-756 _ _ _ _ W-396 _ _ _ _ W-2811 _ W-2568 _ _ _ _ _ _ _ W-3882 _ _ _ _ _ _ _ _ _ _ _ W-85 _ _ _ _ _ _ _ _ _ _ _ _ _ _ _ _ _ _ _ _ _ _ _ _ _ _ _ _ _ _ _ _ _ _ W-3867 _ _ _ _...  \n",
       "\n",
       "[685875 rows x 6 columns]"
      ]
     },
     "execution_count": 15,
     "metadata": {},
     "output_type": "execute_result"
    }
   ],
   "source": [
    "lenta"
   ]
  },
  {
   "cell_type": "markdown",
   "metadata": {},
   "source": [
    "## 5. Резделение на обучение и тест "
   ]
  },
  {
   "cell_type": "code",
   "execution_count": 16,
   "metadata": {},
   "outputs": [],
   "source": [
    "lenta_train, lenta_test = train_test_split(lenta, test_size=0.2, shuffle=True, random_state=SEED)"
   ]
  },
  {
   "cell_type": "markdown",
   "metadata": {},
   "source": [
    "## 6. Сохранение данных"
   ]
  },
  {
   "cell_type": "code",
   "execution_count": 17,
   "metadata": {},
   "outputs": [],
   "source": [
    "lenta_train[[\"text_norm\", \"text_new\", \"labels_new\"]].to_csv(\"../data/lenta_train.csv\", index=False, header=True)\n",
    "lenta_test[[\"text_norm\", \"text_new\", \"labels_new\"]].to_csv(\"../data/lenta_test.csv\", index=False, header=True)"
   ]
  }
 ],
 "metadata": {
  "kernelspec": {
   "display_name": "Python 3",
   "language": "python",
   "name": "python3"
  },
  "language_info": {
   "codemirror_mode": {
    "name": "ipython",
    "version": 3
   },
   "file_extension": ".py",
   "mimetype": "text/x-python",
   "name": "python",
   "nbconvert_exporter": "python",
   "pygments_lexer": "ipython3",
   "version": "3.8.10"
  }
 },
 "nbformat": 4,
 "nbformat_minor": 4
}

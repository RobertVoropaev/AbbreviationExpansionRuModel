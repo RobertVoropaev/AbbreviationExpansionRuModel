{
 "cells": [
  {
   "cell_type": "markdown",
   "metadata": {},
   "source": [
    "# 3. Модель "
   ]
  },
  {
   "cell_type": "code",
   "execution_count": 1,
   "metadata": {},
   "outputs": [
    {
     "name": "stdout",
     "output_type": "stream",
     "text": [
      "INFO: Pandarallel will run on 8 workers.\n",
      "INFO: Pandarallel will use standard multiprocessing data transfer (pipe) to transfer data between the main process and workers.\n"
     ]
    }
   ],
   "source": [
    "import os\n",
    "import sys\n",
    "\n",
    "import pandas as pd\n",
    "import numpy as np\n",
    "import random\n",
    "import itertools\n",
    "\n",
    "from matplotlib import pyplot as plt\n",
    "\n",
    "from tqdm import tqdm\n",
    "\n",
    "from pandarallel import pandarallel\n",
    "\n",
    "import pymorphy2\n",
    "import nltk\n",
    "import pickle\n",
    "\n",
    "from sklearn.model_selection import train_test_split\n",
    "from sklearn.metrics import accuracy_score, classification_report, confusion_matrix, f1_score\n",
    "\n",
    "import numpy as np\n",
    "import torch\n",
    "import torch.nn as nn\n",
    "import torch.nn.functional as F\n",
    "import torch.optim as optim\n",
    "from torch.utils.data import TensorDataset, DataLoader\n",
    "from keras.preprocessing.sequence import pad_sequences\n",
    "\n",
    "SEED = 1\n",
    "def init_random_seed(value=0):\n",
    "    random.seed(value)\n",
    "    np.random.seed(value)\n",
    "    torch.manual_seed(value)\n",
    "    torch.cuda.manual_seed(value)\n",
    "    torch.backends.cudnn.deterministic = True\n",
    "init_random_seed(SEED)\n",
    "    \n",
    "pd.set_option('display.max_colwidth', 255)\n",
    "tqdm.pandas()\n",
    "pandarallel.initialize(progress_bar=True, nb_workers=8, use_memory_fs=False)"
   ]
  },
  {
   "cell_type": "markdown",
   "metadata": {},
   "source": [
    "## 1. Загрузка данных"
   ]
  },
  {
   "cell_type": "code",
   "execution_count": 2,
   "metadata": {},
   "outputs": [],
   "source": [
    "abbr = pd.read_csv(\"../data/abbr.csv\")\n",
    "lenta_train = pd.read_csv(\"../data/lenta_train.csv\")\n",
    "lenta_test = pd.read_csv(\"../data/lenta_test.csv\")"
   ]
  },
  {
   "cell_type": "code",
   "execution_count": 3,
   "metadata": {},
   "outputs": [],
   "source": [
    "id2desc = {}\n",
    "id2abbr = {}\n",
    "for abbr, abbr_id, desc in abbr[[\"abbr_norm\", \"abbr_id\", \"desc_norm\"]].values:\n",
    "    id2desc[abbr_id] = desc\n",
    "    id2abbr[abbr_id] = abbr"
   ]
  },
  {
   "cell_type": "code",
   "execution_count": 4,
   "metadata": {},
   "outputs": [],
   "source": [
    "lenta_train[\"labels_new\"] = (\n",
    "    lenta_train[\"labels_new\"].str.replace(\"W\", \"\")\n",
    "                            .str.replace(\"B\", \"\")\n",
    "                            .str.replace(\"E\", \"\")\n",
    "                            .str.replace(\"-\", \"\")\n",
    ")\n",
    "train_texts = list(map(lambda x: x.split(\" \"), lenta_train[\"text_new\"].to_list()))\n",
    "train_labels = list(map(lambda x: x.split(\" \"), lenta_train[\"labels_new\"].to_list()))\n",
    "\n",
    "lenta_test[\"labels_new\"] = (\n",
    "    lenta_test[\"labels_new\"].str.replace(\"W\", \"\")\n",
    "                            .str.replace(\"B\", \"\")\n",
    "                            .str.replace(\"E\", \"\")\n",
    "                            .str.replace(\"-\", \"\")\n",
    ")\n",
    "test_texts = list(map(lambda x: x.split(\" \"), lenta_test[\"text_new\"].to_list()))\n",
    "test_labels = list(map(lambda x: x.split(\" \"), lenta_test[\"labels_new\"].to_list()))"
   ]
  },
  {
   "cell_type": "markdown",
   "metadata": {},
   "source": [
    "## 2. Сборка датасета"
   ]
  },
  {
   "cell_type": "code",
   "execution_count": 5,
   "metadata": {},
   "outputs": [
    {
     "name": "stdout",
     "output_type": "stream",
     "text": [
      "548700 137175 588317 5611\n"
     ]
    }
   ],
   "source": [
    "PAD_TOKEN = \"<PAD>\"\n",
    "PAD_TOKEN_ID = 0\n",
    "\n",
    "PAD_LABEL = \"<NOLABEL>\"\n",
    "PAD_LABEL_ID = 0\n",
    "\n",
    "EMPTY_LABEL = \"_\"\n",
    "EMPTY_LABEL_ID = 1\n",
    "\n",
    "train_texts_global = list(itertools.chain(*train_texts))\n",
    "train_labels_global = list(itertools.chain(*train_labels))\n",
    "train_labels_global = list(filter(lambda x: x != EMPTY_LABEL, train_labels_global))\n",
    "\n",
    "UNIQUE_TOKENS = [PAD_TOKEN] + list(set(train_texts_global))\n",
    "UNIQUE_LABELS = [PAD_LABEL, EMPTY_LABEL] + list(set(train_labels_global))\n",
    "\n",
    "token2id = {label: i for i, label in enumerate(UNIQUE_TOKENS)}\n",
    "id2token = {i: label for label, i in token2id.items()}\n",
    "\n",
    "label2id = {label: i for i, label in enumerate(UNIQUE_LABELS)}\n",
    "id2label = {i: label for label, i in label2id.items()}\n",
    "\n",
    "MAX_SENTENCE_LEN = lenta_train.text_new.str.split(\" \").str.len().max()\n",
    "train_size = len(train_texts)\n",
    "test_size = len(test_texts)\n",
    "TOKENS_NUM = len(UNIQUE_TOKENS)\n",
    "LABELS_NUM = len(UNIQUE_LABELS)\n",
    "\n",
    "print(train_size, test_size, TOKENS_NUM, LABELS_NUM)"
   ]
  },
  {
   "cell_type": "code",
   "execution_count": 6,
   "metadata": {},
   "outputs": [
    {
     "name": "stderr",
     "output_type": "stream",
     "text": [
      "548700it [05:34, 1640.85it/s]\n",
      "137175it [01:25, 1613.07it/s]\n"
     ]
    }
   ],
   "source": [
    "def get_tensor_dataset(sentences, labels, token2id, label2id, max_sent_len):\n",
    "    sent_num = len(sentences)\n",
    "    \n",
    "    inputs = torch.zeros((sent_num, max_sent_len), dtype=torch.long)\n",
    "    targets = torch.zeros((sent_num, max_sent_len), dtype=torch.long)\n",
    "    \n",
    "    for text_i, text in tqdm(enumerate(sentences)):\n",
    "        text = text[:max_sent_len]\n",
    "        for token_i, token in enumerate(text):\n",
    "            label = labels[text_i][token_i]\n",
    "            inputs[text_i, token_i] = token2id.get(token, 0)\n",
    "            targets[text_i, token_i] = label2id.get(label, 0)\n",
    "            \n",
    "    return TensorDataset(inputs, targets)\n",
    "\n",
    "train_dataset = get_tensor_dataset(sentences=train_texts, \n",
    "                                   labels=train_labels, \n",
    "                                   token2id=token2id, \n",
    "                                   label2id=label2id, \n",
    "                                   max_sent_len=MAX_SENTENCE_LEN)\n",
    "\n",
    "test_dataset = get_tensor_dataset(sentences=test_texts, \n",
    "                                   labels=test_labels, \n",
    "                                   token2id=token2id, \n",
    "                                   label2id=label2id, \n",
    "                                   max_sent_len=MAX_SENTENCE_LEN)"
   ]
  },
  {
   "cell_type": "code",
   "execution_count": 6,
   "metadata": {},
   "outputs": [],
   "source": [
    "# torch.save(train_dataset, \"../data/train_dataset.tensor_dataset\")\n",
    "# torch.save(test_dataset, \"../data/test_dataset.tensor_dataset\")\n",
    "\n",
    "train_dataset = torch.load(\"../data/train_dataset.tensor_dataset\")\n",
    "test_dataset = torch.load(\"../data/test_dataset.tensor_dataset\")"
   ]
  },
  {
   "cell_type": "markdown",
   "metadata": {},
   "source": [
    "## 3. Архитектура"
   ]
  },
  {
   "cell_type": "code",
   "execution_count": 7,
   "metadata": {},
   "outputs": [],
   "source": [
    "class StackedConv1d(nn.Module):\n",
    "    def __init__(self, features_num, layers_n=1, kernel_size=3, dropout=0.0):\n",
    "        super().__init__()\n",
    "        layers = []\n",
    "        for _ in range(layers_n):\n",
    "            conv_block = nn.Sequential(\n",
    "                nn.Conv1d(\n",
    "                    features_num, \n",
    "                    features_num, \n",
    "                    kernel_size, \n",
    "                    padding=kernel_size//2 \n",
    "                ),\n",
    "                nn.Dropout(dropout),\n",
    "                nn.LeakyReLU()\n",
    "            )\n",
    "            layers.append(conv_block)\n",
    "        self.layers = nn.ModuleList(layers)\n",
    "    \n",
    "    def forward(self, x):\n",
    "        \"\"\"x - BatchSize x FeaturesNum x SequenceLen\"\"\"\n",
    "        for layer in self.layers:\n",
    "            x = x + layer(x) \n",
    "        return x\n",
    "\n",
    "class ConvAbbrTagger(nn.Module): \n",
    "    def __init__(self, tokens_num, labels_num, embedding_size=64, **kwargs):\n",
    "        super().__init__()\n",
    "        self.embeddings = nn.Embedding(tokens_num, embedding_size, padding_idx=0)\n",
    "        \n",
    "        self.backbone = StackedConv1d(embedding_size, **kwargs)\n",
    "        \n",
    "        self.out = nn.Linear(embedding_size, labels_num)\n",
    "        self.labels_num = labels_num\n",
    "    \n",
    "    def forward(self, tokens):\n",
    "        \"\"\"tokens - BatchSize x MaxSentenceLen x MaxTokenLen\"\"\"\n",
    "        batch_size, max_sent_len = tokens.shape\n",
    "\n",
    "        embeddings = self.embeddings(tokens)  # BatchSize x MaxSentenceLen x EmbSize\n",
    "        embeddings = embeddings.permute(0, 2, 1)  # BatchSize x EmbSize x MaxTokenLen\n",
    "        \n",
    "        features = self.backbone(embeddings) # BatchSize x EmbSize x MaxTokenLen\n",
    "        logits = self.out(features.permute(0, 2, 1))\n",
    "        \n",
    "        return logits.permute(0, 2, 1)"
   ]
  },
  {
   "cell_type": "code",
   "execution_count": 8,
   "metadata": {},
   "outputs": [],
   "source": [
    "BATCH_SIZE = 128\n",
    "\n",
    "train_dataloader = DataLoader(train_dataset, \n",
    "                              batch_size=BATCH_SIZE, \n",
    "                              shuffle=True,\n",
    "                              num_workers=0)\n",
    "\n",
    "test_dataloader = DataLoader(test_dataset, \n",
    "                              batch_size=BATCH_SIZE, \n",
    "                              shuffle=False,\n",
    "                              num_workers=0)\n",
    "\n",
    "model         = ConvAbbrTagger(TOKENS_NUM, LABELS_NUM, \n",
    "                               embedding_size=64, \n",
    "                               layers_n=3,\n",
    "                               kernel_size=5,\n",
    "                               dropout=0.2)\n",
    "loss_function = F.cross_entropy \n",
    "optimizer     = optim.Adam(model.parameters(), lr=1e-2)"
   ]
  },
  {
   "cell_type": "code",
   "execution_count": 9,
   "metadata": {},
   "outputs": [
    {
     "name": "stdout",
     "output_type": "stream",
     "text": [
      "torch.Size([588317, 64])\n",
      "torch.Size([64, 64, 5])\n",
      "torch.Size([64])\n",
      "torch.Size([64, 64, 5])\n",
      "torch.Size([64])\n",
      "torch.Size([64, 64, 5])\n",
      "torch.Size([64])\n",
      "torch.Size([5611, 64])\n",
      "torch.Size([5611])\n",
      "Количество параметров 38078635\n"
     ]
    }
   ],
   "source": [
    "for t in model.parameters():\n",
    "    print(t.shape)\n",
    "\n",
    "print('Количество параметров', sum(np.product(t.shape) for t in model.parameters()))"
   ]
  },
  {
   "cell_type": "markdown",
   "metadata": {},
   "source": [
    "## 4. Обучение "
   ]
  },
  {
   "cell_type": "code",
   "execution_count": 10,
   "metadata": {},
   "outputs": [
    {
     "data": {
      "image/png": "[encoded data removed]",
      "text/plain": [
       "<Figure size 864x576 with 2 Axes>"
      ]
     },
     "metadata": {
      "needs_background": "light"
     },
     "output_type": "display_data"
    },
    {
     "name": "stdout",
     "output_type": "stream",
     "text": [
      "logloss\n",
      "\ttraining         \t (min:    0.026, max:    0.650, cur:    0.026)\n",
      "\tvalidation       \t (min:    0.025, max:    0.081, cur:    0.026)\n",
      "macro_f1\n",
      "\ttraining         \t (min:    0.261, max:    0.779, cur:    0.777)\n",
      "\tvalidation       \t (min:    0.573, max:    0.818, cur:    0.808)\n"
     ]
    }
   ],
   "source": [
    "from livelossplot import PlotLosses\n",
    "\n",
    "def copy_data_to_device(data, device):\n",
    "    if torch.is_tensor(data):\n",
    "        return data.to(device)\n",
    "    elif isinstance(data, (list, tuple)):\n",
    "        return [copy_data_to_device(elem, device) for elem in data]\n",
    "    raise ValueError('Недопустимый тип данных {}'.format(type(data)))\n",
    "\n",
    "def get_f1_score(batch_y, pred):\n",
    "    pred_argmax = pred.argmax(1).cpu().detach().numpy().reshape(-1)\n",
    "    batch_y = batch_y.cpu().detach().numpy().reshape(-1)\n",
    "    return f1_score(batch_y, pred_argmax, average=\"macro\")\n",
    "    \n",
    "liveplot = PlotLosses(groups={\"logloss\": [\"train_logloss\", \"val_logloss\"], \n",
    "                              \"macro_f1\": [\"train_f1\", \"val_f1\"]})\n",
    "epoch_n = 100\n",
    "steps_per_epoch = 100\n",
    "\n",
    "device = torch.device(\"cuda\")\n",
    "model.to(device)\n",
    "\n",
    "for epoch_i in range(epoch_n):\n",
    "    model.train()\n",
    "    loss_sum = 0\n",
    "    f1_sum = 0\n",
    "    batch_n = 0\n",
    "    for batch_i, (batch_x, batch_y) in enumerate(train_dataloader):\n",
    "        if batch_i > steps_per_epoch:\n",
    "            break\n",
    "            \n",
    "        batch_x = copy_data_to_device(batch_x, device)\n",
    "        batch_y = copy_data_to_device(batch_y, device)        \n",
    "\n",
    "        pred = model(batch_x)\n",
    "        loss = loss_function(pred, batch_y)\n",
    "        \n",
    "        model.zero_grad() \n",
    "        loss.backward() \n",
    "        optimizer.step()\n",
    "        \n",
    "        loss_sum += float(loss)\n",
    "        f1_sum += float(get_f1_score(batch_y, pred))\n",
    "        batch_n += 1\n",
    "\n",
    "    model.eval()\n",
    "    val_loss_sum = 0\n",
    "    val_f1_sum = 0\n",
    "    val_batch_n = 0\n",
    "    with torch.no_grad():\n",
    "        for batch_i, (batch_x, batch_y) in enumerate(test_dataloader):\n",
    "            if batch_i > test_size // BATCH_SIZE:\n",
    "                break\n",
    "        batch_x = copy_data_to_device(batch_x, device)\n",
    "        batch_y = copy_data_to_device(batch_y, device)        \n",
    "\n",
    "        pred = model(batch_x)\n",
    "        loss = loss_function(pred, batch_y)\n",
    "        \n",
    "        val_loss_sum += float(loss)\n",
    "        val_f1_sum += float(get_f1_score(batch_y, pred))\n",
    "        val_batch_n += 1\n",
    "    \n",
    "    liveplot.update({'train_logloss': loss_sum / batch_n, \n",
    "                     'val_logloss': val_loss_sum / val_batch_n,\n",
    "                     'train_f1': f1_sum / batch_n,\n",
    "                     'val_f1': val_f1_sum / val_batch_n})\n",
    "    liveplot.draw()"
   ]
  },
  {
   "cell_type": "markdown",
   "metadata": {},
   "source": [
    "## 5. Оценка качества "
   ]
  },
  {
   "cell_type": "code",
   "execution_count": null,
   "metadata": {},
   "outputs": [
    {
     "name": "stderr",
     "output_type": "stream",
     "text": [
      "  2%|▏         | 22/1071.6796875 [00:05<07:05,  2.47it/s]"
     ]
    }
   ],
   "source": [
    "from tqdm import tqdm\n",
    "\n",
    "model.eval()\n",
    "\n",
    "results_by_batch = []\n",
    "labels = []\n",
    "with torch.no_grad():\n",
    "    for batch_x, batch_y in tqdm(test_dataloader, \n",
    "                                      total=len(test_dataset)/BATCH_SIZE):\n",
    "        batch_x = copy_data_to_device(batch_x, device)\n",
    "\n",
    "        \n",
    "        labels.append(batch_y.numpy())\n",
    "\n",
    "        batch_pred = model(batch_x)\n",
    "        results_by_batch.append(batch_pred.detach().cpu().numpy())\n",
    "\n",
    "\n",
    "pred = np.concatenate(results_by_batch, axis=0)"
   ]
  },
  {
   "cell_type": "code",
   "execution_count": null,
   "metadata": {},
   "outputs": [],
   "source": [
    "\n",
    "\n",
    "train_pred = predict_with_model(single_token_model, train_dataset)\n",
    "train_loss = F.cross_entropy(torch.tensor(train_pred),\n",
    "                             torch.tensor(train_labels))\n",
    "print('Среднее значение функции потерь на обучении', float(train_loss))\n",
    "print(classification_report(train_labels.view(-1), train_pred.argmax(1).reshape(-1), target_names=UNIQUE_TAGS))\n",
    "print()\n",
    "\n",
    "test_pred = predict_with_model(single_token_model, test_dataset)\n",
    "test_loss = F.cross_entropy(torch.tensor(test_pred),\n",
    "                            torch.tensor(test_labels))\n",
    "print('Среднее значение функции потерь на валидации', float(test_loss))\n",
    "print(classification_report(test_labels.view(-1), test_pred.argmax(1).reshape(-1), target_names=UNIQUE_TAGS))"
   ]
  },
  {
   "cell_type": "code",
   "execution_count": 149,
   "metadata": {},
   "outputs": [
    {
     "ename": "ValueError",
     "evalue": "not enough values to unpack (expected 2, got 1)",
     "output_type": "error",
     "traceback": [
      "\u001b[0;31m---------------------------------------------------------------------------\u001b[0m",
      "\u001b[0;31mValueError\u001b[0m                                Traceback (most recent call last)",
      "\u001b[0;32m<ipython-input-149-38ae1317e1ce>\u001b[0m in \u001b[0;36m<module>\u001b[0;34m\u001b[0m\n\u001b[0;32m----> 1\u001b[0;31m \u001b[0mpred_argmax\u001b[0m \u001b[0;34m=\u001b[0m \u001b[0mpred\u001b[0m \u001b[0;34m=\u001b[0m \u001b[0mmodel\u001b[0m\u001b[0;34m(\u001b[0m\u001b[0mbatch_x\u001b[0m\u001b[0;34m)\u001b[0m\u001b[0;34m.\u001b[0m\u001b[0margmax\u001b[0m\u001b[0;34m(\u001b[0m\u001b[0;36m1\u001b[0m\u001b[0;34m)\u001b[0m\u001b[0;34m.\u001b[0m\u001b[0mcpu\u001b[0m\u001b[0;34m(\u001b[0m\u001b[0;34m)\u001b[0m\u001b[0;34m.\u001b[0m\u001b[0mdetach\u001b[0m\u001b[0;34m(\u001b[0m\u001b[0;34m)\u001b[0m\u001b[0;34m.\u001b[0m\u001b[0mnumpy\u001b[0m\u001b[0;34m(\u001b[0m\u001b[0;34m)\u001b[0m\u001b[0;34m.\u001b[0m\u001b[0mreshape\u001b[0m\u001b[0;34m(\u001b[0m\u001b[0;34m-\u001b[0m\u001b[0;36m1\u001b[0m\u001b[0;34m)\u001b[0m\u001b[0;34m\u001b[0m\u001b[0;34m\u001b[0m\u001b[0m\n\u001b[0m\u001b[1;32m      2\u001b[0m \u001b[0mbatch_y\u001b[0m \u001b[0;34m=\u001b[0m \u001b[0mbatch_y\u001b[0m\u001b[0;34m.\u001b[0m\u001b[0mcpu\u001b[0m\u001b[0;34m(\u001b[0m\u001b[0;34m)\u001b[0m\u001b[0;34m.\u001b[0m\u001b[0mdetach\u001b[0m\u001b[0;34m(\u001b[0m\u001b[0;34m)\u001b[0m\u001b[0;34m.\u001b[0m\u001b[0mnumpy\u001b[0m\u001b[0;34m(\u001b[0m\u001b[0;34m)\u001b[0m\u001b[0;34m.\u001b[0m\u001b[0mreshape\u001b[0m\u001b[0;34m(\u001b[0m\u001b[0;34m-\u001b[0m\u001b[0;36m1\u001b[0m\u001b[0;34m)\u001b[0m\u001b[0;34m\u001b[0m\u001b[0;34m\u001b[0m\u001b[0m\n\u001b[1;32m      3\u001b[0m \u001b[0mbatch_x\u001b[0m \u001b[0;34m=\u001b[0m \u001b[0mbatch_x\u001b[0m\u001b[0;34m.\u001b[0m\u001b[0mcpu\u001b[0m\u001b[0;34m(\u001b[0m\u001b[0;34m)\u001b[0m\u001b[0;34m.\u001b[0m\u001b[0mdetach\u001b[0m\u001b[0;34m(\u001b[0m\u001b[0;34m)\u001b[0m\u001b[0;34m.\u001b[0m\u001b[0mnumpy\u001b[0m\u001b[0;34m(\u001b[0m\u001b[0;34m)\u001b[0m\u001b[0;34m.\u001b[0m\u001b[0mreshape\u001b[0m\u001b[0;34m(\u001b[0m\u001b[0;34m-\u001b[0m\u001b[0;36m1\u001b[0m\u001b[0;34m)\u001b[0m\u001b[0;34m\u001b[0m\u001b[0;34m\u001b[0m\u001b[0m\n",
      "\u001b[0;32m~/.local/lib/python3.8/site-packages/torch/nn/modules/module.py\u001b[0m in \u001b[0;36m_call_impl\u001b[0;34m(self, *input, **kwargs)\u001b[0m\n\u001b[1;32m   1108\u001b[0m         if not (self._backward_hooks or self._forward_hooks or self._forward_pre_hooks or _global_backward_hooks\n\u001b[1;32m   1109\u001b[0m                 or _global_forward_hooks or _global_forward_pre_hooks):\n\u001b[0;32m-> 1110\u001b[0;31m             \u001b[0;32mreturn\u001b[0m \u001b[0mforward_call\u001b[0m\u001b[0;34m(\u001b[0m\u001b[0;34m*\u001b[0m\u001b[0minput\u001b[0m\u001b[0;34m,\u001b[0m \u001b[0;34m**\u001b[0m\u001b[0mkwargs\u001b[0m\u001b[0;34m)\u001b[0m\u001b[0;34m\u001b[0m\u001b[0;34m\u001b[0m\u001b[0m\n\u001b[0m\u001b[1;32m   1111\u001b[0m         \u001b[0;31m# Do not call functions when jit is used\u001b[0m\u001b[0;34m\u001b[0m\u001b[0;34m\u001b[0m\u001b[0;34m\u001b[0m\u001b[0m\n\u001b[1;32m   1112\u001b[0m         \u001b[0mfull_backward_hooks\u001b[0m\u001b[0;34m,\u001b[0m \u001b[0mnon_full_backward_hooks\u001b[0m \u001b[0;34m=\u001b[0m \u001b[0;34m[\u001b[0m\u001b[0;34m]\u001b[0m\u001b[0;34m,\u001b[0m \u001b[0;34m[\u001b[0m\u001b[0;34m]\u001b[0m\u001b[0;34m\u001b[0m\u001b[0;34m\u001b[0m\u001b[0m\n",
      "\u001b[0;32m<ipython-input-12-9cc5e1fb372e>\u001b[0m in \u001b[0;36mforward\u001b[0;34m(self, tokens)\u001b[0m\n\u001b[1;32m     35\u001b[0m     \u001b[0;32mdef\u001b[0m \u001b[0mforward\u001b[0m\u001b[0;34m(\u001b[0m\u001b[0mself\u001b[0m\u001b[0;34m,\u001b[0m \u001b[0mtokens\u001b[0m\u001b[0;34m)\u001b[0m\u001b[0;34m:\u001b[0m\u001b[0;34m\u001b[0m\u001b[0;34m\u001b[0m\u001b[0m\n\u001b[1;32m     36\u001b[0m         \u001b[0;34m\"\"\"tokens - BatchSize x MaxSentenceLen x MaxTokenLen\"\"\"\u001b[0m\u001b[0;34m\u001b[0m\u001b[0;34m\u001b[0m\u001b[0m\n\u001b[0;32m---> 37\u001b[0;31m         \u001b[0mbatch_size\u001b[0m\u001b[0;34m,\u001b[0m \u001b[0mmax_sent_len\u001b[0m \u001b[0;34m=\u001b[0m \u001b[0mtokens\u001b[0m\u001b[0;34m.\u001b[0m\u001b[0mshape\u001b[0m\u001b[0;34m\u001b[0m\u001b[0;34m\u001b[0m\u001b[0m\n\u001b[0m\u001b[1;32m     38\u001b[0m \u001b[0;34m\u001b[0m\u001b[0m\n\u001b[1;32m     39\u001b[0m         \u001b[0membeddings\u001b[0m \u001b[0;34m=\u001b[0m \u001b[0mself\u001b[0m\u001b[0;34m.\u001b[0m\u001b[0membeddings\u001b[0m\u001b[0;34m(\u001b[0m\u001b[0mtokens\u001b[0m\u001b[0;34m)\u001b[0m  \u001b[0;31m# BatchSize x MaxSentenceLen x EmbSize\u001b[0m\u001b[0;34m\u001b[0m\u001b[0;34m\u001b[0m\u001b[0m\n",
      "\u001b[0;31mValueError\u001b[0m: not enough values to unpack (expected 2, got 1)"
     ]
    }
   ],
   "source": [
    "pred_argmax = pred = model(batch_x).argmax(1).cpu().detach().numpy().reshape(-1)\n",
    "batch_y = batch_y.cpu().detach().numpy().reshape(-1)\n",
    "batch_x = batch_x.cpu().detach().numpy().reshape(-1)"
   ]
  },
  {
   "cell_type": "code",
   "execution_count": 128,
   "metadata": {},
   "outputs": [],
   "source": [
    "x, y = test_dataset[0]\n",
    "pred = model(torch.from_numpy(np.array([[t.numpy() for t in x]])).to(device))\n",
    "\n",
    "pred = pred.argmax(1).cpu().detach().numpy().reshape(-1)\n",
    "y = y.cpu().detach().numpy().reshape(-1)\n",
    "x = x.cpu().detach().numpy().reshape(-1)"
   ]
  },
  {
   "cell_type": "code",
   "execution_count": 136,
   "metadata": {},
   "outputs": [],
   "source": [
    "text = []\n",
    "true_labels = []\n",
    "pred_labels = []\n",
    "for token, y_label, pred_label in zip(x, y, pred):\n",
    "    if y_label != 0:\n",
    "        text.append(id2token[token])\n",
    "        true_labels.append(id2label[y_label])\n",
    "        pred_labels.append(id2label[pred_label])"
   ]
  },
  {
   "cell_type": "code",
   "execution_count": null,
   "metadata": {},
   "outputs": [],
   "source": []
  }
 ],
 "metadata": {
  "kernelspec": {
   "display_name": "Python 3",
   "language": "python",
   "name": "python3"
  },
  "language_info": {
   "codemirror_mode": {
    "name": "ipython",
    "version": 3
   },
   "file_extension": ".py",
   "mimetype": "text/x-python",
   "name": "python",
   "nbconvert_exporter": "python",
   "pygments_lexer": "ipython3",
   "version": "3.8.10"
  }
 },
 "nbformat": 4,
 "nbformat_minor": 4
}
